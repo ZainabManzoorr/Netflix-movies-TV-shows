{
 "cells": [
  {
   "cell_type": "code",
   "execution_count": 2,
   "id": "17e913ad",
   "metadata": {},
   "outputs": [
    {
     "name": "stderr",
     "output_type": "stream",
     "text": [
      "c:\\Users\\ENVY\\OneDrive\\Desktop\\projects\\Netflix-movies-TV-shows\\.venv\\Lib\\site-packages\\tqdm\\auto.py:21: TqdmWarning: IProgress not found. Please update jupyter and ipywidgets. See https://ipywidgets.readthedocs.io/en/stable/user_install.html\n",
      "  from .autonotebook import tqdm as notebook_tqdm\n"
     ]
    },
    {
     "name": "stdout",
     "output_type": "stream",
     "text": [
      "Path to dataset files: C:\\Users\\ENVY\\.cache\\kagglehub\\datasets\\shivamb\\netflix-shows\\versions\\5\n"
     ]
    }
   ],
   "source": [
    "import kagglehub\n",
    "\n",
    "# Download latest version\n",
    "path = kagglehub.dataset_download(\"shivamb/netflix-shows\")\n",
    "\n",
    "print(\"Path to dataset files:\", path)"
   ]
  },
  {
   "cell_type": "code",
   "execution_count": 3,
   "id": "4339d090",
   "metadata": {},
   "outputs": [
    {
     "data": {
      "text/plain": [
       "['netflix_titles.csv']"
      ]
     },
     "execution_count": 3,
     "metadata": {},
     "output_type": "execute_result"
    }
   ],
   "source": [
    "import os\n",
    "os.listdir(path)"
   ]
  },
  {
   "cell_type": "code",
   "execution_count": 4,
   "id": "0f68895c",
   "metadata": {},
   "outputs": [
    {
     "data": {
      "application/vnd.microsoft.datawrangler.viewer.v0+json": {
       "columns": [
        {
         "name": "index",
         "rawType": "int64",
         "type": "integer"
        },
        {
         "name": "show_id",
         "rawType": "object",
         "type": "string"
        },
        {
         "name": "type",
         "rawType": "object",
         "type": "string"
        },
        {
         "name": "title",
         "rawType": "object",
         "type": "string"
        },
        {
         "name": "director",
         "rawType": "object",
         "type": "unknown"
        },
        {
         "name": "cast",
         "rawType": "object",
         "type": "unknown"
        },
        {
         "name": "country",
         "rawType": "object",
         "type": "unknown"
        },
        {
         "name": "date_added",
         "rawType": "object",
         "type": "string"
        },
        {
         "name": "release_year",
         "rawType": "int64",
         "type": "integer"
        },
        {
         "name": "rating",
         "rawType": "object",
         "type": "string"
        },
        {
         "name": "duration",
         "rawType": "object",
         "type": "string"
        },
        {
         "name": "listed_in",
         "rawType": "object",
         "type": "string"
        },
        {
         "name": "description",
         "rawType": "object",
         "type": "string"
        }
       ],
       "ref": "92d249f2-e8ee-4929-a54e-1db57cda499a",
       "rows": [
        [
         "0",
         "s1",
         "Movie",
         "Dick Johnson Is Dead",
         "Kirsten Johnson",
         null,
         "United States",
         "September 25, 2021",
         "2020",
         "PG-13",
         "90 min",
         "Documentaries",
         "As her father nears the end of his life, filmmaker Kirsten Johnson stages his death in inventive and comical ways to help them both face the inevitable."
        ],
        [
         "1",
         "s2",
         "TV Show",
         "Blood & Water",
         null,
         "Ama Qamata, Khosi Ngema, Gail Mabalane, Thabang Molaba, Dillon Windvogel, Natasha Thahane, Arno Greeff, Xolile Tshabalala, Getmore Sithole, Cindy Mahlangu, Ryle De Morny, Greteli Fincham, Sello Maake Ka-Ncube, Odwa Gwanya, Mekaila Mathys, Sandi Schultz, Duane Williams, Shamilla Miller, Patrick Mofokeng",
         "South Africa",
         "September 24, 2021",
         "2021",
         "TV-MA",
         "2 Seasons",
         "International TV Shows, TV Dramas, TV Mysteries",
         "After crossing paths at a party, a Cape Town teen sets out to prove whether a private-school swimming star is her sister who was abducted at birth."
        ],
        [
         "2",
         "s3",
         "TV Show",
         "Ganglands",
         "Julien Leclercq",
         "Sami Bouajila, Tracy Gotoas, Samuel Jouy, Nabiha Akkari, Sofia Lesaffre, Salim Kechiouche, Noureddine Farihi, Geert Van Rampelberg, Bakary Diombera",
         null,
         "September 24, 2021",
         "2021",
         "TV-MA",
         "1 Season",
         "Crime TV Shows, International TV Shows, TV Action & Adventure",
         "To protect his family from a powerful drug lord, skilled thief Mehdi and his expert team of robbers are pulled into a violent and deadly turf war."
        ],
        [
         "3",
         "s4",
         "TV Show",
         "Jailbirds New Orleans",
         null,
         null,
         null,
         "September 24, 2021",
         "2021",
         "TV-MA",
         "1 Season",
         "Docuseries, Reality TV",
         "Feuds, flirtations and toilet talk go down among the incarcerated women at the Orleans Justice Center in New Orleans on this gritty reality series."
        ],
        [
         "4",
         "s5",
         "TV Show",
         "Kota Factory",
         null,
         "Mayur More, Jitendra Kumar, Ranjan Raj, Alam Khan, Ahsaas Channa, Revathi Pillai, Urvi Singh, Arun Kumar",
         "India",
         "September 24, 2021",
         "2021",
         "TV-MA",
         "2 Seasons",
         "International TV Shows, Romantic TV Shows, TV Comedies",
         "In a city of coaching centers known to train India’s finest collegiate minds, an earnest but unexceptional student and his friends navigate campus life."
        ]
       ],
       "shape": {
        "columns": 12,
        "rows": 5
       }
      },
      "text/html": [
       "<div>\n",
       "<style scoped>\n",
       "    .dataframe tbody tr th:only-of-type {\n",
       "        vertical-align: middle;\n",
       "    }\n",
       "\n",
       "    .dataframe tbody tr th {\n",
       "        vertical-align: top;\n",
       "    }\n",
       "\n",
       "    .dataframe thead th {\n",
       "        text-align: right;\n",
       "    }\n",
       "</style>\n",
       "<table border=\"1\" class=\"dataframe\">\n",
       "  <thead>\n",
       "    <tr style=\"text-align: right;\">\n",
       "      <th></th>\n",
       "      <th>show_id</th>\n",
       "      <th>type</th>\n",
       "      <th>title</th>\n",
       "      <th>director</th>\n",
       "      <th>cast</th>\n",
       "      <th>country</th>\n",
       "      <th>date_added</th>\n",
       "      <th>release_year</th>\n",
       "      <th>rating</th>\n",
       "      <th>duration</th>\n",
       "      <th>listed_in</th>\n",
       "      <th>description</th>\n",
       "    </tr>\n",
       "  </thead>\n",
       "  <tbody>\n",
       "    <tr>\n",
       "      <th>0</th>\n",
       "      <td>s1</td>\n",
       "      <td>Movie</td>\n",
       "      <td>Dick Johnson Is Dead</td>\n",
       "      <td>Kirsten Johnson</td>\n",
       "      <td>NaN</td>\n",
       "      <td>United States</td>\n",
       "      <td>September 25, 2021</td>\n",
       "      <td>2020</td>\n",
       "      <td>PG-13</td>\n",
       "      <td>90 min</td>\n",
       "      <td>Documentaries</td>\n",
       "      <td>As her father nears the end of his life, filmm...</td>\n",
       "    </tr>\n",
       "    <tr>\n",
       "      <th>1</th>\n",
       "      <td>s2</td>\n",
       "      <td>TV Show</td>\n",
       "      <td>Blood &amp; Water</td>\n",
       "      <td>NaN</td>\n",
       "      <td>Ama Qamata, Khosi Ngema, Gail Mabalane, Thaban...</td>\n",
       "      <td>South Africa</td>\n",
       "      <td>September 24, 2021</td>\n",
       "      <td>2021</td>\n",
       "      <td>TV-MA</td>\n",
       "      <td>2 Seasons</td>\n",
       "      <td>International TV Shows, TV Dramas, TV Mysteries</td>\n",
       "      <td>After crossing paths at a party, a Cape Town t...</td>\n",
       "    </tr>\n",
       "    <tr>\n",
       "      <th>2</th>\n",
       "      <td>s3</td>\n",
       "      <td>TV Show</td>\n",
       "      <td>Ganglands</td>\n",
       "      <td>Julien Leclercq</td>\n",
       "      <td>Sami Bouajila, Tracy Gotoas, Samuel Jouy, Nabi...</td>\n",
       "      <td>NaN</td>\n",
       "      <td>September 24, 2021</td>\n",
       "      <td>2021</td>\n",
       "      <td>TV-MA</td>\n",
       "      <td>1 Season</td>\n",
       "      <td>Crime TV Shows, International TV Shows, TV Act...</td>\n",
       "      <td>To protect his family from a powerful drug lor...</td>\n",
       "    </tr>\n",
       "    <tr>\n",
       "      <th>3</th>\n",
       "      <td>s4</td>\n",
       "      <td>TV Show</td>\n",
       "      <td>Jailbirds New Orleans</td>\n",
       "      <td>NaN</td>\n",
       "      <td>NaN</td>\n",
       "      <td>NaN</td>\n",
       "      <td>September 24, 2021</td>\n",
       "      <td>2021</td>\n",
       "      <td>TV-MA</td>\n",
       "      <td>1 Season</td>\n",
       "      <td>Docuseries, Reality TV</td>\n",
       "      <td>Feuds, flirtations and toilet talk go down amo...</td>\n",
       "    </tr>\n",
       "    <tr>\n",
       "      <th>4</th>\n",
       "      <td>s5</td>\n",
       "      <td>TV Show</td>\n",
       "      <td>Kota Factory</td>\n",
       "      <td>NaN</td>\n",
       "      <td>Mayur More, Jitendra Kumar, Ranjan Raj, Alam K...</td>\n",
       "      <td>India</td>\n",
       "      <td>September 24, 2021</td>\n",
       "      <td>2021</td>\n",
       "      <td>TV-MA</td>\n",
       "      <td>2 Seasons</td>\n",
       "      <td>International TV Shows, Romantic TV Shows, TV ...</td>\n",
       "      <td>In a city of coaching centers known to train I...</td>\n",
       "    </tr>\n",
       "  </tbody>\n",
       "</table>\n",
       "</div>"
      ],
      "text/plain": [
       "  show_id     type                  title         director  \\\n",
       "0      s1    Movie   Dick Johnson Is Dead  Kirsten Johnson   \n",
       "1      s2  TV Show          Blood & Water              NaN   \n",
       "2      s3  TV Show              Ganglands  Julien Leclercq   \n",
       "3      s4  TV Show  Jailbirds New Orleans              NaN   \n",
       "4      s5  TV Show           Kota Factory              NaN   \n",
       "\n",
       "                                                cast        country  \\\n",
       "0                                                NaN  United States   \n",
       "1  Ama Qamata, Khosi Ngema, Gail Mabalane, Thaban...   South Africa   \n",
       "2  Sami Bouajila, Tracy Gotoas, Samuel Jouy, Nabi...            NaN   \n",
       "3                                                NaN            NaN   \n",
       "4  Mayur More, Jitendra Kumar, Ranjan Raj, Alam K...          India   \n",
       "\n",
       "           date_added  release_year rating   duration  \\\n",
       "0  September 25, 2021          2020  PG-13     90 min   \n",
       "1  September 24, 2021          2021  TV-MA  2 Seasons   \n",
       "2  September 24, 2021          2021  TV-MA   1 Season   \n",
       "3  September 24, 2021          2021  TV-MA   1 Season   \n",
       "4  September 24, 2021          2021  TV-MA  2 Seasons   \n",
       "\n",
       "                                           listed_in  \\\n",
       "0                                      Documentaries   \n",
       "1    International TV Shows, TV Dramas, TV Mysteries   \n",
       "2  Crime TV Shows, International TV Shows, TV Act...   \n",
       "3                             Docuseries, Reality TV   \n",
       "4  International TV Shows, Romantic TV Shows, TV ...   \n",
       "\n",
       "                                         description  \n",
       "0  As her father nears the end of his life, filmm...  \n",
       "1  After crossing paths at a party, a Cape Town t...  \n",
       "2  To protect his family from a powerful drug lor...  \n",
       "3  Feuds, flirtations and toilet talk go down amo...  \n",
       "4  In a city of coaching centers known to train I...  "
      ]
     },
     "execution_count": 4,
     "metadata": {},
     "output_type": "execute_result"
    }
   ],
   "source": [
    "import pandas as pd\n",
    "df = pd.read_csv(os.path.join(path, \"netflix_titles.csv\"))\n",
    "df.head()\n"
   ]
  },
  {
   "cell_type": "code",
   "execution_count": 7,
   "id": "02a603fe",
   "metadata": {},
   "outputs": [
    {
     "data": {
      "text/plain": [
       "(8807, 12)"
      ]
     },
     "execution_count": 7,
     "metadata": {},
     "output_type": "execute_result"
    }
   ],
   "source": [
    "df.shape\n"
   ]
  },
  {
   "cell_type": "code",
   "execution_count": 8,
   "id": "4997c2fc",
   "metadata": {},
   "outputs": [
    {
     "data": {
      "text/plain": [
       "Index(['show_id', 'type', 'title', 'director', 'cast', 'country', 'date_added',\n",
       "       'release_year', 'rating', 'duration', 'listed_in', 'description'],\n",
       "      dtype='object')"
      ]
     },
     "execution_count": 8,
     "metadata": {},
     "output_type": "execute_result"
    }
   ],
   "source": [
    "df.columns"
   ]
  },
  {
   "cell_type": "code",
   "execution_count": 5,
   "id": "b2d25347",
   "metadata": {},
   "outputs": [
    {
     "name": "stdout",
     "output_type": "stream",
     "text": [
      "<class 'pandas.core.frame.DataFrame'>\n",
      "RangeIndex: 8807 entries, 0 to 8806\n",
      "Data columns (total 12 columns):\n",
      " #   Column        Non-Null Count  Dtype \n",
      "---  ------        --------------  ----- \n",
      " 0   show_id       8807 non-null   object\n",
      " 1   type          8807 non-null   object\n",
      " 2   title         8807 non-null   object\n",
      " 3   director      6173 non-null   object\n",
      " 4   cast          7982 non-null   object\n",
      " 5   country       7976 non-null   object\n",
      " 6   date_added    8797 non-null   object\n",
      " 7   release_year  8807 non-null   int64 \n",
      " 8   rating        8803 non-null   object\n",
      " 9   duration      8804 non-null   object\n",
      " 10  listed_in     8807 non-null   object\n",
      " 11  description   8807 non-null   object\n",
      "dtypes: int64(1), object(11)\n",
      "memory usage: 825.8+ KB\n"
     ]
    }
   ],
   "source": [
    "df.info()"
   ]
  },
  {
   "cell_type": "code",
   "execution_count": 9,
   "id": "56cacacd",
   "metadata": {},
   "outputs": [
    {
     "data": {
      "application/vnd.microsoft.datawrangler.viewer.v0+json": {
       "columns": [
        {
         "name": "index",
         "rawType": "object",
         "type": "string"
        },
        {
         "name": "0",
         "rawType": "int64",
         "type": "integer"
        }
       ],
       "ref": "548062cb-8aa4-436e-95d6-3a6d65c18c5f",
       "rows": [
        [
         "director",
         "2634"
        ],
        [
         "country",
         "831"
        ],
        [
         "cast",
         "825"
        ],
        [
         "date_added",
         "10"
        ],
        [
         "rating",
         "4"
        ],
        [
         "duration",
         "3"
        ],
        [
         "show_id",
         "0"
        ],
        [
         "type",
         "0"
        ],
        [
         "title",
         "0"
        ],
        [
         "release_year",
         "0"
        ],
        [
         "listed_in",
         "0"
        ],
        [
         "description",
         "0"
        ]
       ],
       "shape": {
        "columns": 1,
        "rows": 12
       }
      },
      "text/plain": [
       "director        2634\n",
       "country          831\n",
       "cast             825\n",
       "date_added        10\n",
       "rating             4\n",
       "duration           3\n",
       "show_id            0\n",
       "type               0\n",
       "title              0\n",
       "release_year       0\n",
       "listed_in          0\n",
       "description        0\n",
       "dtype: int64"
      ]
     },
     "execution_count": 9,
     "metadata": {},
     "output_type": "execute_result"
    }
   ],
   "source": [
    "df.isnull().sum().sort_values(ascending=False)"
   ]
  },
  {
   "cell_type": "code",
   "execution_count": 10,
   "id": "934d6833",
   "metadata": {},
   "outputs": [
    {
     "data": {
      "application/vnd.microsoft.datawrangler.viewer.v0+json": {
       "columns": [
        {
         "name": "index",
         "rawType": "int64",
         "type": "integer"
        },
        {
         "name": "show_id",
         "rawType": "object",
         "type": "string"
        },
        {
         "name": "type",
         "rawType": "object",
         "type": "string"
        },
        {
         "name": "title",
         "rawType": "object",
         "type": "string"
        },
        {
         "name": "director",
         "rawType": "object",
         "type": "unknown"
        },
        {
         "name": "cast",
         "rawType": "object",
         "type": "unknown"
        },
        {
         "name": "country",
         "rawType": "object",
         "type": "unknown"
        },
        {
         "name": "date_added",
         "rawType": "object",
         "type": "string"
        },
        {
         "name": "release_year",
         "rawType": "int64",
         "type": "integer"
        },
        {
         "name": "rating",
         "rawType": "object",
         "type": "string"
        },
        {
         "name": "duration",
         "rawType": "object",
         "type": "string"
        },
        {
         "name": "listed_in",
         "rawType": "object",
         "type": "string"
        },
        {
         "name": "description",
         "rawType": "object",
         "type": "string"
        }
       ],
       "ref": "fd85a2e7-e2cd-4336-8e61-074e441d1e24",
       "rows": [
        [
         "2263",
         "s2264",
         "Movie",
         "PNL - Dans la légende tour",
         "QLF",
         "PNL",
         null,
         "July 6, 2020",
         "2020",
         "TV-MA",
         "65 min",
         "International Movies, Music & Musicals",
         "French rap duo PNL deliver hypnotic visuals and perform popular tracks from their album \"Dans la légende\" and more at the Bercy Arena in Paris."
        ],
        [
         "6640",
         "s6641",
         "Movie",
         "Dr. Seuss' The Grinch",
         "Scott Mosier, Yarrow Cheney",
         "Benedict Cumberbatch, Cameron Seely, Rashida Jones, Pharrell Williams, Kenan Thompson, Angela Lansbury",
         "France, China, Japan, United States",
         "June 5, 2019",
         "2018",
         "PG",
         "86 min",
         "Children & Family Movies, Comedies",
         "A grump with a mean streak plots to bring Christmas to a halt in the cheerful town of Whoville. But a generous little girl could change his heart."
        ],
        [
         "1057",
         "s1058",
         "TV Show",
         "Dad Stop Embarrassing Me!",
         null,
         "Jamie Foxx, David Alan Grier, Kyla-Drew, Porscha Coleman, Jonathan Kite, Heather Hemmens, Valente Rodriguez",
         "United States",
         "April 14, 2021",
         "2021",
         "TV-14",
         "1 Season",
         "TV Comedies",
         "A single dad and cosmetics brand owner figures out fatherhood on the fly when his strong-minded teen daughter moves in with him."
        ],
        [
         "4046",
         "s4047",
         "Movie",
         "Everyday I Love You",
         "Mae Czarina Cruz",
         "Enrique Gil, Liza Soberano, Gerald Anderson, Aiko Melendez, Carmina Villaroel, Ariel Rivera, Marissa Delgado, Liza Lorena",
         "Philippines",
         "March 4, 2019",
         "2015",
         "TV-14",
         "124 min",
         "Dramas, International Movies, Romantic Movies",
         "While patiently waiting for her boyfriend to come out of his coma, Audrey finds herself falling for the caring and successful Ethan."
        ],
        [
         "74",
         "s75",
         "TV Show",
         "The World's Most Amazing Vacation Rentals",
         null,
         null,
         null,
         "September 14, 2021",
         "2021",
         "TV-PG",
         "2 Seasons",
         "Reality TV",
         "With an eye for every budget, three travelers visit vacation rentals around the globe and share their expert tips and tricks in this reality series."
        ],
        [
         "833",
         "s834",
         "TV Show",
         "Black Space",
         null,
         "Guri Alfi, Shai Avivi, Assi Levy, Reut Alush, Meirav Shirom, Yoav Rotman, Liana Ayoun, Noam Karmeli, Hadas Jade Sakori, Yehonatan Vilozny, Gily Itskovitch, Oneg Efron, Suzanna Papian, Ori Biton, Nir Hasdai, Leib Lev Levin, Eyal Shikratzi",
         "Israel",
         "May 27, 2021",
         "2021",
         "TV-MA",
         "1 Season",
         "Crime TV Shows, International TV Shows, TV Dramas",
         "A rogue detective with unorthodox means leads an investigation into a massacre committed by unicorn mask-wearing assassins at an Israeli high school."
        ],
        [
         "615",
         "s616",
         "Movie",
         "Why Do Fools Fall in Love",
         "Gregory Nava",
         "Halle Berry, Vivica A. Fox, Larenz Tate, Lela Rochon, Little Richard, Paul Mazursky, Pamela Reed, Alexis Cruz",
         "United States",
         "July 1, 2021",
         "1998",
         "R",
         "116 min",
         "Dramas, Music & Musicals, Romantic Movies",
         "In this rock 'n' roll comedy-drama, three women go to court over royalties from the one-hit-wonder singer they all loved — and whom they all married."
        ],
        [
         "4922",
         "s4923",
         "Movie",
         "Mercury 13",
         "David Sington, Heather Walsh",
         null,
         "United States",
         "April 20, 2018",
         "2018",
         "TV-PG",
         "79 min",
         "Documentaries",
         "After rigorous testing in 1961, a small group of skilled female pilots are asked to step aside when only men are selected for spaceflight."
        ],
        [
         "7759",
         "s7760",
         "TV Show",
         "Powder",
         null,
         "Manish Chaudhary, Pankaj Tripathi, Geetika Tyagi, Rahul Bagga",
         "India",
         "February 15, 2018",
         "2010",
         "TV-14",
         "1 Season",
         "Crime TV Shows, International TV Shows, TV Dramas",
         "Two men who grew up in Mumbai's slums are drawn into the city's brutal narcotics trade, where they fight on opposite sides of the law."
        ],
        [
         "3454",
         "s3455",
         "TV Show",
         "Rotten",
         null,
         null,
         "United States",
         "October 4, 2019",
         "2019",
         "TV-MA",
         "2 Seasons",
         "Docuseries, Science & Nature TV",
         "This docuseries travels deep into the heart of the food supply chain to reveal unsavory truths and expose hidden forces that shape what we eat."
        ]
       ],
       "shape": {
        "columns": 12,
        "rows": 10
       }
      },
      "text/html": [
       "<div>\n",
       "<style scoped>\n",
       "    .dataframe tbody tr th:only-of-type {\n",
       "        vertical-align: middle;\n",
       "    }\n",
       "\n",
       "    .dataframe tbody tr th {\n",
       "        vertical-align: top;\n",
       "    }\n",
       "\n",
       "    .dataframe thead th {\n",
       "        text-align: right;\n",
       "    }\n",
       "</style>\n",
       "<table border=\"1\" class=\"dataframe\">\n",
       "  <thead>\n",
       "    <tr style=\"text-align: right;\">\n",
       "      <th></th>\n",
       "      <th>show_id</th>\n",
       "      <th>type</th>\n",
       "      <th>title</th>\n",
       "      <th>director</th>\n",
       "      <th>cast</th>\n",
       "      <th>country</th>\n",
       "      <th>date_added</th>\n",
       "      <th>release_year</th>\n",
       "      <th>rating</th>\n",
       "      <th>duration</th>\n",
       "      <th>listed_in</th>\n",
       "      <th>description</th>\n",
       "    </tr>\n",
       "  </thead>\n",
       "  <tbody>\n",
       "    <tr>\n",
       "      <th>2263</th>\n",
       "      <td>s2264</td>\n",
       "      <td>Movie</td>\n",
       "      <td>PNL - Dans la légende tour</td>\n",
       "      <td>QLF</td>\n",
       "      <td>PNL</td>\n",
       "      <td>NaN</td>\n",
       "      <td>July 6, 2020</td>\n",
       "      <td>2020</td>\n",
       "      <td>TV-MA</td>\n",
       "      <td>65 min</td>\n",
       "      <td>International Movies, Music &amp; Musicals</td>\n",
       "      <td>French rap duo PNL deliver hypnotic visuals an...</td>\n",
       "    </tr>\n",
       "    <tr>\n",
       "      <th>6640</th>\n",
       "      <td>s6641</td>\n",
       "      <td>Movie</td>\n",
       "      <td>Dr. Seuss' The Grinch</td>\n",
       "      <td>Scott Mosier, Yarrow Cheney</td>\n",
       "      <td>Benedict Cumberbatch, Cameron Seely, Rashida J...</td>\n",
       "      <td>France, China, Japan, United States</td>\n",
       "      <td>June 5, 2019</td>\n",
       "      <td>2018</td>\n",
       "      <td>PG</td>\n",
       "      <td>86 min</td>\n",
       "      <td>Children &amp; Family Movies, Comedies</td>\n",
       "      <td>A grump with a mean streak plots to bring Chri...</td>\n",
       "    </tr>\n",
       "    <tr>\n",
       "      <th>1057</th>\n",
       "      <td>s1058</td>\n",
       "      <td>TV Show</td>\n",
       "      <td>Dad Stop Embarrassing Me!</td>\n",
       "      <td>NaN</td>\n",
       "      <td>Jamie Foxx, David Alan Grier, Kyla-Drew, Porsc...</td>\n",
       "      <td>United States</td>\n",
       "      <td>April 14, 2021</td>\n",
       "      <td>2021</td>\n",
       "      <td>TV-14</td>\n",
       "      <td>1 Season</td>\n",
       "      <td>TV Comedies</td>\n",
       "      <td>A single dad and cosmetics brand owner figures...</td>\n",
       "    </tr>\n",
       "    <tr>\n",
       "      <th>4046</th>\n",
       "      <td>s4047</td>\n",
       "      <td>Movie</td>\n",
       "      <td>Everyday I Love You</td>\n",
       "      <td>Mae Czarina Cruz</td>\n",
       "      <td>Enrique Gil, Liza Soberano, Gerald Anderson, A...</td>\n",
       "      <td>Philippines</td>\n",
       "      <td>March 4, 2019</td>\n",
       "      <td>2015</td>\n",
       "      <td>TV-14</td>\n",
       "      <td>124 min</td>\n",
       "      <td>Dramas, International Movies, Romantic Movies</td>\n",
       "      <td>While patiently waiting for her boyfriend to c...</td>\n",
       "    </tr>\n",
       "    <tr>\n",
       "      <th>74</th>\n",
       "      <td>s75</td>\n",
       "      <td>TV Show</td>\n",
       "      <td>The World's Most Amazing Vacation Rentals</td>\n",
       "      <td>NaN</td>\n",
       "      <td>NaN</td>\n",
       "      <td>NaN</td>\n",
       "      <td>September 14, 2021</td>\n",
       "      <td>2021</td>\n",
       "      <td>TV-PG</td>\n",
       "      <td>2 Seasons</td>\n",
       "      <td>Reality TV</td>\n",
       "      <td>With an eye for every budget, three travelers ...</td>\n",
       "    </tr>\n",
       "    <tr>\n",
       "      <th>833</th>\n",
       "      <td>s834</td>\n",
       "      <td>TV Show</td>\n",
       "      <td>Black Space</td>\n",
       "      <td>NaN</td>\n",
       "      <td>Guri Alfi, Shai Avivi, Assi Levy, Reut Alush, ...</td>\n",
       "      <td>Israel</td>\n",
       "      <td>May 27, 2021</td>\n",
       "      <td>2021</td>\n",
       "      <td>TV-MA</td>\n",
       "      <td>1 Season</td>\n",
       "      <td>Crime TV Shows, International TV Shows, TV Dramas</td>\n",
       "      <td>A rogue detective with unorthodox means leads ...</td>\n",
       "    </tr>\n",
       "    <tr>\n",
       "      <th>615</th>\n",
       "      <td>s616</td>\n",
       "      <td>Movie</td>\n",
       "      <td>Why Do Fools Fall in Love</td>\n",
       "      <td>Gregory Nava</td>\n",
       "      <td>Halle Berry, Vivica A. Fox, Larenz Tate, Lela ...</td>\n",
       "      <td>United States</td>\n",
       "      <td>July 1, 2021</td>\n",
       "      <td>1998</td>\n",
       "      <td>R</td>\n",
       "      <td>116 min</td>\n",
       "      <td>Dramas, Music &amp; Musicals, Romantic Movies</td>\n",
       "      <td>In this rock 'n' roll comedy-drama, three wome...</td>\n",
       "    </tr>\n",
       "    <tr>\n",
       "      <th>4922</th>\n",
       "      <td>s4923</td>\n",
       "      <td>Movie</td>\n",
       "      <td>Mercury 13</td>\n",
       "      <td>David Sington, Heather Walsh</td>\n",
       "      <td>NaN</td>\n",
       "      <td>United States</td>\n",
       "      <td>April 20, 2018</td>\n",
       "      <td>2018</td>\n",
       "      <td>TV-PG</td>\n",
       "      <td>79 min</td>\n",
       "      <td>Documentaries</td>\n",
       "      <td>After rigorous testing in 1961, a small group ...</td>\n",
       "    </tr>\n",
       "    <tr>\n",
       "      <th>7759</th>\n",
       "      <td>s7760</td>\n",
       "      <td>TV Show</td>\n",
       "      <td>Powder</td>\n",
       "      <td>NaN</td>\n",
       "      <td>Manish Chaudhary, Pankaj Tripathi, Geetika Tya...</td>\n",
       "      <td>India</td>\n",
       "      <td>February 15, 2018</td>\n",
       "      <td>2010</td>\n",
       "      <td>TV-14</td>\n",
       "      <td>1 Season</td>\n",
       "      <td>Crime TV Shows, International TV Shows, TV Dramas</td>\n",
       "      <td>Two men who grew up in Mumbai's slums are draw...</td>\n",
       "    </tr>\n",
       "    <tr>\n",
       "      <th>3454</th>\n",
       "      <td>s3455</td>\n",
       "      <td>TV Show</td>\n",
       "      <td>Rotten</td>\n",
       "      <td>NaN</td>\n",
       "      <td>NaN</td>\n",
       "      <td>United States</td>\n",
       "      <td>October 4, 2019</td>\n",
       "      <td>2019</td>\n",
       "      <td>TV-MA</td>\n",
       "      <td>2 Seasons</td>\n",
       "      <td>Docuseries, Science &amp; Nature TV</td>\n",
       "      <td>This docuseries travels deep into the heart of...</td>\n",
       "    </tr>\n",
       "  </tbody>\n",
       "</table>\n",
       "</div>"
      ],
      "text/plain": [
       "     show_id     type                                      title  \\\n",
       "2263   s2264    Movie                 PNL - Dans la légende tour   \n",
       "6640   s6641    Movie                      Dr. Seuss' The Grinch   \n",
       "1057   s1058  TV Show                  Dad Stop Embarrassing Me!   \n",
       "4046   s4047    Movie                        Everyday I Love You   \n",
       "74       s75  TV Show  The World's Most Amazing Vacation Rentals   \n",
       "833     s834  TV Show                                Black Space   \n",
       "615     s616    Movie                  Why Do Fools Fall in Love   \n",
       "4922   s4923    Movie                                 Mercury 13   \n",
       "7759   s7760  TV Show                                     Powder   \n",
       "3454   s3455  TV Show                                     Rotten   \n",
       "\n",
       "                          director  \\\n",
       "2263                           QLF   \n",
       "6640   Scott Mosier, Yarrow Cheney   \n",
       "1057                           NaN   \n",
       "4046              Mae Czarina Cruz   \n",
       "74                             NaN   \n",
       "833                            NaN   \n",
       "615                   Gregory Nava   \n",
       "4922  David Sington, Heather Walsh   \n",
       "7759                           NaN   \n",
       "3454                           NaN   \n",
       "\n",
       "                                                   cast  \\\n",
       "2263                                                PNL   \n",
       "6640  Benedict Cumberbatch, Cameron Seely, Rashida J...   \n",
       "1057  Jamie Foxx, David Alan Grier, Kyla-Drew, Porsc...   \n",
       "4046  Enrique Gil, Liza Soberano, Gerald Anderson, A...   \n",
       "74                                                  NaN   \n",
       "833   Guri Alfi, Shai Avivi, Assi Levy, Reut Alush, ...   \n",
       "615   Halle Berry, Vivica A. Fox, Larenz Tate, Lela ...   \n",
       "4922                                                NaN   \n",
       "7759  Manish Chaudhary, Pankaj Tripathi, Geetika Tya...   \n",
       "3454                                                NaN   \n",
       "\n",
       "                                  country          date_added  release_year  \\\n",
       "2263                                  NaN        July 6, 2020          2020   \n",
       "6640  France, China, Japan, United States        June 5, 2019          2018   \n",
       "1057                        United States      April 14, 2021          2021   \n",
       "4046                          Philippines       March 4, 2019          2015   \n",
       "74                                    NaN  September 14, 2021          2021   \n",
       "833                                Israel        May 27, 2021          2021   \n",
       "615                         United States        July 1, 2021          1998   \n",
       "4922                        United States      April 20, 2018          2018   \n",
       "7759                                India   February 15, 2018          2010   \n",
       "3454                        United States     October 4, 2019          2019   \n",
       "\n",
       "     rating   duration                                          listed_in  \\\n",
       "2263  TV-MA     65 min             International Movies, Music & Musicals   \n",
       "6640     PG     86 min                 Children & Family Movies, Comedies   \n",
       "1057  TV-14   1 Season                                        TV Comedies   \n",
       "4046  TV-14    124 min      Dramas, International Movies, Romantic Movies   \n",
       "74    TV-PG  2 Seasons                                         Reality TV   \n",
       "833   TV-MA   1 Season  Crime TV Shows, International TV Shows, TV Dramas   \n",
       "615       R    116 min          Dramas, Music & Musicals, Romantic Movies   \n",
       "4922  TV-PG     79 min                                      Documentaries   \n",
       "7759  TV-14   1 Season  Crime TV Shows, International TV Shows, TV Dramas   \n",
       "3454  TV-MA  2 Seasons                    Docuseries, Science & Nature TV   \n",
       "\n",
       "                                            description  \n",
       "2263  French rap duo PNL deliver hypnotic visuals an...  \n",
       "6640  A grump with a mean streak plots to bring Chri...  \n",
       "1057  A single dad and cosmetics brand owner figures...  \n",
       "4046  While patiently waiting for her boyfriend to c...  \n",
       "74    With an eye for every budget, three travelers ...  \n",
       "833   A rogue detective with unorthodox means leads ...  \n",
       "615   In this rock 'n' roll comedy-drama, three wome...  \n",
       "4922  After rigorous testing in 1961, a small group ...  \n",
       "7759  Two men who grew up in Mumbai's slums are draw...  \n",
       "3454  This docuseries travels deep into the heart of...  "
      ]
     },
     "execution_count": 10,
     "metadata": {},
     "output_type": "execute_result"
    }
   ],
   "source": [
    "df.sample(10)"
   ]
  },
  {
   "cell_type": "code",
   "execution_count": 32,
   "id": "54688903",
   "metadata": {},
   "outputs": [],
   "source": [
    "df['director']= df['director'].fillna('Unknown')\n",
    "df['country']=df['country'].fillna('Unknown')\n",
    "\n",
    "df['rating'] = df['rating'].fillna(df['rating'].mode()[0])\n",
    "df['date_added'] =df['date_added'].fillna('Unknown')\n"
   ]
  },
  {
   "cell_type": "code",
   "execution_count": 33,
   "id": "6535f943",
   "metadata": {},
   "outputs": [],
   "source": [
    "df['cast']=df['cast'].fillna('Unknown')"
   ]
  },
  {
   "cell_type": "code",
   "execution_count": 34,
   "id": "c13b350f",
   "metadata": {},
   "outputs": [
    {
     "data": {
      "application/vnd.microsoft.datawrangler.viewer.v0+json": {
       "columns": [
        {
         "name": "index",
         "rawType": "int64",
         "type": "integer"
        },
        {
         "name": "show_id",
         "rawType": "object",
         "type": "string"
        },
        {
         "name": "type",
         "rawType": "object",
         "type": "string"
        },
        {
         "name": "title",
         "rawType": "object",
         "type": "string"
        },
        {
         "name": "director",
         "rawType": "object",
         "type": "string"
        },
        {
         "name": "cast",
         "rawType": "object",
         "type": "string"
        },
        {
         "name": "country",
         "rawType": "object",
         "type": "string"
        },
        {
         "name": "date_added",
         "rawType": "object",
         "type": "string"
        },
        {
         "name": "release_year",
         "rawType": "int64",
         "type": "integer"
        },
        {
         "name": "rating",
         "rawType": "object",
         "type": "string"
        },
        {
         "name": "duration",
         "rawType": "object",
         "type": "string"
        },
        {
         "name": "listed_in",
         "rawType": "object",
         "type": "string"
        },
        {
         "name": "description",
         "rawType": "object",
         "type": "string"
        }
       ],
       "ref": "72998003-8328-4450-ac58-0148021de7c5",
       "rows": [
        [
         "1349",
         "s1350",
         "TV Show",
         "Pablo Escobar, el patrón del mal",
         "Unknown",
         "Andrés Parra, Angie Cepeda, Cecilia Navia, Vicky Hernández, Christian Tappan, Rodolfo Silva, Tommy Vásquez, Toto Vega, Nicolás Montero, Marcela Gallego",
         "Colombia",
         "February 3, 2021",
         "2012",
         "TV-MA",
         "1 Season",
         "Crime TV Shows, International TV Shows, Spanish-Language TV Shows",
         "From his days as a petty thief to becoming head of a drug-trafficking empire, this riveting series charts the life of the infamous Pablo Escobar."
        ],
        [
         "8612",
         "s8613",
         "Movie",
         "Train of the Dead",
         "Sukum Maetawanitch",
         "Kett Thantup, Savika Chaiyadej, Sura Theerakon, Chaleumpol Tikumpornteerawong, Yarichada Wattanawongsri, Phoomjai Tangsanga, Warot Pitakanonda, Saowaluck Siriaran",
         "Thailand",
         "July 25, 2018",
         "2007",
         "TV-MA",
         "88 min",
         "Horror Movies, International Movies",
         "Five teenagers on the lam hide out in an empty train. Little do they realize that the train is inhabited by ghosts on their way to final judgment."
        ],
        [
         "4431",
         "s4432",
         "Movie",
         "Dhan Dhana Dhan Goal",
         "Vivek Agnihotri",
         "John Abraham, Bipasha Basu, Arshad Warsi, Shernaz Patel, Boman Irani, Dibyendu Bhattacharya, Gilbert Montoya, Dalip Tahil, Rajendranath Zutshi",
         "United Kingdom, India",
         "November 1, 2018",
         "2007",
         "TV-14",
         "157 min",
         "Dramas, International Movies, Music & Musicals",
         "In a last-ditch effort, the jaded coach of the Southall United Football Club assembles a ragtag team and helps lead the team to a comeback season."
        ],
        [
         "5355",
         "s5356",
         "TV Show",
         "Locust",
         "Unknown",
         "Pyotr Fyodorov, Paulina Andreeva, Dmitry Shevchenko, Aleksey Gorbunov, Evgeniya Dmitrieva, Maksim Pinsker",
         "Russia",
         "August 1, 2017",
         "2014",
         "TV-MA",
         "1 Season",
         "Crime TV Shows, International TV Shows, Romantic TV Shows",
         "A torrid affair between a passionate lowborn poet and a wealthy Moscow heiress is engulfed by class difference, criminality and, eventually, murder."
        ],
        [
         "6247",
         "s6248",
         "Movie",
         "BASEketball",
         "David Zucker",
         "Trey Parker, Matt Stone, Dian Bachar, Yasmine Bleeth, Jenny McCarthy, Ernest Borgnine, Robert Vaughn, Trevor Einhorn",
         "United States",
         "November 1, 2018",
         "1998",
         "R",
         "103 min",
         "Comedies, Sports Movies",
         "When two slackers' made-up sport, BASEketball, becomes a national craze, they hope to cash in on the basketball/baseball hybrid's popularity."
        ],
        [
         "7802",
         "s7803",
         "Movie",
         "Pulp Fiction",
         "Quentin Tarantino",
         "John Travolta, Samuel L. Jackson, Uma Thurman, Harvey Keitel, Tim Roth, Amanda Plummer, Maria de Medeiros, Ving Rhames, Eric Stoltz, Rosanna Arquette, Christopher Walken, Bruce Willis",
         "United States",
         "January 1, 2019",
         "1994",
         "R",
         "154 min",
         "Classic Movies, Cult Movies, Dramas",
         "This stylized crime caper weaves together stories featuring a burger-loving hit man, his philosophical partner and a washed-up boxer."
        ],
        [
         "715",
         "s716",
         "TV Show",
         "Elite Short Stories: Nadia Guzmán",
         "Unknown",
         "Mina El Hammani, Miguel Bernardeau, Omar Ayuso",
         "Unknown",
         "June 15, 2021",
         "2021",
         "TV-MA",
         "1 Season",
         "International TV Shows, Romantic TV Shows, Spanish-Language TV Shows",
         "Nadia feels conflicted about whether or not to see her long distance boyfriend, Guzmán, when she returns to Spain for her sister's wedding."
        ],
        [
         "1033",
         "s1034",
         "Movie",
         "Rush",
         "Ron Howard",
         "Chris Hemsworth, Daniel Brühl, Olivia Wilde, Alexandra Maria Lara, Pierfrancesco Favino, David Calder, Natalie Dormer, Stephen Mangan, Christian McKay, Alistair Petrie",
         "United Kingdom, Germany, United States",
         "April 16, 2021",
         "2013",
         "R",
         "123 min",
         "Action & Adventure, Dramas, International Movies",
         "In the 1970s, a rivalry propels race car drivers Niki Lauda and James Hunt to fame and glory — until a horrible accident threatens to end it all."
        ],
        [
         "4176",
         "s4177",
         "Movie",
         "FYRE: The Greatest Party That Never Happened",
         "Chris Smith",
         "Unknown",
         "United States",
         "January 18, 2019",
         "2019",
         "TV-MA",
         "98 min",
         "Documentaries",
         "The Fyre Festival was billed as a luxury music experience on a posh private island, but it failed spectacularly in the hands of a cocky entrepreneur."
        ],
        [
         "8793",
         "s8794",
         "Movie",
         "Yours, Mine and Ours",
         "Raja Gosnell",
         "Dennis Quaid, Rene Russo, Sean Faris, Katija Pevec, Dean Collins, Tyler Patrick Jones, Haley Ramm, Brecken Palmer, Bridger Palmer, Ty Panitz",
         "United States",
         "November 20, 2019",
         "2005",
         "PG",
         "88 min",
         "Children & Family Movies, Comedies",
         "When a father of eight and a mother of 10 prepare to wed, the couple's children attempt to sabotage the union in this remake of a 1968 comedy."
        ]
       ],
       "shape": {
        "columns": 12,
        "rows": 10
       }
      },
      "text/html": [
       "<div>\n",
       "<style scoped>\n",
       "    .dataframe tbody tr th:only-of-type {\n",
       "        vertical-align: middle;\n",
       "    }\n",
       "\n",
       "    .dataframe tbody tr th {\n",
       "        vertical-align: top;\n",
       "    }\n",
       "\n",
       "    .dataframe thead th {\n",
       "        text-align: right;\n",
       "    }\n",
       "</style>\n",
       "<table border=\"1\" class=\"dataframe\">\n",
       "  <thead>\n",
       "    <tr style=\"text-align: right;\">\n",
       "      <th></th>\n",
       "      <th>show_id</th>\n",
       "      <th>type</th>\n",
       "      <th>title</th>\n",
       "      <th>director</th>\n",
       "      <th>cast</th>\n",
       "      <th>country</th>\n",
       "      <th>date_added</th>\n",
       "      <th>release_year</th>\n",
       "      <th>rating</th>\n",
       "      <th>duration</th>\n",
       "      <th>listed_in</th>\n",
       "      <th>description</th>\n",
       "    </tr>\n",
       "  </thead>\n",
       "  <tbody>\n",
       "    <tr>\n",
       "      <th>1349</th>\n",
       "      <td>s1350</td>\n",
       "      <td>TV Show</td>\n",
       "      <td>Pablo Escobar, el patrón del mal</td>\n",
       "      <td>Unknown</td>\n",
       "      <td>Andrés Parra, Angie Cepeda, Cecilia Navia, Vic...</td>\n",
       "      <td>Colombia</td>\n",
       "      <td>February 3, 2021</td>\n",
       "      <td>2012</td>\n",
       "      <td>TV-MA</td>\n",
       "      <td>1 Season</td>\n",
       "      <td>Crime TV Shows, International TV Shows, Spanis...</td>\n",
       "      <td>From his days as a petty thief to becoming hea...</td>\n",
       "    </tr>\n",
       "    <tr>\n",
       "      <th>8612</th>\n",
       "      <td>s8613</td>\n",
       "      <td>Movie</td>\n",
       "      <td>Train of the Dead</td>\n",
       "      <td>Sukum Maetawanitch</td>\n",
       "      <td>Kett Thantup, Savika Chaiyadej, Sura Theerakon...</td>\n",
       "      <td>Thailand</td>\n",
       "      <td>July 25, 2018</td>\n",
       "      <td>2007</td>\n",
       "      <td>TV-MA</td>\n",
       "      <td>88 min</td>\n",
       "      <td>Horror Movies, International Movies</td>\n",
       "      <td>Five teenagers on the lam hide out in an empty...</td>\n",
       "    </tr>\n",
       "    <tr>\n",
       "      <th>4431</th>\n",
       "      <td>s4432</td>\n",
       "      <td>Movie</td>\n",
       "      <td>Dhan Dhana Dhan Goal</td>\n",
       "      <td>Vivek Agnihotri</td>\n",
       "      <td>John Abraham, Bipasha Basu, Arshad Warsi, Sher...</td>\n",
       "      <td>United Kingdom, India</td>\n",
       "      <td>November 1, 2018</td>\n",
       "      <td>2007</td>\n",
       "      <td>TV-14</td>\n",
       "      <td>157 min</td>\n",
       "      <td>Dramas, International Movies, Music &amp; Musicals</td>\n",
       "      <td>In a last-ditch effort, the jaded coach of the...</td>\n",
       "    </tr>\n",
       "    <tr>\n",
       "      <th>5355</th>\n",
       "      <td>s5356</td>\n",
       "      <td>TV Show</td>\n",
       "      <td>Locust</td>\n",
       "      <td>Unknown</td>\n",
       "      <td>Pyotr Fyodorov, Paulina Andreeva, Dmitry Shevc...</td>\n",
       "      <td>Russia</td>\n",
       "      <td>August 1, 2017</td>\n",
       "      <td>2014</td>\n",
       "      <td>TV-MA</td>\n",
       "      <td>1 Season</td>\n",
       "      <td>Crime TV Shows, International TV Shows, Romant...</td>\n",
       "      <td>A torrid affair between a passionate lowborn p...</td>\n",
       "    </tr>\n",
       "    <tr>\n",
       "      <th>6247</th>\n",
       "      <td>s6248</td>\n",
       "      <td>Movie</td>\n",
       "      <td>BASEketball</td>\n",
       "      <td>David Zucker</td>\n",
       "      <td>Trey Parker, Matt Stone, Dian Bachar, Yasmine ...</td>\n",
       "      <td>United States</td>\n",
       "      <td>November 1, 2018</td>\n",
       "      <td>1998</td>\n",
       "      <td>R</td>\n",
       "      <td>103 min</td>\n",
       "      <td>Comedies, Sports Movies</td>\n",
       "      <td>When two slackers' made-up sport, BASEketball,...</td>\n",
       "    </tr>\n",
       "    <tr>\n",
       "      <th>7802</th>\n",
       "      <td>s7803</td>\n",
       "      <td>Movie</td>\n",
       "      <td>Pulp Fiction</td>\n",
       "      <td>Quentin Tarantino</td>\n",
       "      <td>John Travolta, Samuel L. Jackson, Uma Thurman,...</td>\n",
       "      <td>United States</td>\n",
       "      <td>January 1, 2019</td>\n",
       "      <td>1994</td>\n",
       "      <td>R</td>\n",
       "      <td>154 min</td>\n",
       "      <td>Classic Movies, Cult Movies, Dramas</td>\n",
       "      <td>This stylized crime caper weaves together stor...</td>\n",
       "    </tr>\n",
       "    <tr>\n",
       "      <th>715</th>\n",
       "      <td>s716</td>\n",
       "      <td>TV Show</td>\n",
       "      <td>Elite Short Stories: Nadia Guzmán</td>\n",
       "      <td>Unknown</td>\n",
       "      <td>Mina El Hammani, Miguel Bernardeau, Omar Ayuso</td>\n",
       "      <td>Unknown</td>\n",
       "      <td>June 15, 2021</td>\n",
       "      <td>2021</td>\n",
       "      <td>TV-MA</td>\n",
       "      <td>1 Season</td>\n",
       "      <td>International TV Shows, Romantic TV Shows, Spa...</td>\n",
       "      <td>Nadia feels conflicted about whether or not to...</td>\n",
       "    </tr>\n",
       "    <tr>\n",
       "      <th>1033</th>\n",
       "      <td>s1034</td>\n",
       "      <td>Movie</td>\n",
       "      <td>Rush</td>\n",
       "      <td>Ron Howard</td>\n",
       "      <td>Chris Hemsworth, Daniel Brühl, Olivia Wilde, A...</td>\n",
       "      <td>United Kingdom, Germany, United States</td>\n",
       "      <td>April 16, 2021</td>\n",
       "      <td>2013</td>\n",
       "      <td>R</td>\n",
       "      <td>123 min</td>\n",
       "      <td>Action &amp; Adventure, Dramas, International Movies</td>\n",
       "      <td>In the 1970s, a rivalry propels race car drive...</td>\n",
       "    </tr>\n",
       "    <tr>\n",
       "      <th>4176</th>\n",
       "      <td>s4177</td>\n",
       "      <td>Movie</td>\n",
       "      <td>FYRE: The Greatest Party That Never Happened</td>\n",
       "      <td>Chris Smith</td>\n",
       "      <td>Unknown</td>\n",
       "      <td>United States</td>\n",
       "      <td>January 18, 2019</td>\n",
       "      <td>2019</td>\n",
       "      <td>TV-MA</td>\n",
       "      <td>98 min</td>\n",
       "      <td>Documentaries</td>\n",
       "      <td>The Fyre Festival was billed as a luxury music...</td>\n",
       "    </tr>\n",
       "    <tr>\n",
       "      <th>8793</th>\n",
       "      <td>s8794</td>\n",
       "      <td>Movie</td>\n",
       "      <td>Yours, Mine and Ours</td>\n",
       "      <td>Raja Gosnell</td>\n",
       "      <td>Dennis Quaid, Rene Russo, Sean Faris, Katija P...</td>\n",
       "      <td>United States</td>\n",
       "      <td>November 20, 2019</td>\n",
       "      <td>2005</td>\n",
       "      <td>PG</td>\n",
       "      <td>88 min</td>\n",
       "      <td>Children &amp; Family Movies, Comedies</td>\n",
       "      <td>When a father of eight and a mother of 10 prep...</td>\n",
       "    </tr>\n",
       "  </tbody>\n",
       "</table>\n",
       "</div>"
      ],
      "text/plain": [
       "     show_id     type                                         title  \\\n",
       "1349   s1350  TV Show              Pablo Escobar, el patrón del mal   \n",
       "8612   s8613    Movie                             Train of the Dead   \n",
       "4431   s4432    Movie                          Dhan Dhana Dhan Goal   \n",
       "5355   s5356  TV Show                                        Locust   \n",
       "6247   s6248    Movie                                   BASEketball   \n",
       "7802   s7803    Movie                                  Pulp Fiction   \n",
       "715     s716  TV Show             Elite Short Stories: Nadia Guzmán   \n",
       "1033   s1034    Movie                                          Rush   \n",
       "4176   s4177    Movie  FYRE: The Greatest Party That Never Happened   \n",
       "8793   s8794    Movie                          Yours, Mine and Ours   \n",
       "\n",
       "                director                                               cast  \\\n",
       "1349             Unknown  Andrés Parra, Angie Cepeda, Cecilia Navia, Vic...   \n",
       "8612  Sukum Maetawanitch  Kett Thantup, Savika Chaiyadej, Sura Theerakon...   \n",
       "4431     Vivek Agnihotri  John Abraham, Bipasha Basu, Arshad Warsi, Sher...   \n",
       "5355             Unknown  Pyotr Fyodorov, Paulina Andreeva, Dmitry Shevc...   \n",
       "6247        David Zucker  Trey Parker, Matt Stone, Dian Bachar, Yasmine ...   \n",
       "7802   Quentin Tarantino  John Travolta, Samuel L. Jackson, Uma Thurman,...   \n",
       "715              Unknown     Mina El Hammani, Miguel Bernardeau, Omar Ayuso   \n",
       "1033          Ron Howard  Chris Hemsworth, Daniel Brühl, Olivia Wilde, A...   \n",
       "4176         Chris Smith                                            Unknown   \n",
       "8793        Raja Gosnell  Dennis Quaid, Rene Russo, Sean Faris, Katija P...   \n",
       "\n",
       "                                     country         date_added  release_year  \\\n",
       "1349                                Colombia   February 3, 2021          2012   \n",
       "8612                                Thailand      July 25, 2018          2007   \n",
       "4431                   United Kingdom, India   November 1, 2018          2007   \n",
       "5355                                  Russia     August 1, 2017          2014   \n",
       "6247                           United States   November 1, 2018          1998   \n",
       "7802                           United States    January 1, 2019          1994   \n",
       "715                                  Unknown      June 15, 2021          2021   \n",
       "1033  United Kingdom, Germany, United States     April 16, 2021          2013   \n",
       "4176                           United States   January 18, 2019          2019   \n",
       "8793                           United States  November 20, 2019          2005   \n",
       "\n",
       "     rating  duration                                          listed_in  \\\n",
       "1349  TV-MA  1 Season  Crime TV Shows, International TV Shows, Spanis...   \n",
       "8612  TV-MA    88 min                Horror Movies, International Movies   \n",
       "4431  TV-14   157 min     Dramas, International Movies, Music & Musicals   \n",
       "5355  TV-MA  1 Season  Crime TV Shows, International TV Shows, Romant...   \n",
       "6247      R   103 min                            Comedies, Sports Movies   \n",
       "7802      R   154 min                Classic Movies, Cult Movies, Dramas   \n",
       "715   TV-MA  1 Season  International TV Shows, Romantic TV Shows, Spa...   \n",
       "1033      R   123 min   Action & Adventure, Dramas, International Movies   \n",
       "4176  TV-MA    98 min                                      Documentaries   \n",
       "8793     PG    88 min                 Children & Family Movies, Comedies   \n",
       "\n",
       "                                            description  \n",
       "1349  From his days as a petty thief to becoming hea...  \n",
       "8612  Five teenagers on the lam hide out in an empty...  \n",
       "4431  In a last-ditch effort, the jaded coach of the...  \n",
       "5355  A torrid affair between a passionate lowborn p...  \n",
       "6247  When two slackers' made-up sport, BASEketball,...  \n",
       "7802  This stylized crime caper weaves together stor...  \n",
       "715   Nadia feels conflicted about whether or not to...  \n",
       "1033  In the 1970s, a rivalry propels race car drive...  \n",
       "4176  The Fyre Festival was billed as a luxury music...  \n",
       "8793  When a father of eight and a mother of 10 prep...  "
      ]
     },
     "execution_count": 34,
     "metadata": {},
     "output_type": "execute_result"
    }
   ],
   "source": [
    "df.sample(10)"
   ]
  },
  {
   "cell_type": "code",
   "execution_count": 35,
   "id": "3ab7b063",
   "metadata": {},
   "outputs": [
    {
     "data": {
      "application/vnd.microsoft.datawrangler.viewer.v0+json": {
       "columns": [
        {
         "name": "index",
         "rawType": "object",
         "type": "string"
        },
        {
         "name": "0",
         "rawType": "int64",
         "type": "integer"
        }
       ],
       "ref": "a2a7a965-478f-4dd0-a7c1-dc8b43c4766f",
       "rows": [
        [
         "show_id",
         "0"
        ],
        [
         "type",
         "0"
        ],
        [
         "title",
         "0"
        ],
        [
         "director",
         "0"
        ],
        [
         "cast",
         "0"
        ],
        [
         "country",
         "0"
        ],
        [
         "date_added",
         "0"
        ],
        [
         "release_year",
         "0"
        ],
        [
         "rating",
         "0"
        ],
        [
         "duration",
         "3"
        ],
        [
         "listed_in",
         "0"
        ],
        [
         "description",
         "0"
        ]
       ],
       "shape": {
        "columns": 1,
        "rows": 12
       }
      },
      "text/plain": [
       "show_id         0\n",
       "type            0\n",
       "title           0\n",
       "director        0\n",
       "cast            0\n",
       "country         0\n",
       "date_added      0\n",
       "release_year    0\n",
       "rating          0\n",
       "duration        3\n",
       "listed_in       0\n",
       "description     0\n",
       "dtype: int64"
      ]
     },
     "execution_count": 35,
     "metadata": {},
     "output_type": "execute_result"
    }
   ],
   "source": [
    "df.isnull().sum()"
   ]
  },
  {
   "cell_type": "code",
   "execution_count": null,
   "id": "8a08fab7",
   "metadata": {},
   "outputs": [],
   "source": []
  }
 ],
 "metadata": {
  "kernelspec": {
   "display_name": "netflix-movies-tv-shows-py3.12 (3.12.4)",
   "language": "python",
   "name": "python3"
  },
  "language_info": {
   "codemirror_mode": {
    "name": "ipython",
    "version": 3
   },
   "file_extension": ".py",
   "mimetype": "text/x-python",
   "name": "python",
   "nbconvert_exporter": "python",
   "pygments_lexer": "ipython3",
   "version": "3.12.4"
  }
 },
 "nbformat": 4,
 "nbformat_minor": 5
}
