{
 "cells": [
  {
   "cell_type": "code",
   "execution_count": 2,
   "id": "17e913ad",
   "metadata": {},
   "outputs": [
    {
     "name": "stdout",
     "output_type": "stream",
     "text": [
      "Path to dataset files: C:\\Users\\ENVY\\.cache\\kagglehub\\datasets\\shivamb\\netflix-shows\\versions\\5\n"
     ]
    }
   ],
   "source": [
    "import kagglehub\n",
    "\n",
    "# Download latest version\n",
    "path = kagglehub.dataset_download(\"shivamb/netflix-shows\")\n",
    "\n",
    "print(\"Path to dataset files:\", path)"
   ]
  },
  {
   "cell_type": "code",
   "execution_count": 3,
   "id": "4339d090",
   "metadata": {},
   "outputs": [
    {
     "data": {
      "text/plain": [
       "['netflix_titles.csv']"
      ]
     },
     "execution_count": 3,
     "metadata": {},
     "output_type": "execute_result"
    }
   ],
   "source": [
    "import os\n",
    "os.listdir(path)"
   ]
  },
  {
   "cell_type": "code",
   "execution_count": 4,
   "id": "0f68895c",
   "metadata": {},
   "outputs": [
    {
     "data": {
      "application/vnd.microsoft.datawrangler.viewer.v0+json": {
       "columns": [
        {
         "name": "index",
         "rawType": "int64",
         "type": "integer"
        },
        {
         "name": "show_id",
         "rawType": "object",
         "type": "string"
        },
        {
         "name": "type",
         "rawType": "object",
         "type": "string"
        },
        {
         "name": "title",
         "rawType": "object",
         "type": "string"
        },
        {
         "name": "director",
         "rawType": "object",
         "type": "unknown"
        },
        {
         "name": "cast",
         "rawType": "object",
         "type": "unknown"
        },
        {
         "name": "country",
         "rawType": "object",
         "type": "unknown"
        },
        {
         "name": "date_added",
         "rawType": "object",
         "type": "string"
        },
        {
         "name": "release_year",
         "rawType": "int64",
         "type": "integer"
        },
        {
         "name": "rating",
         "rawType": "object",
         "type": "string"
        },
        {
         "name": "duration",
         "rawType": "object",
         "type": "string"
        },
        {
         "name": "listed_in",
         "rawType": "object",
         "type": "string"
        },
        {
         "name": "description",
         "rawType": "object",
         "type": "string"
        }
       ],
       "ref": "a3322abf-1591-4e22-921c-bd289deacb2b",
       "rows": [
        [
         "0",
         "s1",
         "Movie",
         "Dick Johnson Is Dead",
         "Kirsten Johnson",
         null,
         "United States",
         "September 25, 2021",
         "2020",
         "PG-13",
         "90 min",
         "Documentaries",
         "As her father nears the end of his life, filmmaker Kirsten Johnson stages his death in inventive and comical ways to help them both face the inevitable."
        ],
        [
         "1",
         "s2",
         "TV Show",
         "Blood & Water",
         null,
         "Ama Qamata, Khosi Ngema, Gail Mabalane, Thabang Molaba, Dillon Windvogel, Natasha Thahane, Arno Greeff, Xolile Tshabalala, Getmore Sithole, Cindy Mahlangu, Ryle De Morny, Greteli Fincham, Sello Maake Ka-Ncube, Odwa Gwanya, Mekaila Mathys, Sandi Schultz, Duane Williams, Shamilla Miller, Patrick Mofokeng",
         "South Africa",
         "September 24, 2021",
         "2021",
         "TV-MA",
         "2 Seasons",
         "International TV Shows, TV Dramas, TV Mysteries",
         "After crossing paths at a party, a Cape Town teen sets out to prove whether a private-school swimming star is her sister who was abducted at birth."
        ],
        [
         "2",
         "s3",
         "TV Show",
         "Ganglands",
         "Julien Leclercq",
         "Sami Bouajila, Tracy Gotoas, Samuel Jouy, Nabiha Akkari, Sofia Lesaffre, Salim Kechiouche, Noureddine Farihi, Geert Van Rampelberg, Bakary Diombera",
         null,
         "September 24, 2021",
         "2021",
         "TV-MA",
         "1 Season",
         "Crime TV Shows, International TV Shows, TV Action & Adventure",
         "To protect his family from a powerful drug lord, skilled thief Mehdi and his expert team of robbers are pulled into a violent and deadly turf war."
        ],
        [
         "3",
         "s4",
         "TV Show",
         "Jailbirds New Orleans",
         null,
         null,
         null,
         "September 24, 2021",
         "2021",
         "TV-MA",
         "1 Season",
         "Docuseries, Reality TV",
         "Feuds, flirtations and toilet talk go down among the incarcerated women at the Orleans Justice Center in New Orleans on this gritty reality series."
        ],
        [
         "4",
         "s5",
         "TV Show",
         "Kota Factory",
         null,
         "Mayur More, Jitendra Kumar, Ranjan Raj, Alam Khan, Ahsaas Channa, Revathi Pillai, Urvi Singh, Arun Kumar",
         "India",
         "September 24, 2021",
         "2021",
         "TV-MA",
         "2 Seasons",
         "International TV Shows, Romantic TV Shows, TV Comedies",
         "In a city of coaching centers known to train India’s finest collegiate minds, an earnest but unexceptional student and his friends navigate campus life."
        ]
       ],
       "shape": {
        "columns": 12,
        "rows": 5
       }
      },
      "text/html": [
       "<div>\n",
       "<style scoped>\n",
       "    .dataframe tbody tr th:only-of-type {\n",
       "        vertical-align: middle;\n",
       "    }\n",
       "\n",
       "    .dataframe tbody tr th {\n",
       "        vertical-align: top;\n",
       "    }\n",
       "\n",
       "    .dataframe thead th {\n",
       "        text-align: right;\n",
       "    }\n",
       "</style>\n",
       "<table border=\"1\" class=\"dataframe\">\n",
       "  <thead>\n",
       "    <tr style=\"text-align: right;\">\n",
       "      <th></th>\n",
       "      <th>show_id</th>\n",
       "      <th>type</th>\n",
       "      <th>title</th>\n",
       "      <th>director</th>\n",
       "      <th>cast</th>\n",
       "      <th>country</th>\n",
       "      <th>date_added</th>\n",
       "      <th>release_year</th>\n",
       "      <th>rating</th>\n",
       "      <th>duration</th>\n",
       "      <th>listed_in</th>\n",
       "      <th>description</th>\n",
       "    </tr>\n",
       "  </thead>\n",
       "  <tbody>\n",
       "    <tr>\n",
       "      <th>0</th>\n",
       "      <td>s1</td>\n",
       "      <td>Movie</td>\n",
       "      <td>Dick Johnson Is Dead</td>\n",
       "      <td>Kirsten Johnson</td>\n",
       "      <td>NaN</td>\n",
       "      <td>United States</td>\n",
       "      <td>September 25, 2021</td>\n",
       "      <td>2020</td>\n",
       "      <td>PG-13</td>\n",
       "      <td>90 min</td>\n",
       "      <td>Documentaries</td>\n",
       "      <td>As her father nears the end of his life, filmm...</td>\n",
       "    </tr>\n",
       "    <tr>\n",
       "      <th>1</th>\n",
       "      <td>s2</td>\n",
       "      <td>TV Show</td>\n",
       "      <td>Blood &amp; Water</td>\n",
       "      <td>NaN</td>\n",
       "      <td>Ama Qamata, Khosi Ngema, Gail Mabalane, Thaban...</td>\n",
       "      <td>South Africa</td>\n",
       "      <td>September 24, 2021</td>\n",
       "      <td>2021</td>\n",
       "      <td>TV-MA</td>\n",
       "      <td>2 Seasons</td>\n",
       "      <td>International TV Shows, TV Dramas, TV Mysteries</td>\n",
       "      <td>After crossing paths at a party, a Cape Town t...</td>\n",
       "    </tr>\n",
       "    <tr>\n",
       "      <th>2</th>\n",
       "      <td>s3</td>\n",
       "      <td>TV Show</td>\n",
       "      <td>Ganglands</td>\n",
       "      <td>Julien Leclercq</td>\n",
       "      <td>Sami Bouajila, Tracy Gotoas, Samuel Jouy, Nabi...</td>\n",
       "      <td>NaN</td>\n",
       "      <td>September 24, 2021</td>\n",
       "      <td>2021</td>\n",
       "      <td>TV-MA</td>\n",
       "      <td>1 Season</td>\n",
       "      <td>Crime TV Shows, International TV Shows, TV Act...</td>\n",
       "      <td>To protect his family from a powerful drug lor...</td>\n",
       "    </tr>\n",
       "    <tr>\n",
       "      <th>3</th>\n",
       "      <td>s4</td>\n",
       "      <td>TV Show</td>\n",
       "      <td>Jailbirds New Orleans</td>\n",
       "      <td>NaN</td>\n",
       "      <td>NaN</td>\n",
       "      <td>NaN</td>\n",
       "      <td>September 24, 2021</td>\n",
       "      <td>2021</td>\n",
       "      <td>TV-MA</td>\n",
       "      <td>1 Season</td>\n",
       "      <td>Docuseries, Reality TV</td>\n",
       "      <td>Feuds, flirtations and toilet talk go down amo...</td>\n",
       "    </tr>\n",
       "    <tr>\n",
       "      <th>4</th>\n",
       "      <td>s5</td>\n",
       "      <td>TV Show</td>\n",
       "      <td>Kota Factory</td>\n",
       "      <td>NaN</td>\n",
       "      <td>Mayur More, Jitendra Kumar, Ranjan Raj, Alam K...</td>\n",
       "      <td>India</td>\n",
       "      <td>September 24, 2021</td>\n",
       "      <td>2021</td>\n",
       "      <td>TV-MA</td>\n",
       "      <td>2 Seasons</td>\n",
       "      <td>International TV Shows, Romantic TV Shows, TV ...</td>\n",
       "      <td>In a city of coaching centers known to train I...</td>\n",
       "    </tr>\n",
       "  </tbody>\n",
       "</table>\n",
       "</div>"
      ],
      "text/plain": [
       "  show_id     type                  title         director  \\\n",
       "0      s1    Movie   Dick Johnson Is Dead  Kirsten Johnson   \n",
       "1      s2  TV Show          Blood & Water              NaN   \n",
       "2      s3  TV Show              Ganglands  Julien Leclercq   \n",
       "3      s4  TV Show  Jailbirds New Orleans              NaN   \n",
       "4      s5  TV Show           Kota Factory              NaN   \n",
       "\n",
       "                                                cast        country  \\\n",
       "0                                                NaN  United States   \n",
       "1  Ama Qamata, Khosi Ngema, Gail Mabalane, Thaban...   South Africa   \n",
       "2  Sami Bouajila, Tracy Gotoas, Samuel Jouy, Nabi...            NaN   \n",
       "3                                                NaN            NaN   \n",
       "4  Mayur More, Jitendra Kumar, Ranjan Raj, Alam K...          India   \n",
       "\n",
       "           date_added  release_year rating   duration  \\\n",
       "0  September 25, 2021          2020  PG-13     90 min   \n",
       "1  September 24, 2021          2021  TV-MA  2 Seasons   \n",
       "2  September 24, 2021          2021  TV-MA   1 Season   \n",
       "3  September 24, 2021          2021  TV-MA   1 Season   \n",
       "4  September 24, 2021          2021  TV-MA  2 Seasons   \n",
       "\n",
       "                                           listed_in  \\\n",
       "0                                      Documentaries   \n",
       "1    International TV Shows, TV Dramas, TV Mysteries   \n",
       "2  Crime TV Shows, International TV Shows, TV Act...   \n",
       "3                             Docuseries, Reality TV   \n",
       "4  International TV Shows, Romantic TV Shows, TV ...   \n",
       "\n",
       "                                         description  \n",
       "0  As her father nears the end of his life, filmm...  \n",
       "1  After crossing paths at a party, a Cape Town t...  \n",
       "2  To protect his family from a powerful drug lor...  \n",
       "3  Feuds, flirtations and toilet talk go down amo...  \n",
       "4  In a city of coaching centers known to train I...  "
      ]
     },
     "execution_count": 4,
     "metadata": {},
     "output_type": "execute_result"
    }
   ],
   "source": [
    "import pandas as pd\n",
    "df = pd.read_csv(os.path.join(path, \"netflix_titles.csv\"))\n",
    "df.head()\n"
   ]
  },
  {
   "cell_type": "code",
   "execution_count": 5,
   "id": "02a603fe",
   "metadata": {},
   "outputs": [
    {
     "data": {
      "text/plain": [
       "(8807, 12)"
      ]
     },
     "execution_count": 5,
     "metadata": {},
     "output_type": "execute_result"
    }
   ],
   "source": [
    "df.shape\n"
   ]
  },
  {
   "cell_type": "code",
   "execution_count": 6,
   "id": "4997c2fc",
   "metadata": {},
   "outputs": [
    {
     "data": {
      "text/plain": [
       "Index(['show_id', 'type', 'title', 'director', 'cast', 'country', 'date_added',\n",
       "       'release_year', 'rating', 'duration', 'listed_in', 'description'],\n",
       "      dtype='object')"
      ]
     },
     "execution_count": 6,
     "metadata": {},
     "output_type": "execute_result"
    }
   ],
   "source": [
    "df.columns"
   ]
  },
  {
   "cell_type": "code",
   "execution_count": 7,
   "id": "b2d25347",
   "metadata": {},
   "outputs": [
    {
     "name": "stdout",
     "output_type": "stream",
     "text": [
      "<class 'pandas.core.frame.DataFrame'>\n",
      "RangeIndex: 8807 entries, 0 to 8806\n",
      "Data columns (total 12 columns):\n",
      " #   Column        Non-Null Count  Dtype \n",
      "---  ------        --------------  ----- \n",
      " 0   show_id       8807 non-null   object\n",
      " 1   type          8807 non-null   object\n",
      " 2   title         8807 non-null   object\n",
      " 3   director      6173 non-null   object\n",
      " 4   cast          7982 non-null   object\n",
      " 5   country       7976 non-null   object\n",
      " 6   date_added    8797 non-null   object\n",
      " 7   release_year  8807 non-null   int64 \n",
      " 8   rating        8803 non-null   object\n",
      " 9   duration      8804 non-null   object\n",
      " 10  listed_in     8807 non-null   object\n",
      " 11  description   8807 non-null   object\n",
      "dtypes: int64(1), object(11)\n",
      "memory usage: 825.8+ KB\n"
     ]
    }
   ],
   "source": [
    "df.info()"
   ]
  },
  {
   "cell_type": "code",
   "execution_count": 8,
   "id": "56cacacd",
   "metadata": {},
   "outputs": [
    {
     "data": {
      "application/vnd.microsoft.datawrangler.viewer.v0+json": {
       "columns": [
        {
         "name": "index",
         "rawType": "object",
         "type": "string"
        },
        {
         "name": "0",
         "rawType": "int64",
         "type": "integer"
        }
       ],
       "ref": "97c0eaba-8be4-47ad-b177-658bb30349c1",
       "rows": [
        [
         "director",
         "2634"
        ],
        [
         "country",
         "831"
        ],
        [
         "cast",
         "825"
        ],
        [
         "date_added",
         "10"
        ],
        [
         "rating",
         "4"
        ],
        [
         "duration",
         "3"
        ],
        [
         "show_id",
         "0"
        ],
        [
         "type",
         "0"
        ],
        [
         "title",
         "0"
        ],
        [
         "release_year",
         "0"
        ],
        [
         "listed_in",
         "0"
        ],
        [
         "description",
         "0"
        ]
       ],
       "shape": {
        "columns": 1,
        "rows": 12
       }
      },
      "text/plain": [
       "director        2634\n",
       "country          831\n",
       "cast             825\n",
       "date_added        10\n",
       "rating             4\n",
       "duration           3\n",
       "show_id            0\n",
       "type               0\n",
       "title              0\n",
       "release_year       0\n",
       "listed_in          0\n",
       "description        0\n",
       "dtype: int64"
      ]
     },
     "execution_count": 8,
     "metadata": {},
     "output_type": "execute_result"
    }
   ],
   "source": [
    "df.isnull().sum().sort_values(ascending=False)"
   ]
  },
  {
   "cell_type": "code",
   "execution_count": 9,
   "id": "934d6833",
   "metadata": {},
   "outputs": [
    {
     "data": {
      "application/vnd.microsoft.datawrangler.viewer.v0+json": {
       "columns": [
        {
         "name": "index",
         "rawType": "int64",
         "type": "integer"
        },
        {
         "name": "show_id",
         "rawType": "object",
         "type": "string"
        },
        {
         "name": "type",
         "rawType": "object",
         "type": "string"
        },
        {
         "name": "title",
         "rawType": "object",
         "type": "string"
        },
        {
         "name": "director",
         "rawType": "object",
         "type": "unknown"
        },
        {
         "name": "cast",
         "rawType": "object",
         "type": "unknown"
        },
        {
         "name": "country",
         "rawType": "object",
         "type": "string"
        },
        {
         "name": "date_added",
         "rawType": "object",
         "type": "string"
        },
        {
         "name": "release_year",
         "rawType": "int64",
         "type": "integer"
        },
        {
         "name": "rating",
         "rawType": "object",
         "type": "string"
        },
        {
         "name": "duration",
         "rawType": "object",
         "type": "string"
        },
        {
         "name": "listed_in",
         "rawType": "object",
         "type": "string"
        },
        {
         "name": "description",
         "rawType": "object",
         "type": "string"
        }
       ],
       "ref": "9d53519c-e9ca-4cfc-86cc-5c47fdb2fc66",
       "rows": [
        [
         "7025",
         "s7026",
         "Movie",
         "Hungerford",
         "Drew Casson",
         "Drew Casson, Georgia Bradley, Sam Carter, Tom Scarlett, Nigel Morgan, Colin Stark, Kitty Speed",
         "United Kingdom",
         "June 23, 2018",
         "2014",
         "TV-MA",
         "79 min",
         "Horror Movies, Independent Movies, International Movies",
         "While filming his daily life for a media course, Cowen discovers his small English town may be under an ominous and otherworldly influence."
        ],
        [
         "6748",
         "s6749",
         "Movie",
         "Figaro Pho",
         "Luke Jurevicius",
         "Luke Jurevicius",
         "United Kingdom",
         "September 1, 2016",
         "2008",
         "TV-Y7",
         "29 min",
         "Children & Family Movies, Comedies",
         "Quirky little Figaro has a whole alphabet's worth of phobias. These wordless animated shorts follow his many fears from A to Z."
        ],
        [
         "2267",
         "s2268",
         "Movie",
         "Bombay Talkies",
         "Anurag Kashyap, Dibakar Banerjee, Karan Johar, Zoya Akhtar",
         "Rani Mukerji, Randeep Hooda, Saqib Saleem, Nawazuddin Siddiqui, Sadashiv Amrapurkar, Amitabh Bachchan, Ranvir Shorey, Katrina Kaif, Diana Penty",
         "India",
         "July 5, 2020",
         "2013",
         "TV-MA",
         "123 min",
         "Dramas, International Movies",
         "A gay man deals with his sexuality, a struggling actor has an epiphany, a boy becomes a dancer, and a man tries to fulfill his father's dying wish."
        ],
        [
         "1123",
         "s1124",
         "TV Show",
         "Magical Andes",
         null,
         null,
         "Uruguay, Germany",
         "April 1, 2021",
         "2021",
         "TV-G",
         "2 Seasons",
         "Docuseries, International TV Shows, Science & Nature TV",
         "From Argentina to Colombia, this stunning documentary follows five characters who share their deep connection to South America's majestic mountains."
        ],
        [
         "5322",
         "s5323",
         "Movie",
         "Undefeated",
         "Daniel Lindsay, T.J. Martin",
         "Montrail 'Money' Brown, O.C. Brown, Bill Courtney, Chavis Daniels",
         "United States",
         "August 18, 2017",
         "2011",
         "PG-13",
         "113 min",
         "Documentaries, Sports Movies",
         "An inspirational profile of an inner-city high school football team's valiant effort to reach the school's first-ever playoff game."
        ],
        [
         "7548",
         "s7549",
         "Movie",
         "My True Friend",
         "Atsajun Sattakovit",
         "Mario Maurer, Natcha Juntapan, Monchanok Saengchaipiangpen, Nawapaiboon Wuthinanon, Kamolned Ruengsri, Sirapop Daongern, Rakchawan Maroukasonti, Poom Rungsrithananon, Patsomtat Sudprasert, Ranee Campen",
         "Thailand",
         "July 25, 2018",
         "2012",
         "TV-MA",
         "108 min",
         "Action & Adventure, Dramas, International Movies",
         "A bullied student forms a bond with the leader of a youth gang and discovers the power and meaning of true friendship."
        ],
        [
         "6786",
         "s6787",
         "Movie",
         "Forever Chape",
         "Luis Ara",
         null,
         "Brazil",
         "August 2, 2018",
         "2018",
         "TV-MA",
         "74 min",
         "Documentaries, International Movies, Sports Movies",
         "In the wake of the plane crash that claimed the lives of 71 people, the Brazilian soccer club Chapecoense seeks to rebuild the team that made history."
        ],
        [
         "8788",
         "s8789",
         "Movie",
         "You Carry Me",
         "Ivona Juka",
         "Lana Baric, Vojislav Brajovic, Natasa Janjic, Goran Hajdukovic, Helena Beljan, Juraj Dabic, Natasa Dorcic, Sebastian Cavazza, Ana Begic, Krunoslav Saric",
         "Croatia, Slovenia, Serbia, Montenegro",
         "July 1, 2016",
         "2015",
         "TV-MA",
         "157 min",
         "Dramas, International Movies",
         "A soap opera producer, director and makeup artist each face wrenching family turmoil, from teen rebellion and marital infidelity to Alzheimer's."
        ],
        [
         "4531",
         "s4532",
         "TV Show",
         "LOST SONG",
         null,
         "Konomi Suzuki, Yukari Tamura, Misaki Kuno, Chiaki Takahashi, Seiichiro Yamashita, Asami Seto, Yu Serizawa, Ai Kayano, Tsuyoshi Koyama, Yuto Suzuki, Mitsuru Ogata, Hiroshi Ito",
         "Japan",
         "October 5, 2018",
         "2018",
         "TV-14",
         "1 Season",
         "Anime Series, International TV Shows",
         "War looms over the kingdom of Neunatia, where two young women are both burdened and blessed by the power of song."
        ],
        [
         "1369",
         "s1370",
         "Movie",
         "Finding ‘Ohana",
         "Jude Weng",
         "Kea Peahu, Alex Aiono, Lindsay Watson, Owen Vaccaro, Kelly Hu, Branscombe Richmond, Ke Huy Quan, Brad Kalilimoku, Chris Parnell, Marc Evan Jackson, Ricky Garcia",
         "United States",
         "January 29, 2021",
         "2021",
         "PG",
         "123 min",
         "Children & Family Movies, Comedies",
         "In Oʻahu for the summer, two siblings from Brooklyn connect with their Hawaiian heritage — and their family — on a daring quest for long-lost treasure."
        ]
       ],
       "shape": {
        "columns": 12,
        "rows": 10
       }
      },
      "text/html": [
       "<div>\n",
       "<style scoped>\n",
       "    .dataframe tbody tr th:only-of-type {\n",
       "        vertical-align: middle;\n",
       "    }\n",
       "\n",
       "    .dataframe tbody tr th {\n",
       "        vertical-align: top;\n",
       "    }\n",
       "\n",
       "    .dataframe thead th {\n",
       "        text-align: right;\n",
       "    }\n",
       "</style>\n",
       "<table border=\"1\" class=\"dataframe\">\n",
       "  <thead>\n",
       "    <tr style=\"text-align: right;\">\n",
       "      <th></th>\n",
       "      <th>show_id</th>\n",
       "      <th>type</th>\n",
       "      <th>title</th>\n",
       "      <th>director</th>\n",
       "      <th>cast</th>\n",
       "      <th>country</th>\n",
       "      <th>date_added</th>\n",
       "      <th>release_year</th>\n",
       "      <th>rating</th>\n",
       "      <th>duration</th>\n",
       "      <th>listed_in</th>\n",
       "      <th>description</th>\n",
       "    </tr>\n",
       "  </thead>\n",
       "  <tbody>\n",
       "    <tr>\n",
       "      <th>7025</th>\n",
       "      <td>s7026</td>\n",
       "      <td>Movie</td>\n",
       "      <td>Hungerford</td>\n",
       "      <td>Drew Casson</td>\n",
       "      <td>Drew Casson, Georgia Bradley, Sam Carter, Tom ...</td>\n",
       "      <td>United Kingdom</td>\n",
       "      <td>June 23, 2018</td>\n",
       "      <td>2014</td>\n",
       "      <td>TV-MA</td>\n",
       "      <td>79 min</td>\n",
       "      <td>Horror Movies, Independent Movies, Internation...</td>\n",
       "      <td>While filming his daily life for a media cours...</td>\n",
       "    </tr>\n",
       "    <tr>\n",
       "      <th>6748</th>\n",
       "      <td>s6749</td>\n",
       "      <td>Movie</td>\n",
       "      <td>Figaro Pho</td>\n",
       "      <td>Luke Jurevicius</td>\n",
       "      <td>Luke Jurevicius</td>\n",
       "      <td>United Kingdom</td>\n",
       "      <td>September 1, 2016</td>\n",
       "      <td>2008</td>\n",
       "      <td>TV-Y7</td>\n",
       "      <td>29 min</td>\n",
       "      <td>Children &amp; Family Movies, Comedies</td>\n",
       "      <td>Quirky little Figaro has a whole alphabet's wo...</td>\n",
       "    </tr>\n",
       "    <tr>\n",
       "      <th>2267</th>\n",
       "      <td>s2268</td>\n",
       "      <td>Movie</td>\n",
       "      <td>Bombay Talkies</td>\n",
       "      <td>Anurag Kashyap, Dibakar Banerjee, Karan Johar,...</td>\n",
       "      <td>Rani Mukerji, Randeep Hooda, Saqib Saleem, Naw...</td>\n",
       "      <td>India</td>\n",
       "      <td>July 5, 2020</td>\n",
       "      <td>2013</td>\n",
       "      <td>TV-MA</td>\n",
       "      <td>123 min</td>\n",
       "      <td>Dramas, International Movies</td>\n",
       "      <td>A gay man deals with his sexuality, a struggli...</td>\n",
       "    </tr>\n",
       "    <tr>\n",
       "      <th>1123</th>\n",
       "      <td>s1124</td>\n",
       "      <td>TV Show</td>\n",
       "      <td>Magical Andes</td>\n",
       "      <td>NaN</td>\n",
       "      <td>NaN</td>\n",
       "      <td>Uruguay, Germany</td>\n",
       "      <td>April 1, 2021</td>\n",
       "      <td>2021</td>\n",
       "      <td>TV-G</td>\n",
       "      <td>2 Seasons</td>\n",
       "      <td>Docuseries, International TV Shows, Science &amp; ...</td>\n",
       "      <td>From Argentina to Colombia, this stunning docu...</td>\n",
       "    </tr>\n",
       "    <tr>\n",
       "      <th>5322</th>\n",
       "      <td>s5323</td>\n",
       "      <td>Movie</td>\n",
       "      <td>Undefeated</td>\n",
       "      <td>Daniel Lindsay, T.J. Martin</td>\n",
       "      <td>Montrail 'Money' Brown, O.C. Brown, Bill Court...</td>\n",
       "      <td>United States</td>\n",
       "      <td>August 18, 2017</td>\n",
       "      <td>2011</td>\n",
       "      <td>PG-13</td>\n",
       "      <td>113 min</td>\n",
       "      <td>Documentaries, Sports Movies</td>\n",
       "      <td>An inspirational profile of an inner-city high...</td>\n",
       "    </tr>\n",
       "    <tr>\n",
       "      <th>7548</th>\n",
       "      <td>s7549</td>\n",
       "      <td>Movie</td>\n",
       "      <td>My True Friend</td>\n",
       "      <td>Atsajun Sattakovit</td>\n",
       "      <td>Mario Maurer, Natcha Juntapan, Monchanok Saeng...</td>\n",
       "      <td>Thailand</td>\n",
       "      <td>July 25, 2018</td>\n",
       "      <td>2012</td>\n",
       "      <td>TV-MA</td>\n",
       "      <td>108 min</td>\n",
       "      <td>Action &amp; Adventure, Dramas, International Movies</td>\n",
       "      <td>A bullied student forms a bond with the leader...</td>\n",
       "    </tr>\n",
       "    <tr>\n",
       "      <th>6786</th>\n",
       "      <td>s6787</td>\n",
       "      <td>Movie</td>\n",
       "      <td>Forever Chape</td>\n",
       "      <td>Luis Ara</td>\n",
       "      <td>NaN</td>\n",
       "      <td>Brazil</td>\n",
       "      <td>August 2, 2018</td>\n",
       "      <td>2018</td>\n",
       "      <td>TV-MA</td>\n",
       "      <td>74 min</td>\n",
       "      <td>Documentaries, International Movies, Sports Mo...</td>\n",
       "      <td>In the wake of the plane crash that claimed th...</td>\n",
       "    </tr>\n",
       "    <tr>\n",
       "      <th>8788</th>\n",
       "      <td>s8789</td>\n",
       "      <td>Movie</td>\n",
       "      <td>You Carry Me</td>\n",
       "      <td>Ivona Juka</td>\n",
       "      <td>Lana Baric, Vojislav Brajovic, Natasa Janjic, ...</td>\n",
       "      <td>Croatia, Slovenia, Serbia, Montenegro</td>\n",
       "      <td>July 1, 2016</td>\n",
       "      <td>2015</td>\n",
       "      <td>TV-MA</td>\n",
       "      <td>157 min</td>\n",
       "      <td>Dramas, International Movies</td>\n",
       "      <td>A soap opera producer, director and makeup art...</td>\n",
       "    </tr>\n",
       "    <tr>\n",
       "      <th>4531</th>\n",
       "      <td>s4532</td>\n",
       "      <td>TV Show</td>\n",
       "      <td>LOST SONG</td>\n",
       "      <td>NaN</td>\n",
       "      <td>Konomi Suzuki, Yukari Tamura, Misaki Kuno, Chi...</td>\n",
       "      <td>Japan</td>\n",
       "      <td>October 5, 2018</td>\n",
       "      <td>2018</td>\n",
       "      <td>TV-14</td>\n",
       "      <td>1 Season</td>\n",
       "      <td>Anime Series, International TV Shows</td>\n",
       "      <td>War looms over the kingdom of Neunatia, where ...</td>\n",
       "    </tr>\n",
       "    <tr>\n",
       "      <th>1369</th>\n",
       "      <td>s1370</td>\n",
       "      <td>Movie</td>\n",
       "      <td>Finding ‘Ohana</td>\n",
       "      <td>Jude Weng</td>\n",
       "      <td>Kea Peahu, Alex Aiono, Lindsay Watson, Owen Va...</td>\n",
       "      <td>United States</td>\n",
       "      <td>January 29, 2021</td>\n",
       "      <td>2021</td>\n",
       "      <td>PG</td>\n",
       "      <td>123 min</td>\n",
       "      <td>Children &amp; Family Movies, Comedies</td>\n",
       "      <td>In Oʻahu for the summer, two siblings from Bro...</td>\n",
       "    </tr>\n",
       "  </tbody>\n",
       "</table>\n",
       "</div>"
      ],
      "text/plain": [
       "     show_id     type           title  \\\n",
       "7025   s7026    Movie      Hungerford   \n",
       "6748   s6749    Movie      Figaro Pho   \n",
       "2267   s2268    Movie  Bombay Talkies   \n",
       "1123   s1124  TV Show   Magical Andes   \n",
       "5322   s5323    Movie      Undefeated   \n",
       "7548   s7549    Movie  My True Friend   \n",
       "6786   s6787    Movie   Forever Chape   \n",
       "8788   s8789    Movie    You Carry Me   \n",
       "4531   s4532  TV Show       LOST SONG   \n",
       "1369   s1370    Movie  Finding ‘Ohana   \n",
       "\n",
       "                                               director  \\\n",
       "7025                                        Drew Casson   \n",
       "6748                                    Luke Jurevicius   \n",
       "2267  Anurag Kashyap, Dibakar Banerjee, Karan Johar,...   \n",
       "1123                                                NaN   \n",
       "5322                        Daniel Lindsay, T.J. Martin   \n",
       "7548                                 Atsajun Sattakovit   \n",
       "6786                                           Luis Ara   \n",
       "8788                                         Ivona Juka   \n",
       "4531                                                NaN   \n",
       "1369                                          Jude Weng   \n",
       "\n",
       "                                                   cast  \\\n",
       "7025  Drew Casson, Georgia Bradley, Sam Carter, Tom ...   \n",
       "6748                                    Luke Jurevicius   \n",
       "2267  Rani Mukerji, Randeep Hooda, Saqib Saleem, Naw...   \n",
       "1123                                                NaN   \n",
       "5322  Montrail 'Money' Brown, O.C. Brown, Bill Court...   \n",
       "7548  Mario Maurer, Natcha Juntapan, Monchanok Saeng...   \n",
       "6786                                                NaN   \n",
       "8788  Lana Baric, Vojislav Brajovic, Natasa Janjic, ...   \n",
       "4531  Konomi Suzuki, Yukari Tamura, Misaki Kuno, Chi...   \n",
       "1369  Kea Peahu, Alex Aiono, Lindsay Watson, Owen Va...   \n",
       "\n",
       "                                    country         date_added  release_year  \\\n",
       "7025                         United Kingdom      June 23, 2018          2014   \n",
       "6748                         United Kingdom  September 1, 2016          2008   \n",
       "2267                                  India       July 5, 2020          2013   \n",
       "1123                       Uruguay, Germany      April 1, 2021          2021   \n",
       "5322                          United States    August 18, 2017          2011   \n",
       "7548                               Thailand      July 25, 2018          2012   \n",
       "6786                                 Brazil     August 2, 2018          2018   \n",
       "8788  Croatia, Slovenia, Serbia, Montenegro       July 1, 2016          2015   \n",
       "4531                                  Japan    October 5, 2018          2018   \n",
       "1369                          United States   January 29, 2021          2021   \n",
       "\n",
       "     rating   duration                                          listed_in  \\\n",
       "7025  TV-MA     79 min  Horror Movies, Independent Movies, Internation...   \n",
       "6748  TV-Y7     29 min                 Children & Family Movies, Comedies   \n",
       "2267  TV-MA    123 min                       Dramas, International Movies   \n",
       "1123   TV-G  2 Seasons  Docuseries, International TV Shows, Science & ...   \n",
       "5322  PG-13    113 min                       Documentaries, Sports Movies   \n",
       "7548  TV-MA    108 min   Action & Adventure, Dramas, International Movies   \n",
       "6786  TV-MA     74 min  Documentaries, International Movies, Sports Mo...   \n",
       "8788  TV-MA    157 min                       Dramas, International Movies   \n",
       "4531  TV-14   1 Season               Anime Series, International TV Shows   \n",
       "1369     PG    123 min                 Children & Family Movies, Comedies   \n",
       "\n",
       "                                            description  \n",
       "7025  While filming his daily life for a media cours...  \n",
       "6748  Quirky little Figaro has a whole alphabet's wo...  \n",
       "2267  A gay man deals with his sexuality, a struggli...  \n",
       "1123  From Argentina to Colombia, this stunning docu...  \n",
       "5322  An inspirational profile of an inner-city high...  \n",
       "7548  A bullied student forms a bond with the leader...  \n",
       "6786  In the wake of the plane crash that claimed th...  \n",
       "8788  A soap opera producer, director and makeup art...  \n",
       "4531  War looms over the kingdom of Neunatia, where ...  \n",
       "1369  In Oʻahu for the summer, two siblings from Bro...  "
      ]
     },
     "execution_count": 9,
     "metadata": {},
     "output_type": "execute_result"
    }
   ],
   "source": [
    "df.sample(10)"
   ]
  },
  {
   "cell_type": "code",
   "execution_count": 10,
   "id": "54688903",
   "metadata": {},
   "outputs": [],
   "source": [
    "df['director']= df['director'].fillna('Unknown')\n",
    "df['country']=df['country'].fillna('Unknown')\n",
    "\n",
    "df['rating'] = df['rating'].fillna(df['rating'].mode()[0])\n",
    "\n",
    "\n"
   ]
  },
  {
   "cell_type": "code",
   "execution_count": 11,
   "id": "6535f943",
   "metadata": {},
   "outputs": [],
   "source": [
    "df['cast']=df['cast'].fillna('Unknown')\n",
    "df['duration']= df['duration'].fillna(df['duration'].mode()[0])"
   ]
  },
  {
   "cell_type": "code",
   "execution_count": 12,
   "id": "c13b350f",
   "metadata": {},
   "outputs": [
    {
     "data": {
      "application/vnd.microsoft.datawrangler.viewer.v0+json": {
       "columns": [
        {
         "name": "index",
         "rawType": "int64",
         "type": "integer"
        },
        {
         "name": "show_id",
         "rawType": "object",
         "type": "string"
        },
        {
         "name": "type",
         "rawType": "object",
         "type": "string"
        },
        {
         "name": "title",
         "rawType": "object",
         "type": "string"
        },
        {
         "name": "director",
         "rawType": "object",
         "type": "string"
        },
        {
         "name": "cast",
         "rawType": "object",
         "type": "string"
        },
        {
         "name": "country",
         "rawType": "object",
         "type": "string"
        },
        {
         "name": "date_added",
         "rawType": "object",
         "type": "string"
        },
        {
         "name": "release_year",
         "rawType": "int64",
         "type": "integer"
        },
        {
         "name": "rating",
         "rawType": "object",
         "type": "string"
        },
        {
         "name": "duration",
         "rawType": "object",
         "type": "string"
        },
        {
         "name": "listed_in",
         "rawType": "object",
         "type": "string"
        },
        {
         "name": "description",
         "rawType": "object",
         "type": "string"
        }
       ],
       "ref": "da4177ad-7664-4ff9-aaf3-b19eebdb086b",
       "rows": [
        [
         "6557",
         "s6558",
         "Movie",
         "Dance Academy: The Comeback",
         "Jeffrey Walker",
         "Xenia Goodwin, Alicia Banit, Dena Kaplan, Jordan Rodrigues, Keiynan Lonsdale, Thomas Lacey, Tara Morice, Miranda Otto",
         "Germany, Australia",
         "July 2, 2018",
         "2017",
         "TV-PG",
         "100 min",
         "Dramas, International Movies",
         "In this adaptation of the TV series, Tara recovers from injury and pursues a career in the U.S., where she grapples with love and professional rejection."
        ],
        [
         "5147",
         "s5148",
         "TV Show",
         "TURN: Washington's Spies",
         "Unknown",
         "Jamie Bell, Seth Numrich, Daniel Henshall, Heather Lind, Meegan Warner, Kevin McNally, Burn Gorman, Angus Macfadyen, JJ Feild, Samuel Roukin",
         "United States",
         "December 1, 2017",
         "2017",
         "TV-14",
         "4 Seasons",
         "TV Dramas",
         "Set in 1778, this period drama recounts the story of Abe Woodhull, an American cabbage farmer obliged to begin spying on the British enemy."
        ],
        [
         "235",
         "s236",
         "Movie",
         "Untold: Caitlyn Jenner",
         "Crystal Moselle",
         "Unknown",
         "Unknown",
         "August 24, 2021",
         "2021",
         "TV-PG",
         "70 min",
         "Documentaries, LGBTQ Movies, Sports Movies",
         "Caitlyn Jenner's unlikely path to Olympic glory was inspirational. But her more challenging road to embracing her true self proved even more meaningful."
        ],
        [
         "6210",
         "s6211",
         "Movie",
         "Backtrack",
         "Michael Petroni",
         "Adrien Brody, Sam Neill, Robin McLeavy, Bruce Spence, Jenni Baird, Chloe Bayliss, Anna Lise Phillips, George Shevtsov",
         "Australia, United Kingdom, United Arab Emirates, Canada",
         "December 25, 2018",
         "2015",
         "R",
         "90 min",
         "Dramas, Thrillers",
         "Haunted by visions of the dead, psychologist Peter returns home to confront a long-ago trauma. But will the trip exorcise or embolden the ghosts?"
        ],
        [
         "2203",
         "s2204",
         "TV Show",
         "Shameless (U.S.)",
         "Unknown",
         "William H. Macy, Emmy Rossum, Justin Chatwin, Cameron Monaghan, Jeremy Allen White, Shanola Hampton, Steve Howey, Ethan Cutkosky, Emma Kenney, Laura Wiggins, Joan Cusack",
         "United States",
         "July 26, 2020",
         "2019",
         "TV-MA",
         "10 Seasons",
         "TV Comedies, TV Dramas",
         "This dramedy based on a British series centers on siblings in a dysfunctional Chicago family who struggle while coping with their alcoholic father."
        ],
        [
         "2854",
         "s2855",
         "TV Show",
         "Akame ga Kill!",
         "Unknown",
         "Sora Amamiya, Soma Saito, Yukari Tamura, Yuu Asakawa, Mamiko Noto, Yoshitsugu Matsuoka, Katsuyuki Konishi, Risa Mizuno, Satomi Akesaka",
         "Japan",
         "March 1, 2020",
         "2014",
         "TV-14",
         "1 Season",
         "Anime Series, Crime TV Shows, International TV Shows",
         "Tatsumi sets out on a journey to help his poor village. When he's rescued by a band of assassins, he joins their fight against the corrupt government."
        ],
        [
         "3961",
         "s3962",
         "TV Show",
         "Pablo",
         "Unknown",
         "Jake Williamson, Rachael Dickson, Sumita Majumdar, Michael White, Tony Finnegan, Scott Mulligan, Rosie King",
         "United Kingdom",
         "March 30, 2019",
         "2017",
         "TV-Y",
         "1 Season",
         "British TV Shows, Kids' TV",
         "Equipped with crayons and his creativity, a boy with autism draws an imaginary world where his animal pals help him tackle real-life situations."
        ],
        [
         "4212",
         "s4213",
         "Movie",
         "And Breathe Normally",
         "Ísold Uggadóttir",
         "Kristín Thóra Haraldsdóttir, Babetida Sadjo, Patrik Nökkvi Pétursson",
         "Iceland, Sweden, Belgium",
         "January 4, 2019",
         "2018",
         "TV-14",
         "102 min",
         "Dramas, Independent Movies, International Movies",
         "An Icelandic single mom struggling with poverty and a Guinea-Bissauan asylum seeker facing deportation find their lives intertwined in unexpected ways."
        ],
        [
         "5268",
         "s5269",
         "Movie",
         "Jerry Before Seinfeld",
         "Michael Bonfiglio",
         "Jerry Seinfeld",
         "United States",
         "September 19, 2017",
         "2017",
         "TV-14",
         "62 min",
         "Stand-Up Comedy",
         "Jerry Seinfeld returns to the club that gave him his start in the 1970s, mixing iconic jokes with stories from his childhood and early days in comedy."
        ],
        [
         "7637",
         "s7638",
         "Movie",
         "Ocean's Eleven",
         "Lewis Milestone",
         "Frank Sinatra, Dean Martin, Sammy Davis Jr., Peter Lawford, Angie Dickinson, Richard Conte, Cesar Romero, Patrice Wymore, Joey Bishop",
         "United States",
         "November 1, 2019",
         "1960",
         "TV-PG",
         "127 min",
         "Action & Adventure, Classic Movies, Comedies",
         "Frank Sinatra leads an all-star cast as Danny Ocean, who decides to knock over a few casinos on the Las Vegas Strip with his buddies."
        ]
       ],
       "shape": {
        "columns": 12,
        "rows": 10
       }
      },
      "text/html": [
       "<div>\n",
       "<style scoped>\n",
       "    .dataframe tbody tr th:only-of-type {\n",
       "        vertical-align: middle;\n",
       "    }\n",
       "\n",
       "    .dataframe tbody tr th {\n",
       "        vertical-align: top;\n",
       "    }\n",
       "\n",
       "    .dataframe thead th {\n",
       "        text-align: right;\n",
       "    }\n",
       "</style>\n",
       "<table border=\"1\" class=\"dataframe\">\n",
       "  <thead>\n",
       "    <tr style=\"text-align: right;\">\n",
       "      <th></th>\n",
       "      <th>show_id</th>\n",
       "      <th>type</th>\n",
       "      <th>title</th>\n",
       "      <th>director</th>\n",
       "      <th>cast</th>\n",
       "      <th>country</th>\n",
       "      <th>date_added</th>\n",
       "      <th>release_year</th>\n",
       "      <th>rating</th>\n",
       "      <th>duration</th>\n",
       "      <th>listed_in</th>\n",
       "      <th>description</th>\n",
       "    </tr>\n",
       "  </thead>\n",
       "  <tbody>\n",
       "    <tr>\n",
       "      <th>6557</th>\n",
       "      <td>s6558</td>\n",
       "      <td>Movie</td>\n",
       "      <td>Dance Academy: The Comeback</td>\n",
       "      <td>Jeffrey Walker</td>\n",
       "      <td>Xenia Goodwin, Alicia Banit, Dena Kaplan, Jord...</td>\n",
       "      <td>Germany, Australia</td>\n",
       "      <td>July 2, 2018</td>\n",
       "      <td>2017</td>\n",
       "      <td>TV-PG</td>\n",
       "      <td>100 min</td>\n",
       "      <td>Dramas, International Movies</td>\n",
       "      <td>In this adaptation of the TV series, Tara reco...</td>\n",
       "    </tr>\n",
       "    <tr>\n",
       "      <th>5147</th>\n",
       "      <td>s5148</td>\n",
       "      <td>TV Show</td>\n",
       "      <td>TURN: Washington's Spies</td>\n",
       "      <td>Unknown</td>\n",
       "      <td>Jamie Bell, Seth Numrich, Daniel Henshall, Hea...</td>\n",
       "      <td>United States</td>\n",
       "      <td>December 1, 2017</td>\n",
       "      <td>2017</td>\n",
       "      <td>TV-14</td>\n",
       "      <td>4 Seasons</td>\n",
       "      <td>TV Dramas</td>\n",
       "      <td>Set in 1778, this period drama recounts the st...</td>\n",
       "    </tr>\n",
       "    <tr>\n",
       "      <th>235</th>\n",
       "      <td>s236</td>\n",
       "      <td>Movie</td>\n",
       "      <td>Untold: Caitlyn Jenner</td>\n",
       "      <td>Crystal Moselle</td>\n",
       "      <td>Unknown</td>\n",
       "      <td>Unknown</td>\n",
       "      <td>August 24, 2021</td>\n",
       "      <td>2021</td>\n",
       "      <td>TV-PG</td>\n",
       "      <td>70 min</td>\n",
       "      <td>Documentaries, LGBTQ Movies, Sports Movies</td>\n",
       "      <td>Caitlyn Jenner's unlikely path to Olympic glor...</td>\n",
       "    </tr>\n",
       "    <tr>\n",
       "      <th>6210</th>\n",
       "      <td>s6211</td>\n",
       "      <td>Movie</td>\n",
       "      <td>Backtrack</td>\n",
       "      <td>Michael Petroni</td>\n",
       "      <td>Adrien Brody, Sam Neill, Robin McLeavy, Bruce ...</td>\n",
       "      <td>Australia, United Kingdom, United Arab Emirate...</td>\n",
       "      <td>December 25, 2018</td>\n",
       "      <td>2015</td>\n",
       "      <td>R</td>\n",
       "      <td>90 min</td>\n",
       "      <td>Dramas, Thrillers</td>\n",
       "      <td>Haunted by visions of the dead, psychologist P...</td>\n",
       "    </tr>\n",
       "    <tr>\n",
       "      <th>2203</th>\n",
       "      <td>s2204</td>\n",
       "      <td>TV Show</td>\n",
       "      <td>Shameless (U.S.)</td>\n",
       "      <td>Unknown</td>\n",
       "      <td>William H. Macy, Emmy Rossum, Justin Chatwin, ...</td>\n",
       "      <td>United States</td>\n",
       "      <td>July 26, 2020</td>\n",
       "      <td>2019</td>\n",
       "      <td>TV-MA</td>\n",
       "      <td>10 Seasons</td>\n",
       "      <td>TV Comedies, TV Dramas</td>\n",
       "      <td>This dramedy based on a British series centers...</td>\n",
       "    </tr>\n",
       "    <tr>\n",
       "      <th>2854</th>\n",
       "      <td>s2855</td>\n",
       "      <td>TV Show</td>\n",
       "      <td>Akame ga Kill!</td>\n",
       "      <td>Unknown</td>\n",
       "      <td>Sora Amamiya, Soma Saito, Yukari Tamura, Yuu A...</td>\n",
       "      <td>Japan</td>\n",
       "      <td>March 1, 2020</td>\n",
       "      <td>2014</td>\n",
       "      <td>TV-14</td>\n",
       "      <td>1 Season</td>\n",
       "      <td>Anime Series, Crime TV Shows, International TV...</td>\n",
       "      <td>Tatsumi sets out on a journey to help his poor...</td>\n",
       "    </tr>\n",
       "    <tr>\n",
       "      <th>3961</th>\n",
       "      <td>s3962</td>\n",
       "      <td>TV Show</td>\n",
       "      <td>Pablo</td>\n",
       "      <td>Unknown</td>\n",
       "      <td>Jake Williamson, Rachael Dickson, Sumita Majum...</td>\n",
       "      <td>United Kingdom</td>\n",
       "      <td>March 30, 2019</td>\n",
       "      <td>2017</td>\n",
       "      <td>TV-Y</td>\n",
       "      <td>1 Season</td>\n",
       "      <td>British TV Shows, Kids' TV</td>\n",
       "      <td>Equipped with crayons and his creativity, a bo...</td>\n",
       "    </tr>\n",
       "    <tr>\n",
       "      <th>4212</th>\n",
       "      <td>s4213</td>\n",
       "      <td>Movie</td>\n",
       "      <td>And Breathe Normally</td>\n",
       "      <td>Ísold Uggadóttir</td>\n",
       "      <td>Kristín Thóra Haraldsdóttir, Babetida Sadjo...</td>\n",
       "      <td>Iceland, Sweden, Belgium</td>\n",
       "      <td>January 4, 2019</td>\n",
       "      <td>2018</td>\n",
       "      <td>TV-14</td>\n",
       "      <td>102 min</td>\n",
       "      <td>Dramas, Independent Movies, International Movies</td>\n",
       "      <td>An Icelandic single mom struggling with povert...</td>\n",
       "    </tr>\n",
       "    <tr>\n",
       "      <th>5268</th>\n",
       "      <td>s5269</td>\n",
       "      <td>Movie</td>\n",
       "      <td>Jerry Before Seinfeld</td>\n",
       "      <td>Michael Bonfiglio</td>\n",
       "      <td>Jerry Seinfeld</td>\n",
       "      <td>United States</td>\n",
       "      <td>September 19, 2017</td>\n",
       "      <td>2017</td>\n",
       "      <td>TV-14</td>\n",
       "      <td>62 min</td>\n",
       "      <td>Stand-Up Comedy</td>\n",
       "      <td>Jerry Seinfeld returns to the club that gave h...</td>\n",
       "    </tr>\n",
       "    <tr>\n",
       "      <th>7637</th>\n",
       "      <td>s7638</td>\n",
       "      <td>Movie</td>\n",
       "      <td>Ocean's Eleven</td>\n",
       "      <td>Lewis Milestone</td>\n",
       "      <td>Frank Sinatra, Dean Martin, Sammy Davis Jr., P...</td>\n",
       "      <td>United States</td>\n",
       "      <td>November 1, 2019</td>\n",
       "      <td>1960</td>\n",
       "      <td>TV-PG</td>\n",
       "      <td>127 min</td>\n",
       "      <td>Action &amp; Adventure, Classic Movies, Comedies</td>\n",
       "      <td>Frank Sinatra leads an all-star cast as Danny ...</td>\n",
       "    </tr>\n",
       "  </tbody>\n",
       "</table>\n",
       "</div>"
      ],
      "text/plain": [
       "     show_id     type                        title           director  \\\n",
       "6557   s6558    Movie  Dance Academy: The Comeback     Jeffrey Walker   \n",
       "5147   s5148  TV Show     TURN: Washington's Spies            Unknown   \n",
       "235     s236    Movie       Untold: Caitlyn Jenner    Crystal Moselle   \n",
       "6210   s6211    Movie                    Backtrack    Michael Petroni   \n",
       "2203   s2204  TV Show             Shameless (U.S.)            Unknown   \n",
       "2854   s2855  TV Show               Akame ga Kill!            Unknown   \n",
       "3961   s3962  TV Show                        Pablo            Unknown   \n",
       "4212   s4213    Movie         And Breathe Normally   Ísold Uggadóttir   \n",
       "5268   s5269    Movie        Jerry Before Seinfeld  Michael Bonfiglio   \n",
       "7637   s7638    Movie               Ocean's Eleven    Lewis Milestone   \n",
       "\n",
       "                                                   cast  \\\n",
       "6557  Xenia Goodwin, Alicia Banit, Dena Kaplan, Jord...   \n",
       "5147  Jamie Bell, Seth Numrich, Daniel Henshall, Hea...   \n",
       "235                                             Unknown   \n",
       "6210  Adrien Brody, Sam Neill, Robin McLeavy, Bruce ...   \n",
       "2203  William H. Macy, Emmy Rossum, Justin Chatwin, ...   \n",
       "2854  Sora Amamiya, Soma Saito, Yukari Tamura, Yuu A...   \n",
       "3961  Jake Williamson, Rachael Dickson, Sumita Majum...   \n",
       "4212  Kristín Thóra Haraldsdóttir, Babetida Sadjo...   \n",
       "5268                                     Jerry Seinfeld   \n",
       "7637  Frank Sinatra, Dean Martin, Sammy Davis Jr., P...   \n",
       "\n",
       "                                                country          date_added  \\\n",
       "6557                                 Germany, Australia        July 2, 2018   \n",
       "5147                                      United States    December 1, 2017   \n",
       "235                                             Unknown     August 24, 2021   \n",
       "6210  Australia, United Kingdom, United Arab Emirate...   December 25, 2018   \n",
       "2203                                      United States       July 26, 2020   \n",
       "2854                                              Japan       March 1, 2020   \n",
       "3961                                     United Kingdom      March 30, 2019   \n",
       "4212                           Iceland, Sweden, Belgium     January 4, 2019   \n",
       "5268                                      United States  September 19, 2017   \n",
       "7637                                      United States    November 1, 2019   \n",
       "\n",
       "      release_year rating    duration  \\\n",
       "6557          2017  TV-PG     100 min   \n",
       "5147          2017  TV-14   4 Seasons   \n",
       "235           2021  TV-PG      70 min   \n",
       "6210          2015      R      90 min   \n",
       "2203          2019  TV-MA  10 Seasons   \n",
       "2854          2014  TV-14    1 Season   \n",
       "3961          2017   TV-Y    1 Season   \n",
       "4212          2018  TV-14     102 min   \n",
       "5268          2017  TV-14      62 min   \n",
       "7637          1960  TV-PG     127 min   \n",
       "\n",
       "                                              listed_in  \\\n",
       "6557                       Dramas, International Movies   \n",
       "5147                                          TV Dramas   \n",
       "235          Documentaries, LGBTQ Movies, Sports Movies   \n",
       "6210                                  Dramas, Thrillers   \n",
       "2203                             TV Comedies, TV Dramas   \n",
       "2854  Anime Series, Crime TV Shows, International TV...   \n",
       "3961                         British TV Shows, Kids' TV   \n",
       "4212   Dramas, Independent Movies, International Movies   \n",
       "5268                                    Stand-Up Comedy   \n",
       "7637       Action & Adventure, Classic Movies, Comedies   \n",
       "\n",
       "                                            description  \n",
       "6557  In this adaptation of the TV series, Tara reco...  \n",
       "5147  Set in 1778, this period drama recounts the st...  \n",
       "235   Caitlyn Jenner's unlikely path to Olympic glor...  \n",
       "6210  Haunted by visions of the dead, psychologist P...  \n",
       "2203  This dramedy based on a British series centers...  \n",
       "2854  Tatsumi sets out on a journey to help his poor...  \n",
       "3961  Equipped with crayons and his creativity, a bo...  \n",
       "4212  An Icelandic single mom struggling with povert...  \n",
       "5268  Jerry Seinfeld returns to the club that gave h...  \n",
       "7637  Frank Sinatra leads an all-star cast as Danny ...  "
      ]
     },
     "execution_count": 12,
     "metadata": {},
     "output_type": "execute_result"
    }
   ],
   "source": [
    "df.sample(10)"
   ]
  },
  {
   "cell_type": "code",
   "execution_count": 13,
   "id": "3ab7b063",
   "metadata": {},
   "outputs": [
    {
     "data": {
      "application/vnd.microsoft.datawrangler.viewer.v0+json": {
       "columns": [
        {
         "name": "index",
         "rawType": "object",
         "type": "string"
        },
        {
         "name": "0",
         "rawType": "int64",
         "type": "integer"
        }
       ],
       "ref": "fce32d2d-b580-4328-a847-32044c9acee1",
       "rows": [
        [
         "show_id",
         "0"
        ],
        [
         "type",
         "0"
        ],
        [
         "title",
         "0"
        ],
        [
         "director",
         "0"
        ],
        [
         "cast",
         "0"
        ],
        [
         "country",
         "0"
        ],
        [
         "date_added",
         "10"
        ],
        [
         "release_year",
         "0"
        ],
        [
         "rating",
         "0"
        ],
        [
         "duration",
         "0"
        ],
        [
         "listed_in",
         "0"
        ],
        [
         "description",
         "0"
        ]
       ],
       "shape": {
        "columns": 1,
        "rows": 12
       }
      },
      "text/plain": [
       "show_id          0\n",
       "type             0\n",
       "title            0\n",
       "director         0\n",
       "cast             0\n",
       "country          0\n",
       "date_added      10\n",
       "release_year     0\n",
       "rating           0\n",
       "duration         0\n",
       "listed_in        0\n",
       "description      0\n",
       "dtype: int64"
      ]
     },
     "execution_count": 13,
     "metadata": {},
     "output_type": "execute_result"
    }
   ],
   "source": [
    "df.isnull().sum()"
   ]
  },
  {
   "cell_type": "code",
   "execution_count": 14,
   "id": "8a08fab7",
   "metadata": {},
   "outputs": [
    {
     "data": {
      "application/vnd.microsoft.datawrangler.viewer.v0+json": {
       "columns": [
        {
         "name": "index",
         "rawType": "int64",
         "type": "integer"
        },
        {
         "name": "date_added",
         "rawType": "datetime64[ns]",
         "type": "datetime"
        },
        {
         "name": "year_added",
         "rawType": "float64",
         "type": "float"
        },
        {
         "name": "month_added",
         "rawType": "float64",
         "type": "float"
        }
       ],
       "ref": "23cf766a-6e5d-444c-93f9-c281e63de974",
       "rows": [
        [
         "0",
         "2021-09-25 00:00:00",
         "2021.0",
         "9.0"
        ],
        [
         "1",
         "2021-09-24 00:00:00",
         "2021.0",
         "9.0"
        ],
        [
         "2",
         "2021-09-24 00:00:00",
         "2021.0",
         "9.0"
        ],
        [
         "3",
         "2021-09-24 00:00:00",
         "2021.0",
         "9.0"
        ],
        [
         "4",
         "2021-09-24 00:00:00",
         "2021.0",
         "9.0"
        ]
       ],
       "shape": {
        "columns": 3,
        "rows": 5
       }
      },
      "text/html": [
       "<div>\n",
       "<style scoped>\n",
       "    .dataframe tbody tr th:only-of-type {\n",
       "        vertical-align: middle;\n",
       "    }\n",
       "\n",
       "    .dataframe tbody tr th {\n",
       "        vertical-align: top;\n",
       "    }\n",
       "\n",
       "    .dataframe thead th {\n",
       "        text-align: right;\n",
       "    }\n",
       "</style>\n",
       "<table border=\"1\" class=\"dataframe\">\n",
       "  <thead>\n",
       "    <tr style=\"text-align: right;\">\n",
       "      <th></th>\n",
       "      <th>date_added</th>\n",
       "      <th>year_added</th>\n",
       "      <th>month_added</th>\n",
       "    </tr>\n",
       "  </thead>\n",
       "  <tbody>\n",
       "    <tr>\n",
       "      <th>0</th>\n",
       "      <td>2021-09-25</td>\n",
       "      <td>2021.0</td>\n",
       "      <td>9.0</td>\n",
       "    </tr>\n",
       "    <tr>\n",
       "      <th>1</th>\n",
       "      <td>2021-09-24</td>\n",
       "      <td>2021.0</td>\n",
       "      <td>9.0</td>\n",
       "    </tr>\n",
       "    <tr>\n",
       "      <th>2</th>\n",
       "      <td>2021-09-24</td>\n",
       "      <td>2021.0</td>\n",
       "      <td>9.0</td>\n",
       "    </tr>\n",
       "    <tr>\n",
       "      <th>3</th>\n",
       "      <td>2021-09-24</td>\n",
       "      <td>2021.0</td>\n",
       "      <td>9.0</td>\n",
       "    </tr>\n",
       "    <tr>\n",
       "      <th>4</th>\n",
       "      <td>2021-09-24</td>\n",
       "      <td>2021.0</td>\n",
       "      <td>9.0</td>\n",
       "    </tr>\n",
       "  </tbody>\n",
       "</table>\n",
       "</div>"
      ],
      "text/plain": [
       "  date_added  year_added  month_added\n",
       "0 2021-09-25      2021.0          9.0\n",
       "1 2021-09-24      2021.0          9.0\n",
       "2 2021-09-24      2021.0          9.0\n",
       "3 2021-09-24      2021.0          9.0\n",
       "4 2021-09-24      2021.0          9.0"
      ]
     },
     "execution_count": 14,
     "metadata": {},
     "output_type": "execute_result"
    }
   ],
   "source": [
    "df['date_added'] = pd.to_datetime(df['date_added'],errors='coerce')\n",
    "df['year_added'] = df['date_added'].dt.year\n",
    "df['month_added'] = df['date_added'].dt.month\n",
    "df[['date_added', 'year_added', 'month_added']].head()"
   ]
  },
  {
   "cell_type": "code",
   "execution_count": 15,
   "id": "1407048f",
   "metadata": {},
   "outputs": [
    {
     "data": {
      "text/plain": [
       "np.int64(0)"
      ]
     },
     "execution_count": 15,
     "metadata": {},
     "output_type": "execute_result"
    }
   ],
   "source": [
    "df.duplicated().sum()"
   ]
  },
  {
   "cell_type": "code",
   "execution_count": 16,
   "id": "3b6a6e8b",
   "metadata": {},
   "outputs": [
    {
     "name": "stdout",
     "output_type": "stream",
     "text": [
      "['PG-13' 'TV-MA' 'PG' 'TV-14' 'TV-PG' 'TV-Y' 'TV-Y7' 'R' 'TV-G' 'G'\n",
      " 'NC-17' '74 min' '84 min' '66 min' 'NR' 'TV-Y7-FV' 'UR']\n",
      "8807\n",
      "['Movie' 'TV Show']\n",
      "[2020 2021 1993 2018 1996 1998 1997 2010 2013 2017 1975 1978 1983 1987\n",
      " 2012 2001 2014 2002 2003 2004 2011 2008 2009 2007 2005 2006 1994 2015\n",
      " 2019 2016 1982 1989 1990 1991 1999 1986 1992 1984 1980 1961 2000 1995\n",
      " 1985 1976 1959 1988 1981 1972 1964 1945 1954 1979 1958 1956 1963 1970\n",
      " 1973 1925 1974 1960 1966 1971 1962 1969 1977 1967 1968 1965 1946 1942\n",
      " 1955 1944 1947 1943]\n",
      "['90 min' '2 Seasons' '1 Season' '91 min' '125 min' '9 Seasons' '104 min'\n",
      " '127 min' '4 Seasons' '67 min' '94 min' '5 Seasons' '161 min' '61 min'\n",
      " '166 min' '147 min' '103 min' '97 min' '106 min' '111 min' '3 Seasons'\n",
      " '110 min' '105 min' '96 min' '124 min' '116 min' '98 min' '23 min'\n",
      " '115 min' '122 min' '99 min' '88 min' '100 min' '6 Seasons' '102 min'\n",
      " '93 min' '95 min' '85 min' '83 min' '113 min' '13 min' '182 min' '48 min'\n",
      " '145 min' '87 min' '92 min' '80 min' '117 min' '128 min' '119 min'\n",
      " '143 min' '114 min' '118 min' '108 min' '63 min' '121 min' '142 min'\n",
      " '154 min' '120 min' '82 min' '109 min' '101 min' '86 min' '229 min'\n",
      " '76 min' '89 min' '156 min' '112 min' '107 min' '129 min' '135 min'\n",
      " '136 min' '165 min' '150 min' '133 min' '70 min' '84 min' '140 min'\n",
      " '78 min' '7 Seasons' '64 min' '59 min' '139 min' '69 min' '148 min'\n",
      " '189 min' '141 min' '130 min' '138 min' '81 min' '132 min' '10 Seasons'\n",
      " '123 min' '65 min' '68 min' '66 min' '62 min' '74 min' '131 min' '39 min'\n",
      " '46 min' '38 min' '8 Seasons' '17 Seasons' '126 min' '155 min' '159 min'\n",
      " '137 min' '12 min' '273 min' '36 min' '34 min' '77 min' '60 min' '49 min'\n",
      " '58 min' '72 min' '204 min' '212 min' '25 min' '73 min' '29 min' '47 min'\n",
      " '32 min' '35 min' '71 min' '149 min' '33 min' '15 min' '54 min' '224 min'\n",
      " '162 min' '37 min' '75 min' '79 min' '55 min' '158 min' '164 min'\n",
      " '173 min' '181 min' '185 min' '21 min' '24 min' '51 min' '151 min'\n",
      " '42 min' '22 min' '134 min' '177 min' '13 Seasons' '52 min' '14 min'\n",
      " '53 min' '8 min' '57 min' '28 min' '50 min' '9 min' '26 min' '45 min'\n",
      " '171 min' '27 min' '44 min' '146 min' '20 min' '157 min' '17 min'\n",
      " '203 min' '41 min' '30 min' '194 min' '15 Seasons' '233 min' '237 min'\n",
      " '230 min' '195 min' '253 min' '152 min' '190 min' '160 min' '208 min'\n",
      " '180 min' '144 min' '5 min' '174 min' '170 min' '192 min' '209 min'\n",
      " '187 min' '172 min' '16 min' '186 min' '11 min' '193 min' '176 min'\n",
      " '56 min' '169 min' '40 min' '10 min' '3 min' '168 min' '312 min'\n",
      " '153 min' '214 min' '31 min' '163 min' '19 min' '12 Seasons' '179 min'\n",
      " '11 Seasons' '43 min' '200 min' '196 min' '167 min' '178 min' '228 min'\n",
      " '18 min' '205 min' '201 min' '191 min']\n",
      "['Dick Johnson Is Dead' 'Blood & Water' 'Ganglands' ... 'Zombieland'\n",
      " 'Zoom' 'Zubaan']\n",
      "['Unknown'\n",
      " 'Ama Qamata, Khosi Ngema, Gail Mabalane, Thabang Molaba, Dillon Windvogel, Natasha Thahane, Arno Greeff, Xolile Tshabalala, Getmore Sithole, Cindy Mahlangu, Ryle De Morny, Greteli Fincham, Sello Maake Ka-Ncube, Odwa Gwanya, Mekaila Mathys, Sandi Schultz, Duane Williams, Shamilla Miller, Patrick Mofokeng'\n",
      " 'Sami Bouajila, Tracy Gotoas, Samuel Jouy, Nabiha Akkari, Sofia Lesaffre, Salim Kechiouche, Noureddine Farihi, Geert Van Rampelberg, Bakary Diombera'\n",
      " ...\n",
      " 'Jesse Eisenberg, Woody Harrelson, Emma Stone, Abigail Breslin, Amber Heard, Bill Murray, Derek Graf'\n",
      " 'Tim Allen, Courteney Cox, Chevy Chase, Kate Mara, Ryan Newman, Michael Cassidy, Spencer Breslin, Rip Torn, Kevin Zegers'\n",
      " 'Vicky Kaushal, Sarah-Jane Dias, Raaghav Chanana, Manish Chaudhary, Meghna Malik, Malkeet Rauni, Anita Shabdish, Chittaranjan Tripathy']\n",
      "<DatetimeArray>\n",
      "['2021-09-25 00:00:00', '2021-09-24 00:00:00', '2021-09-23 00:00:00',\n",
      " '2021-09-22 00:00:00', '2021-09-21 00:00:00', '2021-09-20 00:00:00',\n",
      " '2021-09-19 00:00:00', '2021-09-17 00:00:00', '2021-09-16 00:00:00',\n",
      " '2021-09-15 00:00:00',\n",
      " ...\n",
      " '2018-09-27 00:00:00', '2017-03-23 00:00:00', '2016-12-25 00:00:00',\n",
      " '2016-11-30 00:00:00', '2017-10-23 00:00:00', '2017-11-04 00:00:00',\n",
      " '2015-08-05 00:00:00', '2018-12-06 00:00:00', '2016-03-09 00:00:00',\n",
      " '2020-01-11 00:00:00']\n",
      "Length: 1700, dtype: datetime64[ns]\n"
     ]
    }
   ],
   "source": [
    "print(df['rating'].unique())\n",
    "print(df['show_id'].nunique())\n",
    "print(df['type'].unique())\n",
    "print(df['release_year'].unique())\n",
    "print(df['duration'].unique())\n",
    "print(df['title'].unique())\n",
    "print(df['cast'].unique())\n",
    "\n",
    "print(df['date_added'].unique())"
   ]
  },
  {
   "cell_type": "code",
   "execution_count": 17,
   "id": "4da625cb",
   "metadata": {},
   "outputs": [
    {
     "name": "stdout",
     "output_type": "stream",
     "text": [
      "['United States' 'South Africa' 'Unknown' 'India'\n",
      " 'United States, Ghana, Burkina Faso, United Kingdom, Germany, Ethiopia'\n",
      " 'United Kingdom' 'Germany, Czech Republic' 'Mexico' 'Turkey' 'Australia'\n",
      " 'United States, India, France' 'Finland' 'China, Canada, United States'\n",
      " 'South Africa, United States, Japan' 'Nigeria' 'Japan'\n",
      " 'Spain, United States' 'France' 'Belgium' 'United Kingdom, United States'\n",
      " 'United States, United Kingdom' 'France, United States' 'South Korea'\n",
      " 'Spain' 'United States, Singapore' 'United Kingdom, Australia, France'\n",
      " 'United Kingdom, Australia, France, United States'\n",
      " 'United States, Canada' 'Germany, United States'\n",
      " 'South Africa, United States' 'United States, Mexico'\n",
      " 'United States, Italy, France, Japan'\n",
      " 'United States, Italy, Romania, United Kingdom'\n",
      " 'Australia, United States' 'Argentina, Venezuela'\n",
      " 'United States, United Kingdom, Canada' 'China, Hong Kong' 'Russia'\n",
      " 'Canada' 'Hong Kong' 'United States, China, Hong Kong'\n",
      " 'Italy, United States' 'United States, Germany'\n",
      " 'United Kingdom, Canada, United States' ', South Korea' 'Ireland'\n",
      " 'India, Nepal' 'New Zealand, Australia, France, United States' 'Italy'\n",
      " 'Italy, Brazil, Greece' 'Argentina' 'Jordan' 'Colombia'\n",
      " 'United States, Japan' 'Belgium, United Kingdom'\n",
      " 'Switzerland, United Kingdom, Australia' 'Israel, United States'\n",
      " 'Canada, United States' 'Brazil' 'Argentina, Spain' 'Taiwan'\n",
      " 'United States, Nigeria' 'Bulgaria, United States'\n",
      " 'Spain, United Kingdom, United States' 'United States, China'\n",
      " 'United States, France' 'Spain, France, United Kingdom, United States'\n",
      " ', France, Algeria' 'Poland' 'Germany'\n",
      " 'France, Israel, Germany, United States, United Kingdom' 'New Zealand'\n",
      " 'Saudi Arabia' 'Thailand' 'Indonesia' 'Egypt, Denmark, Germany'\n",
      " 'United States, Switzerland' 'Hong Kong, Canada, United States'\n",
      " 'Kuwait, United States' 'France, Canada, United States, Spain'\n",
      " 'France, Netherlands, Singapore' 'France, Belgium'\n",
      " 'Ireland, United States, United Kingdom' 'Egypt' 'Malaysia' 'Israel'\n",
      " 'Australia, New Zealand' 'United Kingdom, Germany' 'Belgium, Netherlands'\n",
      " 'South Korea, Czech Republic' 'Australia, Germany' 'Vietnam'\n",
      " 'United Kingdom, Belgium' 'United Kingdom, Australia, United States'\n",
      " 'France, Japan, United States'\n",
      " 'United Kingdom, Germany, Spain, United States'\n",
      " 'United Kingdom, United States, France, Italy'\n",
      " 'United States, Germany, Canada'\n",
      " 'United States, France, Italy, United Kingdom'\n",
      " 'United States, United Kingdom, Germany, Hungary'\n",
      " 'United States, New Zealand' 'Sweden' 'China' 'Lebanon' 'Romania'\n",
      " 'Finland, Germany' 'Lebanon, Syria' 'Philippines' 'Iceland' 'Denmark'\n",
      " 'United States, India' 'Philippines, Singapore, Indonesia'\n",
      " 'China, United States, Canada' 'Lebanon, United Arab Emirates'\n",
      " 'Canada, United States, Denmark' 'United Arab Emirates'\n",
      " 'Mexico, France, Colombia' 'Netherlands' 'Germany, United States, France'\n",
      " 'United States, Bulgaria'\n",
      " 'United Kingdom, France, Germany, United States' 'Norway, Denmark'\n",
      " 'Syria, France, Lebanon, Qatar' 'United States, Czech Republic'\n",
      " 'Mauritius' 'Canada, South Africa' 'Austria' 'Mexico, Brazil'\n",
      " 'Germany, France' 'Mexico, United States'\n",
      " 'United Kingdom, France, Spain, United States' 'United States, Australia'\n",
      " 'United States, United Kingdom, France' 'United States, Russia'\n",
      " 'United States, United Kingdom, New Zealand' 'Australia, United Kingdom'\n",
      " 'Canada, Nigeria, United States'\n",
      " 'France, United States, United Kingdom, Canada' 'France, United Kingdom'\n",
      " 'India, United Kingdom' 'Canada, United States, Mexico'\n",
      " 'United Kingdom, Germany, United States'\n",
      " 'Czech Republic, United Kingdom, United States' 'China, United Kingdom'\n",
      " 'Italy, United Kingdom' 'China, Taiwan'\n",
      " 'United States, Brazil, Japan, Spain, India'\n",
      " 'United States, China, United Kingdom' 'Cameroon'\n",
      " 'Lebanon, Palestine, Denmark, Qatar' 'Japan, United States'\n",
      " 'Uruguay, Germany' 'Egypt, Saudi Arabia'\n",
      " 'United Kingdom, France, Poland, Germany, United States'\n",
      " 'Ireland, Switzerland, United Kingdom, France, United States'\n",
      " 'United Kingdom, South Africa, France'\n",
      " 'Ireland, United Kingdom, France, Germany' 'Russia, United States'\n",
      " 'United Kingdom, United States, France' 'United Kingdom,'\n",
      " 'United States, India, United Kingdom' 'Kenya' 'Spain, Argentina'\n",
      " 'India, United Kingdom, France, Qatar' 'Belgium, France'\n",
      " 'Argentina, Chile' 'United States, Thailand' 'Chile, Brazil'\n",
      " 'United States, Colombia' 'Canada, United States, United Kingdom'\n",
      " 'Uruguay' 'Luxembourg' 'United States, Cambodia, Romania' 'Bangladesh'\n",
      " 'Spain, Belgium, United States'\n",
      " 'United Kingdom, United States, Australia'\n",
      " 'Canada, United States, France' 'Portugal, United States'\n",
      " 'Portugal, Spain' 'India, United States' 'United Kingdom, Ireland'\n",
      " 'United Kingdom, Spain, United States' 'Hungary, United States'\n",
      " 'United States, South Korea' 'Canada, United States, Cayman Islands'\n",
      " 'India, France' 'France, Canada' 'Canada, Hungary, United States'\n",
      " 'Norway' 'Canada, United Kingdom, United States'\n",
      " 'United Kingdom, Germany, France, United States' 'Denmark, United States'\n",
      " 'Senegal' 'France, Algeria'\n",
      " 'United Kingdom, Finland, Germany, United States, Australia, Japan, France, Ireland'\n",
      " 'Philippines, Canada, United Kingdom, United States'\n",
      " 'Ireland, France, Iceland, United States, Mexico, Belgium, United Kingdom, Hong Kong'\n",
      " 'Singapore' 'Kuwait' 'United States, France, Serbia'\n",
      " 'United States, Italy' 'Spain, Italy'\n",
      " 'United States, Ireland, United Kingdom, India'\n",
      " 'United Kingdom, Singapore' 'Hong Kong, United States'\n",
      " 'United States, Malta, France, United Kingdom'\n",
      " 'United States, China, Canada' 'Canada, United States, Ireland'\n",
      " 'Lebanon, Canada, France' 'Japan, Canada, United States'\n",
      " 'Spain, France, Canada' 'Denmark, Singapore, Canada, United States'\n",
      " 'United States, France, Denmark' 'United States, China, Colombia'\n",
      " 'Spain, Thailand, United States' 'Mexico, Spain'\n",
      " 'Ireland, Luxembourg, Belgium' 'China, United States' 'Canada, Belgium'\n",
      " 'Canada, United Kingdom'\n",
      " 'Lebanon, United Arab Emirates, France, Switzerland, Germany'\n",
      " 'France, Belgium, Italy' 'Lebanon, United States, United Arab Emirates'\n",
      " 'Lebanon, France' 'France, Lebanon' 'France, Lebanon, United Kingdom'\n",
      " 'France, Norway, Lebanon, Belgium'\n",
      " 'Sweden, Czech Republic, United Kingdom, Denmark, Netherlands'\n",
      " 'United States, United Kingdom, India' 'Indonesia, Netherlands'\n",
      " 'Turkey, South Korea' 'Serbia, United States' 'Namibia'\n",
      " 'United Kingdom, Kenya' 'United Kingdom, France, Germany, Spain'\n",
      " 'United Kingdom, France, United States, Belgium, Luxembourg, China, Germany'\n",
      " 'Thailand, United States' 'United States, France, Canada, Belgium'\n",
      " 'United Kingdom, China' 'Germany, China, United Kingdom'\n",
      " 'Australia, New Zealand, United States'\n",
      " 'Hong Kong, Iceland, United States' 'France, Australia, Germany'\n",
      " 'United States, Belgium, Canada, France' 'South Africa, Angola'\n",
      " 'United States, Philippines'\n",
      " 'United States, United Kingdom, Canada, China'\n",
      " 'United States, Canada, United Kingdom' 'Turkey, United States'\n",
      " 'Peru, Germany, Norway' 'Mozambique' 'Brazil, France'\n",
      " 'China, Spain, South Korea, United States' 'Spain, Germany'\n",
      " 'Hong Kong, China' 'France, Belgium, Luxembourg, Cambodia,'\n",
      " 'United Kingdom, Australia' 'Belarus' 'Indonesia, United Kingdom'\n",
      " 'Switzerland, France, Belgium, United States' 'Ghana'\n",
      " 'Spain, France, Canada, United States' 'Chile, Italy'\n",
      " 'United Kingdom, Nigeria' 'Chile' 'France, Egypt' 'Egypt, France'\n",
      " 'France, Brazil, Spain, Belgium' 'Egypt, Algeria'\n",
      " 'Canada, South Korea, United States' 'Nigeria, United Kingdom'\n",
      " 'United States, France, Canada' 'Poland, United States'\n",
      " 'United Arab Emirates, Jordan, Lebanon, Saudi Arabia'\n",
      " 'United States, Mexico, Spain, Malta'\n",
      " 'Saudi Arabia, United Arab Emirates' 'Zimbabwe'\n",
      " 'United Kingdom, Germany, United Arab Emirates, New Zealand'\n",
      " 'Romania, United States' 'Canada, Nigeria'\n",
      " 'Saudi Arabia, Netherlands, Germany, Jordan, United Arab Emirates, United States'\n",
      " 'United Kingdom, Spain' 'Finland, France'\n",
      " 'United Kingdom, Germany, United States, France'\n",
      " 'India, United Kingdom, China, Canada, Japan, South Korea, United States'\n",
      " 'Italy, United Kingdom, France' 'United States, Mexico, Colombia'\n",
      " 'Turkey, India' 'Italy, Turkey' 'United Kingdom, United States, Japan'\n",
      " 'France, Belgium, United States' 'Puerto Rico, United States, Colombia'\n",
      " 'Uruguay, Argentina' 'United States, United Kingdom, Japan'\n",
      " 'United States, Argentina' 'United Kingdom, Italy'\n",
      " 'Ireland, United Kingdom'\n",
      " 'United Kingdom, France, Belgium, Canada, United States'\n",
      " 'Netherlands, Germany, Denmark, United Kingdom' 'Hungary'\n",
      " 'Austria, Germany' 'Taiwan, China'\n",
      " 'United Kingdom, United States, Ireland' 'South Korea, United States'\n",
      " 'Brazil, United Kingdom' 'Pakistan, United States'\n",
      " 'Romania, France, Switzerland, Germany' 'Romania, United Kingdom'\n",
      " 'France, Malta, United States' 'Cyprus'\n",
      " 'United Kingdom, France, Belgium, Ireland, United States'\n",
      " 'United States, Norway, Canada' 'Kenya, United States'\n",
      " 'France, South Korea, Japan, United States' 'Taiwan, Malaysia'\n",
      " 'Uruguay, Argentina, Germany, Spain'\n",
      " 'United States, United Kingdom, France, Germany, Japan'\n",
      " 'United States, France, Japan' 'United Kingdom, France, United States'\n",
      " 'Spain, France, United States' 'Indonesia, South Korea, Singapore'\n",
      " 'United States, Spain' 'Netherlands, Germany, Italy, Canada'\n",
      " 'Spain, Germany, Denmark, United States' 'Norway, Sweden'\n",
      " 'South Korea, Canada, United States, China' 'Argentina, Uruguay, Serbia'\n",
      " 'France, Japan' 'Mauritius, South Africa' 'United States, Poland'\n",
      " 'United Kingdom, United States, Germany, Denmark, Belgium, Japan'\n",
      " 'India, Germany' 'India, United Kingdom, Canada, United States'\n",
      " 'Philippines, United States' 'Romania, Bulgaria, Hungary'\n",
      " 'Uruguay, Guatemala' 'France, Senegal, Belgium' 'United Kingdom, Canada'\n",
      " 'Mexico, United States, Spain, Colombia' 'Canada, Norway'\n",
      " 'Singapore, United States' 'Finland, Germany, Belgium'\n",
      " 'United Kingdom, France' 'United States, Chile'\n",
      " 'United Kingdom, Japan, United States' 'Spain, United Kingdom'\n",
      " 'Argentina, United States, Mexico' 'United States, South Korea, Japan'\n",
      " 'Canada, Australia' 'United Kingdom, Hungary, Australia' 'Italy, Belgium'\n",
      " 'United States, United Kingdom, Germany' 'Switzerland'\n",
      " 'Singapore, Malaysia'\n",
      " 'France, Belgium, Luxembourg, Romania, Canada, United States'\n",
      " 'South Africa, Nigeria' 'Spain, France' 'United Kingdom, Hong Kong'\n",
      " 'Pakistan' 'Brazil, United States'\n",
      " 'Denmark, Brazil, France, Portugal, Sweden' 'India, Turkey'\n",
      " 'Malaysia, Singapore, Hong Kong' 'Philippines, Singapore'\n",
      " 'Australia, Canada' 'Taiwan, China, France, United States'\n",
      " 'Germany, Italy' 'Colombia, Peru, United Kingdom'\n",
      " 'Thailand, China, United States' 'Argentina, United States'\n",
      " 'Sweden, United States' 'Uruguay, Spain, Mexico'\n",
      " 'France, Luxembourg, Canada' 'Denmark, Spain' 'Chile, Argentina'\n",
      " 'United Kingdom, Belgium, Sweden' 'Canada, Brazil' 'Italy, France'\n",
      " 'Canada, Germany' 'Pakistan, United Arab Emirates' 'Ghana, United States'\n",
      " 'Mexico, Finland' 'United Arab Emirates, United Kingdom, India'\n",
      " 'Netherlands, Belgium' 'United States, Taiwan'\n",
      " 'Austria, Iraq, United States' 'United Kingdom, Malawi'\n",
      " 'Paraguay, Argentina' 'United Kingdom, Russia, United States'\n",
      " 'India, Pakistan' 'Indonesia, Singapore' 'Spain, Belgium'\n",
      " 'Iceland, Sweden, Belgium' 'Croatia' 'Uruguay, Argentina, Spain'\n",
      " 'United Kingdom, Ireland, United States'\n",
      " 'Canada, Germany, France, United States' 'United Kingdom, Japan'\n",
      " 'Norway, Denmark, Netherlands, Sweden' 'Hong Kong, China, United States'\n",
      " 'Ireland, Canada' 'Italy, Switzerland, France, Germany'\n",
      " 'Mexico, Netherlands' 'United States, Sweden' 'Germany, France, Russia'\n",
      " 'France, Iran, United States' 'United Kingdom, India'\n",
      " 'Russia, Poland, Serbia' 'Spain, Portugal' 'Peru' 'Mexico, Argentina'\n",
      " 'United Kingdom, Canada, United States, Cayman Islands'\n",
      " 'Indonesia, United States'\n",
      " 'United States, Israel, United Kingdom, Canada'\n",
      " 'Norway, Iceland, United States' 'Czech Republic, United States'\n",
      " 'United Kingdom, India, United States' 'United Kingdom, West Germany'\n",
      " 'India, Australia' 'United States,'\n",
      " 'Belgium, United Kingdom, United States' 'India, Germany, Austria'\n",
      " 'United States, Brazil, South Korea, Mexico, Japan, Germany'\n",
      " 'Spain, Mexico' 'China, Japan' 'Argentina, France'\n",
      " 'China, United States, United Kingdom'\n",
      " 'France, Luxembourg, United States' 'China, United States, Australia'\n",
      " 'Colombia, Mexico' 'United States, Canada, Ireland' 'Chile, Peru'\n",
      " 'Argentina, Italy' 'Canada, Japan, United States'\n",
      " 'United Kingdom, Canada, United States, Germany'\n",
      " 'Italy, Switzerland, Albania, Poland' 'United States, Japan, Canada'\n",
      " 'Cambodia' 'Italy, United States, Argentina'\n",
      " 'Saudi Arabia, Syria, Egypt, Lebanon, Kuwait'\n",
      " 'United States, Canada, Indonesia, United Kingdom, China, Singapore'\n",
      " 'Spain, Colombia'\n",
      " 'United Kingdom, South Africa, Australia, United States' 'Bulgaria'\n",
      " 'Argentina, Brazil, France, Poland, Germany, Denmark'\n",
      " 'United Kingdom, Spain, United States, Germany' 'Philippines, Qatar'\n",
      " 'Netherlands, Belgium, Germany, Jordan'\n",
      " 'United Arab Emirates, United States' 'Norway, Germany, Sweden'\n",
      " 'South Korea, China' 'Georgia' 'Soviet Union, India'\n",
      " 'Australia, United Arab Emirates' 'Canada, Germany, South Africa'\n",
      " 'South Korea, China, United States' 'India, Soviet Union' 'India, Mexico'\n",
      " 'Georgia, Germany, France' 'United Arab Emirates, Romania'\n",
      " 'India, Malaysia' 'Germany, Jordan, Netherlands'\n",
      " 'Turkey, France, Germany, Poland' 'Greece, United States'\n",
      " 'France, United Kingdom, United States' 'Norway, Germany'\n",
      " 'France, Morocco' 'Cambodia, United States' 'United States, Denmark'\n",
      " 'United States, Colombia, Mexico'\n",
      " 'United Kingdom, Italy, Israel, Peru, United States'\n",
      " 'Argentina, Uruguay, Spain, France'\n",
      " 'United Kingdom, France, United States, Belgium'\n",
      " 'France, Canada, China, Cambodia'\n",
      " 'United Kingdom, France, Belgium, United States' 'Chile, France'\n",
      " 'Netherlands, United States' 'France, United Kingdom, India'\n",
      " 'Czech Republic, Slovakia' 'Singapore, France' 'Spain, Switzerland'\n",
      " 'United States, Australia, China' 'South Africa, United States, Germany'\n",
      " 'United States, United Kingdom, Australia' 'Spain, Italy, Argentina'\n",
      " 'Chile, Spain, Argentina, Germany' 'West Germany'\n",
      " 'Austria, Czech Republic' 'Lebanon, Qatar'\n",
      " 'United Kingdom, Jordan, Qatar, Iran' 'France, South Korea, Japan'\n",
      " 'Israel, Germany, France' 'Canada, Japan, Netherlands'\n",
      " 'United States, Hungary' 'France, Germany' 'France, Qatar'\n",
      " 'United Kingdom, Germany, Canada' 'Ireland, South Africa'\n",
      " 'Chile, United States, France' 'Belgium, France, Netherlands'\n",
      " 'United Kingdom, Ukraine, United States'\n",
      " 'Germany, Australia, France, China' 'Norway, United States'\n",
      " 'United States, Bermuda, Ecuador'\n",
      " 'United States, Hungary, Ireland, Canada'\n",
      " 'United Kingdom, Egypt, United States'\n",
      " 'United States, France, United Kingdom' 'Spain, Mexico, France'\n",
      " 'United States, South Africa' 'Hong Kong, China, Singapore'\n",
      " 'South Africa, China, United States' 'Denmark, France, Poland'\n",
      " 'New Zealand, United Kingdom' 'Netherlands, Denmark, South Africa'\n",
      " 'Iran, France' 'United Kingdom, United States, France, Germany'\n",
      " 'Australia, France' 'Ireland, United Kingdom, United States'\n",
      " 'United Kingdom, France, Germany' 'Canada, Luxembourg'\n",
      " 'Brazil, Netherlands, United States, Colombia, Austria, Germany'\n",
      " 'France, Canada, Belgium' 'Canada, France'\n",
      " 'Bulgaria, United States, Spain, Canada' 'Sweden, Netherlands'\n",
      " 'France, United States, Mexico'\n",
      " 'Australia, United Kingdom, United Arab Emirates, Canada'\n",
      " 'Australia, Armenia, Japan, Jordan, Mexico, Mongolia, New Zealand, Philippines, South Africa, Sweden, United States, Uruguay'\n",
      " 'India, Iran' 'France, Belgium, Spain'\n",
      " 'Denmark, Sweden, Israel, United States' 'United States, Iceland'\n",
      " 'United Kingdom, Russia' 'United States, Israel, Italy, South Africa'\n",
      " 'Netherlands, Denmark, France, Germany' 'South Korea, Japan'\n",
      " 'United Kingdom, Pakistan' 'France, New Zealand'\n",
      " 'United Kingdom, Czech Republic, United States, Germany, Bahamas'\n",
      " 'China, Germany, India, United States' 'Germany, Sri Lanka'\n",
      " 'United States, India, Bangladesh' 'United States, Canada, France'\n",
      " 'Brazil, France, Germany' 'Germany, United States, Hong Kong, Singapore'\n",
      " 'France, Germany, Switzerland'\n",
      " 'Germany, France, Luxembourg, United Kingdom, United States'\n",
      " 'United Kingdom, Canada, Italy' 'Czech Republic, France'\n",
      " 'Taiwan, Hong Kong, United States, China' 'Germany, Australia'\n",
      " 'United Kingdom, Poland, United States' 'Denmark, Zimbabwe'\n",
      " 'United Kingdom, South Africa' 'Finland, Sweden, Norway, Latvia, Germany'\n",
      " 'South Africa, United States, New Zealand, Canada'\n",
      " 'United States, Italy, United Kingdom, Liechtenstein'\n",
      " 'Denmark, France, Belgium, Italy, Netherlands, United States, United Kingdom'\n",
      " 'United States, Australia, Mexico'\n",
      " 'United Kingdom, Czech Republic, Germany, United States'\n",
      " 'France, China, Japan, United States' 'United States, South Korea, China'\n",
      " 'Germany, Belgium' 'Pakistan, Norway, United States'\n",
      " 'United States, Canada, Belgium, United Kingdom' 'Venezuela'\n",
      " 'Canada, France, Italy, Morocco, United States' 'Canada, Spain, France'\n",
      " 'United States, Indonesia' 'Spain, France, Italy'\n",
      " 'United Arab Emirates, United States, United Kingdom'\n",
      " 'United Kingdom, Israel, Russia' 'Spain, Cuba' 'United States, Brazil'\n",
      " 'United States, France, Mexico' 'United States, Nicaragua'\n",
      " 'United Kingdom, United States, Spain, Germany, Greece, Canada'\n",
      " 'Italy, Canada, France' 'United Kingdom, Denmark, Canada, Croatia'\n",
      " 'Italy, Germany' 'United States, France, United Kingdom, Japan'\n",
      " 'United States, United Kingdom, Denmark, Sweden'\n",
      " 'United States, United Kingdom, Italy'\n",
      " 'United States, France, Canada, Spain' 'Russia, United States, China'\n",
      " 'United States, Canada, Germany' 'Ireland, United States'\n",
      " 'United States, United Arab Emirates' 'United States, Ireland'\n",
      " 'Ireland, United Kingdom, Italy, United States' 'Poland,'\n",
      " 'Slovenia, Croatia, Germany, Czech Republic, Qatar'\n",
      " 'Canada, United Kingdom, Netherlands' 'United States, Spain, Germany'\n",
      " 'India, Japan' 'China, South Korea, United States'\n",
      " 'United Kingdom, France, Belgium' 'Canada, Ireland, United States'\n",
      " 'United Kingdom, United States, Dominican Republic'\n",
      " 'United States, Senegal' 'Germany, United Kingdom, United States'\n",
      " 'South Africa, Germany, Netherlands, France'\n",
      " 'Canada, United States, United Kingdom, France, Luxembourg'\n",
      " 'Ireland, United States, France' 'Germany, United States, Canada'\n",
      " 'United Kingdom, Germany, Canada, United States'\n",
      " 'United States, France, Canada, Lebanon, Qatar'\n",
      " 'Netherlands, Belgium, United Kingdom, United States'\n",
      " 'France, Belgium, China, United States' 'United States, Chile, Israel'\n",
      " 'United Kingdom, Norway, Denmark, Germany, Sweden'\n",
      " 'Norway, Denmark, Sweden' 'China, India, Nepal'\n",
      " 'Colombia, Mexico, United States' 'United Kingdom, South Korea'\n",
      " 'Denmark, China' 'United States, Greece, Brazil' 'South Korea, France'\n",
      " 'United States, Australia, Samoa, United Kingdom'\n",
      " 'Germany, United Kingdom' 'Argentina, Chile, Peru' 'Turkey, Azerbaijan'\n",
      " 'Poland, West Germany' 'Germany, United States, Sweden' 'Canada, Spain'\n",
      " 'United States, Cambodia' 'United States, Greece'\n",
      " 'Norway, United Kingdom, France, Ireland' 'United Kingdom, Poland'\n",
      " 'Israel, Sweden, Germany, Netherlands' 'Switzerland, France'\n",
      " 'Italy, India' 'United States, Botswana'\n",
      " 'Chile, Argentina, France, Spain, United States'\n",
      " 'United States, India, South Korea, China'\n",
      " 'Denmark, Germany, Belgium, United Kingdom, France'\n",
      " 'Denmark, Germany, Belgium, United Kingdom, France, Sweden'\n",
      " 'France, Switzerland, Spain, United States, United Arab Emirates'\n",
      " 'Brazil, India, China, United States'\n",
      " 'Denmark, France, United States, Sweden' 'Australia, Iraq'\n",
      " 'China, Morocco, Hong Kong' 'Canada, United States, Germany'\n",
      " 'United Kingdom, Thailand' 'Venezuela, Colombia'\n",
      " 'Colombia, United States' 'France, Germany, Czech Republic, Belgium'\n",
      " 'Switzerland, Vatican City, Italy, Germany, France'\n",
      " 'Portugal, France, Poland, United States'\n",
      " 'United States, New Zealand, Japan'\n",
      " 'United States, Netherlands, Japan, France' 'India, Switzerland'\n",
      " 'Canada, India' 'United States, Morocco' 'Singapore, Japan, France'\n",
      " 'Canada, Mexico, Germany, South Africa'\n",
      " 'United Kingdom, United States, Canada'\n",
      " 'Germany, France, United States, Canada, United Kingdom'\n",
      " 'United States, Uruguay' 'India, Canada'\n",
      " 'Ireland, Canada, United Kingdom, United States'\n",
      " 'United States, Germany, Australia' 'Australia, France, Ireland'\n",
      " 'Australia, India' 'United States, United Kingdom, Canada, Japan'\n",
      " 'Sweden, United Kingdom, Finland' 'Hong Kong, Taiwan'\n",
      " 'United States, United Kingdom, Spain, South Korea' 'Guatemala' 'Ukraine'\n",
      " 'Italy, South Africa, West Germany, Australia, United States'\n",
      " 'United States, Germany, United Kingdom, Australia'\n",
      " 'Italy, France, Switzerland' 'Canada, France, United States'\n",
      " 'Switzerland, United States' 'Thailand, Canada, United States'\n",
      " 'China, Hong Kong, United States' 'United Kingdom, New Zealand'\n",
      " 'Czech Republic, United Kingdom, France'\n",
      " 'Australia, United Kingdom, Canada' 'Jamaica, United States'\n",
      " 'Australia, United Kingdom, United States, New Zealand, Italy, France'\n",
      " 'France, United States, Canada'\n",
      " 'United Kingdom, France, Canada, Belgium, United States'\n",
      " 'Denmark, United Kingdom, Sweden' 'United States, Hong Kong'\n",
      " 'United States, Kazakhstan'\n",
      " 'Argentina, France, United States, Germany, Qatar'\n",
      " 'United States, Germany, United Kingdom'\n",
      " 'United States, Germany, United Kingdom, Italy'\n",
      " 'United States, New Zealand, United Kingdom' 'Finland, United States'\n",
      " 'Spain, France, Uruguay' 'France, Canada, United States'\n",
      " 'United States, Canada, China'\n",
      " 'Ireland, Canada, Luxembourg, United States, United Kingdom, Philippines, India'\n",
      " 'United States, Czech Republic, United Kingdom' 'Israel, Germany'\n",
      " 'Mexico, France'\n",
      " 'Israel, Germany, Poland, Luxembourg, Belgium, France, United States'\n",
      " 'Austria, United States' 'United Kingdom, Lithuania'\n",
      " 'United States, Greece, United Kingdom'\n",
      " 'United Kingdom, China, United States, India'\n",
      " 'United States, Sweden, Norway' 'United Kingdom, United States, Morocco'\n",
      " 'United States, United Kingdom, Morocco' 'Spain, Canada, United States'\n",
      " 'United States, India, United Arab Emirates'\n",
      " 'United Kingdom, Canada, France, United States' 'India, Germany, France'\n",
      " 'Belgium, Ireland, Netherlands, Germany, Afghanistan'\n",
      " 'France, Canada, Italy, United States, China'\n",
      " 'Ireland, United Kingdom, Greece, France, Netherlands'\n",
      " 'Denmark, Indonesia, Finland, Norway, United Kingdom, Israel, France, United States, Germany, Netherlands'\n",
      " 'New Zealand, United States'\n",
      " 'United States, Australia, South Africa, United Kingdom'\n",
      " 'United States, Germany, Mexico'\n",
      " 'Somalia, Kenya, Sudan, South Africa, United States'\n",
      " 'United States, Canada, Japan, Panama' 'United Kingdom, Spain, Belgium'\n",
      " 'Serbia, South Korea, Slovenia'\n",
      " 'Denmark, United Kingdom, South Africa, Sweden, Belgium'\n",
      " 'Germany, Canada, United States'\n",
      " 'Ireland, Canada, United States, United Kingdom'\n",
      " 'New Zealand, United Kingdom, Australia'\n",
      " 'United Kingdom, Australia, Canada, United States'\n",
      " 'Germany, United States, Italy' 'United States, Venezuela'\n",
      " 'United Kingdom, Canada, Japan'\n",
      " 'United Kingdom, United States, Czech Republic'\n",
      " 'United Kingdom, China, United States' 'United Kingdom, Brazil, Germany'\n",
      " 'United Kingdom, Namibia, South Africa, Zimbabwe, United States'\n",
      " 'Canada, United States, India, United Kingdom'\n",
      " 'Switzerland, United Kingdom, United States'\n",
      " 'United Kingdom, India, Sweden'\n",
      " 'United States, Brazil, India, Uganda, China'\n",
      " 'Peru, United States, United Kingdom'\n",
      " 'Germany, United States, United Kingdom, Canada'\n",
      " 'Canada, India, Thailand, United States, United Arab Emirates'\n",
      " 'United States, East Germany, West Germany'\n",
      " 'France, Netherlands, South Africa, Finland'\n",
      " 'Egypt, Austria, United States' 'Russia, Spain'\n",
      " 'Croatia, Slovenia, Serbia, Montenegro' 'Japan, Canada'\n",
      " 'United States, France, South Korea, Indonesia'\n",
      " 'United Arab Emirates, Jordan']\n"
     ]
    }
   ],
   "source": [
    "print(df['country'].unique())"
   ]
  },
  {
   "cell_type": "code",
   "execution_count": 18,
   "id": "3e229080",
   "metadata": {},
   "outputs": [],
   "source": [
    "df['country'] = df['country'].replace({\n",
    "    'Usa': 'United States',\n",
    "    'Uk': 'United Kingdom',\n",
    "    'South Korea': 'Republic Of Korea'\n",
    "})"
   ]
  },
  {
   "cell_type": "code",
   "execution_count": 19,
   "id": "f2bf1085",
   "metadata": {},
   "outputs": [],
   "source": [
    "df['rating'] = df['rating'].replace({\n",
    "    'UR': 'Unrated',\n",
    "    'NR': 'Unrated',\n",
    "    'TV-MA': 'TV-Mature',\n",
    "    'TV-14': 'TV-Teen'\n",
    "})"
   ]
  },
  {
   "cell_type": "code",
   "execution_count": 23,
   "id": "8003d770",
   "metadata": {},
   "outputs": [
    {
     "data": {
      "text/plain": [
       "<Axes: title={'center': 'Count of Movies and TV Shows'}, xlabel='type'>"
      ]
     },
     "execution_count": 23,
     "metadata": {},
     "output_type": "execute_result"
    },
    {
     "data": {
      "image/png": "[encoded data removed]",
      "text/plain": [
       "<Figure size 640x480 with 1 Axes>"
      ]
     },
     "metadata": {},
     "output_type": "display_data"
    }
   ],
   "source": [
    "import matplotlib.pyplot as plt\n",
    "df['type'].value_counts().plot(kind='bar', title='Count of Movies and TV Shows', color=['skyblue', 'salmon']  )"
   ]
  },
  {
   "cell_type": "code",
   "execution_count": 24,
   "id": "b3ea2390",
   "metadata": {},
   "outputs": [
    {
     "data": {
      "application/vnd.microsoft.datawrangler.viewer.v0+json": {
       "columns": [
        {
         "name": "date_added",
         "rawType": "datetime64[ns]",
         "type": "datetime"
        },
        {
         "name": "count",
         "rawType": "int64",
         "type": "integer"
        }
       ],
       "ref": "163bf7a1-b6c0-4cdc-8fc9-7649736fcbf7",
       "rows": [
        [
         "2008-01-01 00:00:00",
         "1"
        ],
        [
         "2008-02-04 00:00:00",
         "1"
        ],
        [
         "2009-05-05 00:00:00",
         "1"
        ],
        [
         "2009-11-18 00:00:00",
         "1"
        ],
        [
         "2010-11-01 00:00:00",
         "1"
        ],
        [
         "2011-05-17 00:00:00",
         "1"
        ],
        [
         "2011-09-27 00:00:00",
         "1"
        ],
        [
         "2011-10-01 00:00:00",
         "11"
        ],
        [
         "2012-02-21 00:00:00",
         "1"
        ],
        [
         "2012-11-14 00:00:00",
         "1"
        ],
        [
         "2012-12-01 00:00:00",
         "1"
        ],
        [
         "2013-03-31 00:00:00",
         "1"
        ],
        [
         "2013-08-02 00:00:00",
         "1"
        ],
        [
         "2013-09-01 00:00:00",
         "2"
        ],
        [
         "2013-10-14 00:00:00",
         "2"
        ],
        [
         "2013-11-01 00:00:00",
         "2"
        ],
        [
         "2013-12-12 00:00:00",
         "1"
        ],
        [
         "2013-12-29 00:00:00",
         "1"
        ],
        [
         "2014-01-17 00:00:00",
         "1"
        ],
        [
         "2014-01-24 00:00:00",
         "1"
        ],
        [
         "2014-02-01 00:00:00",
         "1"
        ],
        [
         "2014-02-16 00:00:00",
         "1"
        ],
        [
         "2014-04-01 00:00:00",
         "1"
        ],
        [
         "2014-04-15 00:00:00",
         "1"
        ],
        [
         "2014-06-15 00:00:00",
         "1"
        ],
        [
         "2014-07-11 00:00:00",
         "1"
        ],
        [
         "2014-08-15 00:00:00",
         "1"
        ],
        [
         "2014-09-26 00:00:00",
         "1"
        ],
        [
         "2014-10-10 00:00:00",
         "1"
        ],
        [
         "2014-10-12 00:00:00",
         "1"
        ],
        [
         "2014-10-21 00:00:00",
         "1"
        ],
        [
         "2014-10-24 00:00:00",
         "1"
        ],
        [
         "2014-11-07 00:00:00",
         "1"
        ],
        [
         "2014-11-14 00:00:00",
         "1"
        ],
        [
         "2014-11-19 00:00:00",
         "1"
        ],
        [
         "2014-11-21 00:00:00",
         "1"
        ],
        [
         "2014-12-05 00:00:00",
         "1"
        ],
        [
         "2014-12-12 00:00:00",
         "1"
        ],
        [
         "2014-12-17 00:00:00",
         "1"
        ],
        [
         "2014-12-18 00:00:00",
         "1"
        ],
        [
         "2014-12-19 00:00:00",
         "1"
        ],
        [
         "2015-01-23 00:00:00",
         "1"
        ],
        [
         "2015-02-13 00:00:00",
         "1"
        ],
        [
         "2015-02-15 00:00:00",
         "1"
        ],
        [
         "2015-02-27 00:00:00",
         "1"
        ],
        [
         "2015-03-06 00:00:00",
         "2"
        ],
        [
         "2015-03-15 00:00:00",
         "2"
        ],
        [
         "2015-04-16 00:00:00",
         "1"
        ],
        [
         "2015-04-17 00:00:00",
         "1"
        ],
        [
         "2015-04-22 00:00:00",
         "3"
        ]
       ],
       "shape": {
        "columns": 1,
        "rows": 1699
       }
      },
      "text/plain": [
       "date_added\n",
       "2008-01-01     1\n",
       "2008-02-04     1\n",
       "2009-05-05     1\n",
       "2009-11-18     1\n",
       "2010-11-01     1\n",
       "              ..\n",
       "2021-09-21     5\n",
       "2021-09-22     9\n",
       "2021-09-23     2\n",
       "2021-09-24    10\n",
       "2021-09-25     1\n",
       "Name: count, Length: 1699, dtype: int64"
      ]
     },
     "execution_count": 24,
     "metadata": {},
     "output_type": "execute_result"
    }
   ],
   "source": [
    "df['date_added'].value_counts().sort_index()"
   ]
  },
  {
   "cell_type": "code",
   "execution_count": 26,
   "id": "4ba39117",
   "metadata": {},
   "outputs": [
    {
     "data": {
      "text/plain": [
       "<Axes: title={'center': 'Number of Titles Added Over Time'}, xlabel='date_added'>"
      ]
     },
     "execution_count": 26,
     "metadata": {},
     "output_type": "execute_result"
    },
    {
     "data": {
      "image/png": "[encoded data removed]",
      "text/plain": [
       "<Figure size 640x480 with 1 Axes>"
      ]
     },
     "metadata": {},
     "output_type": "display_data"
    }
   ],
   "source": [
    "df['date_added'].value_counts().plot(kind='bar', title='Number of Titles Added Over Time', color='green'  )"
   ]
  }
 ],
 "metadata": {
  "kernelspec": {
   "display_name": "netflix-movies-tv-shows-py3.12 (3.12.4)",
   "language": "python",
   "name": "python3"
  },
  "language_info": {
   "codemirror_mode": {
    "name": "ipython",
    "version": 3
   },
   "file_extension": ".py",
   "mimetype": "text/x-python",
   "name": "python",
   "nbconvert_exporter": "python",
   "pygments_lexer": "ipython3",
   "version": "3.12.4"
  }
 },
 "nbformat": 4,
 "nbformat_minor": 5
}
