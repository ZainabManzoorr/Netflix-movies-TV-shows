{
 "cells": [
  {
   "cell_type": "code",
   "execution_count": 2,
   "id": "17e913ad",
   "metadata": {},
   "outputs": [
    {
     "name": "stderr",
     "output_type": "stream",
     "text": [
      "c:\\Users\\ENVY\\OneDrive\\Desktop\\projects\\Netflix-movies-TV-shows\\.venv\\Lib\\site-packages\\tqdm\\auto.py:21: TqdmWarning: IProgress not found. Please update jupyter and ipywidgets. See https://ipywidgets.readthedocs.io/en/stable/user_install.html\n",
      "  from .autonotebook import tqdm as notebook_tqdm\n"
     ]
    },
    {
     "name": "stdout",
     "output_type": "stream",
     "text": [
      "Path to dataset files: C:\\Users\\ENVY\\.cache\\kagglehub\\datasets\\shivamb\\netflix-shows\\versions\\5\n"
     ]
    }
   ],
   "source": [
    "import kagglehub\n",
    "\n",
    "# Download latest version\n",
    "path = kagglehub.dataset_download(\"shivamb/netflix-shows\")\n",
    "\n",
    "print(\"Path to dataset files:\", path)"
   ]
  },
  {
   "cell_type": "code",
   "execution_count": 3,
   "id": "4339d090",
   "metadata": {},
   "outputs": [
    {
     "data": {
      "text/plain": [
       "['netflix_titles.csv']"
      ]
     },
     "execution_count": 3,
     "metadata": {},
     "output_type": "execute_result"
    }
   ],
   "source": [
    "import os\n",
    "os.listdir(path)"
   ]
  },
  {
   "cell_type": "code",
   "execution_count": 4,
   "id": "0f68895c",
   "metadata": {},
   "outputs": [
    {
     "data": {
      "application/vnd.microsoft.datawrangler.viewer.v0+json": {
       "columns": [
        {
         "name": "index",
         "rawType": "int64",
         "type": "integer"
        },
        {
         "name": "show_id",
         "rawType": "object",
         "type": "string"
        },
        {
         "name": "type",
         "rawType": "object",
         "type": "string"
        },
        {
         "name": "title",
         "rawType": "object",
         "type": "string"
        },
        {
         "name": "director",
         "rawType": "object",
         "type": "unknown"
        },
        {
         "name": "cast",
         "rawType": "object",
         "type": "unknown"
        },
        {
         "name": "country",
         "rawType": "object",
         "type": "unknown"
        },
        {
         "name": "date_added",
         "rawType": "object",
         "type": "string"
        },
        {
         "name": "release_year",
         "rawType": "int64",
         "type": "integer"
        },
        {
         "name": "rating",
         "rawType": "object",
         "type": "string"
        },
        {
         "name": "duration",
         "rawType": "object",
         "type": "string"
        },
        {
         "name": "listed_in",
         "rawType": "object",
         "type": "string"
        },
        {
         "name": "description",
         "rawType": "object",
         "type": "string"
        }
       ],
       "ref": "92d249f2-e8ee-4929-a54e-1db57cda499a",
       "rows": [
        [
         "0",
         "s1",
         "Movie",
         "Dick Johnson Is Dead",
         "Kirsten Johnson",
         null,
         "United States",
         "September 25, 2021",
         "2020",
         "PG-13",
         "90 min",
         "Documentaries",
         "As her father nears the end of his life, filmmaker Kirsten Johnson stages his death in inventive and comical ways to help them both face the inevitable."
        ],
        [
         "1",
         "s2",
         "TV Show",
         "Blood & Water",
         null,
         "Ama Qamata, Khosi Ngema, Gail Mabalane, Thabang Molaba, Dillon Windvogel, Natasha Thahane, Arno Greeff, Xolile Tshabalala, Getmore Sithole, Cindy Mahlangu, Ryle De Morny, Greteli Fincham, Sello Maake Ka-Ncube, Odwa Gwanya, Mekaila Mathys, Sandi Schultz, Duane Williams, Shamilla Miller, Patrick Mofokeng",
         "South Africa",
         "September 24, 2021",
         "2021",
         "TV-MA",
         "2 Seasons",
         "International TV Shows, TV Dramas, TV Mysteries",
         "After crossing paths at a party, a Cape Town teen sets out to prove whether a private-school swimming star is her sister who was abducted at birth."
        ],
        [
         "2",
         "s3",
         "TV Show",
         "Ganglands",
         "Julien Leclercq",
         "Sami Bouajila, Tracy Gotoas, Samuel Jouy, Nabiha Akkari, Sofia Lesaffre, Salim Kechiouche, Noureddine Farihi, Geert Van Rampelberg, Bakary Diombera",
         null,
         "September 24, 2021",
         "2021",
         "TV-MA",
         "1 Season",
         "Crime TV Shows, International TV Shows, TV Action & Adventure",
         "To protect his family from a powerful drug lord, skilled thief Mehdi and his expert team of robbers are pulled into a violent and deadly turf war."
        ],
        [
         "3",
         "s4",
         "TV Show",
         "Jailbirds New Orleans",
         null,
         null,
         null,
         "September 24, 2021",
         "2021",
         "TV-MA",
         "1 Season",
         "Docuseries, Reality TV",
         "Feuds, flirtations and toilet talk go down among the incarcerated women at the Orleans Justice Center in New Orleans on this gritty reality series."
        ],
        [
         "4",
         "s5",
         "TV Show",
         "Kota Factory",
         null,
         "Mayur More, Jitendra Kumar, Ranjan Raj, Alam Khan, Ahsaas Channa, Revathi Pillai, Urvi Singh, Arun Kumar",
         "India",
         "September 24, 2021",
         "2021",
         "TV-MA",
         "2 Seasons",
         "International TV Shows, Romantic TV Shows, TV Comedies",
         "In a city of coaching centers known to train India’s finest collegiate minds, an earnest but unexceptional student and his friends navigate campus life."
        ]
       ],
       "shape": {
        "columns": 12,
        "rows": 5
       }
      },
      "text/html": [
       "<div>\n",
       "<style scoped>\n",
       "    .dataframe tbody tr th:only-of-type {\n",
       "        vertical-align: middle;\n",
       "    }\n",
       "\n",
       "    .dataframe tbody tr th {\n",
       "        vertical-align: top;\n",
       "    }\n",
       "\n",
       "    .dataframe thead th {\n",
       "        text-align: right;\n",
       "    }\n",
       "</style>\n",
       "<table border=\"1\" class=\"dataframe\">\n",
       "  <thead>\n",
       "    <tr style=\"text-align: right;\">\n",
       "      <th></th>\n",
       "      <th>show_id</th>\n",
       "      <th>type</th>\n",
       "      <th>title</th>\n",
       "      <th>director</th>\n",
       "      <th>cast</th>\n",
       "      <th>country</th>\n",
       "      <th>date_added</th>\n",
       "      <th>release_year</th>\n",
       "      <th>rating</th>\n",
       "      <th>duration</th>\n",
       "      <th>listed_in</th>\n",
       "      <th>description</th>\n",
       "    </tr>\n",
       "  </thead>\n",
       "  <tbody>\n",
       "    <tr>\n",
       "      <th>0</th>\n",
       "      <td>s1</td>\n",
       "      <td>Movie</td>\n",
       "      <td>Dick Johnson Is Dead</td>\n",
       "      <td>Kirsten Johnson</td>\n",
       "      <td>NaN</td>\n",
       "      <td>United States</td>\n",
       "      <td>September 25, 2021</td>\n",
       "      <td>2020</td>\n",
       "      <td>PG-13</td>\n",
       "      <td>90 min</td>\n",
       "      <td>Documentaries</td>\n",
       "      <td>As her father nears the end of his life, filmm...</td>\n",
       "    </tr>\n",
       "    <tr>\n",
       "      <th>1</th>\n",
       "      <td>s2</td>\n",
       "      <td>TV Show</td>\n",
       "      <td>Blood &amp; Water</td>\n",
       "      <td>NaN</td>\n",
       "      <td>Ama Qamata, Khosi Ngema, Gail Mabalane, Thaban...</td>\n",
       "      <td>South Africa</td>\n",
       "      <td>September 24, 2021</td>\n",
       "      <td>2021</td>\n",
       "      <td>TV-MA</td>\n",
       "      <td>2 Seasons</td>\n",
       "      <td>International TV Shows, TV Dramas, TV Mysteries</td>\n",
       "      <td>After crossing paths at a party, a Cape Town t...</td>\n",
       "    </tr>\n",
       "    <tr>\n",
       "      <th>2</th>\n",
       "      <td>s3</td>\n",
       "      <td>TV Show</td>\n",
       "      <td>Ganglands</td>\n",
       "      <td>Julien Leclercq</td>\n",
       "      <td>Sami Bouajila, Tracy Gotoas, Samuel Jouy, Nabi...</td>\n",
       "      <td>NaN</td>\n",
       "      <td>September 24, 2021</td>\n",
       "      <td>2021</td>\n",
       "      <td>TV-MA</td>\n",
       "      <td>1 Season</td>\n",
       "      <td>Crime TV Shows, International TV Shows, TV Act...</td>\n",
       "      <td>To protect his family from a powerful drug lor...</td>\n",
       "    </tr>\n",
       "    <tr>\n",
       "      <th>3</th>\n",
       "      <td>s4</td>\n",
       "      <td>TV Show</td>\n",
       "      <td>Jailbirds New Orleans</td>\n",
       "      <td>NaN</td>\n",
       "      <td>NaN</td>\n",
       "      <td>NaN</td>\n",
       "      <td>September 24, 2021</td>\n",
       "      <td>2021</td>\n",
       "      <td>TV-MA</td>\n",
       "      <td>1 Season</td>\n",
       "      <td>Docuseries, Reality TV</td>\n",
       "      <td>Feuds, flirtations and toilet talk go down amo...</td>\n",
       "    </tr>\n",
       "    <tr>\n",
       "      <th>4</th>\n",
       "      <td>s5</td>\n",
       "      <td>TV Show</td>\n",
       "      <td>Kota Factory</td>\n",
       "      <td>NaN</td>\n",
       "      <td>Mayur More, Jitendra Kumar, Ranjan Raj, Alam K...</td>\n",
       "      <td>India</td>\n",
       "      <td>September 24, 2021</td>\n",
       "      <td>2021</td>\n",
       "      <td>TV-MA</td>\n",
       "      <td>2 Seasons</td>\n",
       "      <td>International TV Shows, Romantic TV Shows, TV ...</td>\n",
       "      <td>In a city of coaching centers known to train I...</td>\n",
       "    </tr>\n",
       "  </tbody>\n",
       "</table>\n",
       "</div>"
      ],
      "text/plain": [
       "  show_id     type                  title         director  \\\n",
       "0      s1    Movie   Dick Johnson Is Dead  Kirsten Johnson   \n",
       "1      s2  TV Show          Blood & Water              NaN   \n",
       "2      s3  TV Show              Ganglands  Julien Leclercq   \n",
       "3      s4  TV Show  Jailbirds New Orleans              NaN   \n",
       "4      s5  TV Show           Kota Factory              NaN   \n",
       "\n",
       "                                                cast        country  \\\n",
       "0                                                NaN  United States   \n",
       "1  Ama Qamata, Khosi Ngema, Gail Mabalane, Thaban...   South Africa   \n",
       "2  Sami Bouajila, Tracy Gotoas, Samuel Jouy, Nabi...            NaN   \n",
       "3                                                NaN            NaN   \n",
       "4  Mayur More, Jitendra Kumar, Ranjan Raj, Alam K...          India   \n",
       "\n",
       "           date_added  release_year rating   duration  \\\n",
       "0  September 25, 2021          2020  PG-13     90 min   \n",
       "1  September 24, 2021          2021  TV-MA  2 Seasons   \n",
       "2  September 24, 2021          2021  TV-MA   1 Season   \n",
       "3  September 24, 2021          2021  TV-MA   1 Season   \n",
       "4  September 24, 2021          2021  TV-MA  2 Seasons   \n",
       "\n",
       "                                           listed_in  \\\n",
       "0                                      Documentaries   \n",
       "1    International TV Shows, TV Dramas, TV Mysteries   \n",
       "2  Crime TV Shows, International TV Shows, TV Act...   \n",
       "3                             Docuseries, Reality TV   \n",
       "4  International TV Shows, Romantic TV Shows, TV ...   \n",
       "\n",
       "                                         description  \n",
       "0  As her father nears the end of his life, filmm...  \n",
       "1  After crossing paths at a party, a Cape Town t...  \n",
       "2  To protect his family from a powerful drug lor...  \n",
       "3  Feuds, flirtations and toilet talk go down amo...  \n",
       "4  In a city of coaching centers known to train I...  "
      ]
     },
     "execution_count": 4,
     "metadata": {},
     "output_type": "execute_result"
    }
   ],
   "source": [
    "import pandas as pd\n",
    "df = pd.read_csv(os.path.join(path, \"netflix_titles.csv\"))\n",
    "df.head()\n"
   ]
  },
  {
   "cell_type": "code",
   "execution_count": 7,
   "id": "02a603fe",
   "metadata": {},
   "outputs": [
    {
     "data": {
      "text/plain": [
       "(8807, 12)"
      ]
     },
     "execution_count": 7,
     "metadata": {},
     "output_type": "execute_result"
    }
   ],
   "source": [
    "df.shape\n"
   ]
  },
  {
   "cell_type": "code",
   "execution_count": 8,
   "id": "4997c2fc",
   "metadata": {},
   "outputs": [
    {
     "data": {
      "text/plain": [
       "Index(['show_id', 'type', 'title', 'director', 'cast', 'country', 'date_added',\n",
       "       'release_year', 'rating', 'duration', 'listed_in', 'description'],\n",
       "      dtype='object')"
      ]
     },
     "execution_count": 8,
     "metadata": {},
     "output_type": "execute_result"
    }
   ],
   "source": [
    "df.columns"
   ]
  },
  {
   "cell_type": "code",
   "execution_count": 5,
   "id": "b2d25347",
   "metadata": {},
   "outputs": [
    {
     "name": "stdout",
     "output_type": "stream",
     "text": [
      "<class 'pandas.core.frame.DataFrame'>\n",
      "RangeIndex: 8807 entries, 0 to 8806\n",
      "Data columns (total 12 columns):\n",
      " #   Column        Non-Null Count  Dtype \n",
      "---  ------        --------------  ----- \n",
      " 0   show_id       8807 non-null   object\n",
      " 1   type          8807 non-null   object\n",
      " 2   title         8807 non-null   object\n",
      " 3   director      6173 non-null   object\n",
      " 4   cast          7982 non-null   object\n",
      " 5   country       7976 non-null   object\n",
      " 6   date_added    8797 non-null   object\n",
      " 7   release_year  8807 non-null   int64 \n",
      " 8   rating        8803 non-null   object\n",
      " 9   duration      8804 non-null   object\n",
      " 10  listed_in     8807 non-null   object\n",
      " 11  description   8807 non-null   object\n",
      "dtypes: int64(1), object(11)\n",
      "memory usage: 825.8+ KB\n"
     ]
    }
   ],
   "source": [
    "df.info()"
   ]
  },
  {
   "cell_type": "code",
   "execution_count": 9,
   "id": "56cacacd",
   "metadata": {},
   "outputs": [
    {
     "data": {
      "application/vnd.microsoft.datawrangler.viewer.v0+json": {
       "columns": [
        {
         "name": "index",
         "rawType": "object",
         "type": "string"
        },
        {
         "name": "0",
         "rawType": "int64",
         "type": "integer"
        }
       ],
       "ref": "548062cb-8aa4-436e-95d6-3a6d65c18c5f",
       "rows": [
        [
         "director",
         "2634"
        ],
        [
         "country",
         "831"
        ],
        [
         "cast",
         "825"
        ],
        [
         "date_added",
         "10"
        ],
        [
         "rating",
         "4"
        ],
        [
         "duration",
         "3"
        ],
        [
         "show_id",
         "0"
        ],
        [
         "type",
         "0"
        ],
        [
         "title",
         "0"
        ],
        [
         "release_year",
         "0"
        ],
        [
         "listed_in",
         "0"
        ],
        [
         "description",
         "0"
        ]
       ],
       "shape": {
        "columns": 1,
        "rows": 12
       }
      },
      "text/plain": [
       "director        2634\n",
       "country          831\n",
       "cast             825\n",
       "date_added        10\n",
       "rating             4\n",
       "duration           3\n",
       "show_id            0\n",
       "type               0\n",
       "title              0\n",
       "release_year       0\n",
       "listed_in          0\n",
       "description        0\n",
       "dtype: int64"
      ]
     },
     "execution_count": 9,
     "metadata": {},
     "output_type": "execute_result"
    }
   ],
   "source": [
    "df.isnull().sum().sort_values(ascending=False)"
   ]
  },
  {
   "cell_type": "code",
   "execution_count": 10,
   "id": "934d6833",
   "metadata": {},
   "outputs": [
    {
     "data": {
      "application/vnd.microsoft.datawrangler.viewer.v0+json": {
       "columns": [
        {
         "name": "index",
         "rawType": "int64",
         "type": "integer"
        },
        {
         "name": "show_id",
         "rawType": "object",
         "type": "string"
        },
        {
         "name": "type",
         "rawType": "object",
         "type": "string"
        },
        {
         "name": "title",
         "rawType": "object",
         "type": "string"
        },
        {
         "name": "director",
         "rawType": "object",
         "type": "unknown"
        },
        {
         "name": "cast",
         "rawType": "object",
         "type": "unknown"
        },
        {
         "name": "country",
         "rawType": "object",
         "type": "unknown"
        },
        {
         "name": "date_added",
         "rawType": "object",
         "type": "string"
        },
        {
         "name": "release_year",
         "rawType": "int64",
         "type": "integer"
        },
        {
         "name": "rating",
         "rawType": "object",
         "type": "string"
        },
        {
         "name": "duration",
         "rawType": "object",
         "type": "string"
        },
        {
         "name": "listed_in",
         "rawType": "object",
         "type": "string"
        },
        {
         "name": "description",
         "rawType": "object",
         "type": "string"
        }
       ],
       "ref": "fd85a2e7-e2cd-4336-8e61-074e441d1e24",
       "rows": [
        [
         "2263",
         "s2264",
         "Movie",
         "PNL - Dans la légende tour",
         "QLF",
         "PNL",
         null,
         "July 6, 2020",
         "2020",
         "TV-MA",
         "65 min",
         "International Movies, Music & Musicals",
         "French rap duo PNL deliver hypnotic visuals and perform popular tracks from their album \"Dans la légende\" and more at the Bercy Arena in Paris."
        ],
        [
         "6640",
         "s6641",
         "Movie",
         "Dr. Seuss' The Grinch",
         "Scott Mosier, Yarrow Cheney",
         "Benedict Cumberbatch, Cameron Seely, Rashida Jones, Pharrell Williams, Kenan Thompson, Angela Lansbury",
         "France, China, Japan, United States",
         "June 5, 2019",
         "2018",
         "PG",
         "86 min",
         "Children & Family Movies, Comedies",
         "A grump with a mean streak plots to bring Christmas to a halt in the cheerful town of Whoville. But a generous little girl could change his heart."
        ],
        [
         "1057",
         "s1058",
         "TV Show",
         "Dad Stop Embarrassing Me!",
         null,
         "Jamie Foxx, David Alan Grier, Kyla-Drew, Porscha Coleman, Jonathan Kite, Heather Hemmens, Valente Rodriguez",
         "United States",
         "April 14, 2021",
         "2021",
         "TV-14",
         "1 Season",
         "TV Comedies",
         "A single dad and cosmetics brand owner figures out fatherhood on the fly when his strong-minded teen daughter moves in with him."
        ],
        [
         "4046",
         "s4047",
         "Movie",
         "Everyday I Love You",
         "Mae Czarina Cruz",
         "Enrique Gil, Liza Soberano, Gerald Anderson, Aiko Melendez, Carmina Villaroel, Ariel Rivera, Marissa Delgado, Liza Lorena",
         "Philippines",
         "March 4, 2019",
         "2015",
         "TV-14",
         "124 min",
         "Dramas, International Movies, Romantic Movies",
         "While patiently waiting for her boyfriend to come out of his coma, Audrey finds herself falling for the caring and successful Ethan."
        ],
        [
         "74",
         "s75",
         "TV Show",
         "The World's Most Amazing Vacation Rentals",
         null,
         null,
         null,
         "September 14, 2021",
         "2021",
         "TV-PG",
         "2 Seasons",
         "Reality TV",
         "With an eye for every budget, three travelers visit vacation rentals around the globe and share their expert tips and tricks in this reality series."
        ],
        [
         "833",
         "s834",
         "TV Show",
         "Black Space",
         null,
         "Guri Alfi, Shai Avivi, Assi Levy, Reut Alush, Meirav Shirom, Yoav Rotman, Liana Ayoun, Noam Karmeli, Hadas Jade Sakori, Yehonatan Vilozny, Gily Itskovitch, Oneg Efron, Suzanna Papian, Ori Biton, Nir Hasdai, Leib Lev Levin, Eyal Shikratzi",
         "Israel",
         "May 27, 2021",
         "2021",
         "TV-MA",
         "1 Season",
         "Crime TV Shows, International TV Shows, TV Dramas",
         "A rogue detective with unorthodox means leads an investigation into a massacre committed by unicorn mask-wearing assassins at an Israeli high school."
        ],
        [
         "615",
         "s616",
         "Movie",
         "Why Do Fools Fall in Love",
         "Gregory Nava",
         "Halle Berry, Vivica A. Fox, Larenz Tate, Lela Rochon, Little Richard, Paul Mazursky, Pamela Reed, Alexis Cruz",
         "United States",
         "July 1, 2021",
         "1998",
         "R",
         "116 min",
         "Dramas, Music & Musicals, Romantic Movies",
         "In this rock 'n' roll comedy-drama, three women go to court over royalties from the one-hit-wonder singer they all loved — and whom they all married."
        ],
        [
         "4922",
         "s4923",
         "Movie",
         "Mercury 13",
         "David Sington, Heather Walsh",
         null,
         "United States",
         "April 20, 2018",
         "2018",
         "TV-PG",
         "79 min",
         "Documentaries",
         "After rigorous testing in 1961, a small group of skilled female pilots are asked to step aside when only men are selected for spaceflight."
        ],
        [
         "7759",
         "s7760",
         "TV Show",
         "Powder",
         null,
         "Manish Chaudhary, Pankaj Tripathi, Geetika Tyagi, Rahul Bagga",
         "India",
         "February 15, 2018",
         "2010",
         "TV-14",
         "1 Season",
         "Crime TV Shows, International TV Shows, TV Dramas",
         "Two men who grew up in Mumbai's slums are drawn into the city's brutal narcotics trade, where they fight on opposite sides of the law."
        ],
        [
         "3454",
         "s3455",
         "TV Show",
         "Rotten",
         null,
         null,
         "United States",
         "October 4, 2019",
         "2019",
         "TV-MA",
         "2 Seasons",
         "Docuseries, Science & Nature TV",
         "This docuseries travels deep into the heart of the food supply chain to reveal unsavory truths and expose hidden forces that shape what we eat."
        ]
       ],
       "shape": {
        "columns": 12,
        "rows": 10
       }
      },
      "text/html": [
       "<div>\n",
       "<style scoped>\n",
       "    .dataframe tbody tr th:only-of-type {\n",
       "        vertical-align: middle;\n",
       "    }\n",
       "\n",
       "    .dataframe tbody tr th {\n",
       "        vertical-align: top;\n",
       "    }\n",
       "\n",
       "    .dataframe thead th {\n",
       "        text-align: right;\n",
       "    }\n",
       "</style>\n",
       "<table border=\"1\" class=\"dataframe\">\n",
       "  <thead>\n",
       "    <tr style=\"text-align: right;\">\n",
       "      <th></th>\n",
       "      <th>show_id</th>\n",
       "      <th>type</th>\n",
       "      <th>title</th>\n",
       "      <th>director</th>\n",
       "      <th>cast</th>\n",
       "      <th>country</th>\n",
       "      <th>date_added</th>\n",
       "      <th>release_year</th>\n",
       "      <th>rating</th>\n",
       "      <th>duration</th>\n",
       "      <th>listed_in</th>\n",
       "      <th>description</th>\n",
       "    </tr>\n",
       "  </thead>\n",
       "  <tbody>\n",
       "    <tr>\n",
       "      <th>2263</th>\n",
       "      <td>s2264</td>\n",
       "      <td>Movie</td>\n",
       "      <td>PNL - Dans la légende tour</td>\n",
       "      <td>QLF</td>\n",
       "      <td>PNL</td>\n",
       "      <td>NaN</td>\n",
       "      <td>July 6, 2020</td>\n",
       "      <td>2020</td>\n",
       "      <td>TV-MA</td>\n",
       "      <td>65 min</td>\n",
       "      <td>International Movies, Music &amp; Musicals</td>\n",
       "      <td>French rap duo PNL deliver hypnotic visuals an...</td>\n",
       "    </tr>\n",
       "    <tr>\n",
       "      <th>6640</th>\n",
       "      <td>s6641</td>\n",
       "      <td>Movie</td>\n",
       "      <td>Dr. Seuss' The Grinch</td>\n",
       "      <td>Scott Mosier, Yarrow Cheney</td>\n",
       "      <td>Benedict Cumberbatch, Cameron Seely, Rashida J...</td>\n",
       "      <td>France, China, Japan, United States</td>\n",
       "      <td>June 5, 2019</td>\n",
       "      <td>2018</td>\n",
       "      <td>PG</td>\n",
       "      <td>86 min</td>\n",
       "      <td>Children &amp; Family Movies, Comedies</td>\n",
       "      <td>A grump with a mean streak plots to bring Chri...</td>\n",
       "    </tr>\n",
       "    <tr>\n",
       "      <th>1057</th>\n",
       "      <td>s1058</td>\n",
       "      <td>TV Show</td>\n",
       "      <td>Dad Stop Embarrassing Me!</td>\n",
       "      <td>NaN</td>\n",
       "      <td>Jamie Foxx, David Alan Grier, Kyla-Drew, Porsc...</td>\n",
       "      <td>United States</td>\n",
       "      <td>April 14, 2021</td>\n",
       "      <td>2021</td>\n",
       "      <td>TV-14</td>\n",
       "      <td>1 Season</td>\n",
       "      <td>TV Comedies</td>\n",
       "      <td>A single dad and cosmetics brand owner figures...</td>\n",
       "    </tr>\n",
       "    <tr>\n",
       "      <th>4046</th>\n",
       "      <td>s4047</td>\n",
       "      <td>Movie</td>\n",
       "      <td>Everyday I Love You</td>\n",
       "      <td>Mae Czarina Cruz</td>\n",
       "      <td>Enrique Gil, Liza Soberano, Gerald Anderson, A...</td>\n",
       "      <td>Philippines</td>\n",
       "      <td>March 4, 2019</td>\n",
       "      <td>2015</td>\n",
       "      <td>TV-14</td>\n",
       "      <td>124 min</td>\n",
       "      <td>Dramas, International Movies, Romantic Movies</td>\n",
       "      <td>While patiently waiting for her boyfriend to c...</td>\n",
       "    </tr>\n",
       "    <tr>\n",
       "      <th>74</th>\n",
       "      <td>s75</td>\n",
       "      <td>TV Show</td>\n",
       "      <td>The World's Most Amazing Vacation Rentals</td>\n",
       "      <td>NaN</td>\n",
       "      <td>NaN</td>\n",
       "      <td>NaN</td>\n",
       "      <td>September 14, 2021</td>\n",
       "      <td>2021</td>\n",
       "      <td>TV-PG</td>\n",
       "      <td>2 Seasons</td>\n",
       "      <td>Reality TV</td>\n",
       "      <td>With an eye for every budget, three travelers ...</td>\n",
       "    </tr>\n",
       "    <tr>\n",
       "      <th>833</th>\n",
       "      <td>s834</td>\n",
       "      <td>TV Show</td>\n",
       "      <td>Black Space</td>\n",
       "      <td>NaN</td>\n",
       "      <td>Guri Alfi, Shai Avivi, Assi Levy, Reut Alush, ...</td>\n",
       "      <td>Israel</td>\n",
       "      <td>May 27, 2021</td>\n",
       "      <td>2021</td>\n",
       "      <td>TV-MA</td>\n",
       "      <td>1 Season</td>\n",
       "      <td>Crime TV Shows, International TV Shows, TV Dramas</td>\n",
       "      <td>A rogue detective with unorthodox means leads ...</td>\n",
       "    </tr>\n",
       "    <tr>\n",
       "      <th>615</th>\n",
       "      <td>s616</td>\n",
       "      <td>Movie</td>\n",
       "      <td>Why Do Fools Fall in Love</td>\n",
       "      <td>Gregory Nava</td>\n",
       "      <td>Halle Berry, Vivica A. Fox, Larenz Tate, Lela ...</td>\n",
       "      <td>United States</td>\n",
       "      <td>July 1, 2021</td>\n",
       "      <td>1998</td>\n",
       "      <td>R</td>\n",
       "      <td>116 min</td>\n",
       "      <td>Dramas, Music &amp; Musicals, Romantic Movies</td>\n",
       "      <td>In this rock 'n' roll comedy-drama, three wome...</td>\n",
       "    </tr>\n",
       "    <tr>\n",
       "      <th>4922</th>\n",
       "      <td>s4923</td>\n",
       "      <td>Movie</td>\n",
       "      <td>Mercury 13</td>\n",
       "      <td>David Sington, Heather Walsh</td>\n",
       "      <td>NaN</td>\n",
       "      <td>United States</td>\n",
       "      <td>April 20, 2018</td>\n",
       "      <td>2018</td>\n",
       "      <td>TV-PG</td>\n",
       "      <td>79 min</td>\n",
       "      <td>Documentaries</td>\n",
       "      <td>After rigorous testing in 1961, a small group ...</td>\n",
       "    </tr>\n",
       "    <tr>\n",
       "      <th>7759</th>\n",
       "      <td>s7760</td>\n",
       "      <td>TV Show</td>\n",
       "      <td>Powder</td>\n",
       "      <td>NaN</td>\n",
       "      <td>Manish Chaudhary, Pankaj Tripathi, Geetika Tya...</td>\n",
       "      <td>India</td>\n",
       "      <td>February 15, 2018</td>\n",
       "      <td>2010</td>\n",
       "      <td>TV-14</td>\n",
       "      <td>1 Season</td>\n",
       "      <td>Crime TV Shows, International TV Shows, TV Dramas</td>\n",
       "      <td>Two men who grew up in Mumbai's slums are draw...</td>\n",
       "    </tr>\n",
       "    <tr>\n",
       "      <th>3454</th>\n",
       "      <td>s3455</td>\n",
       "      <td>TV Show</td>\n",
       "      <td>Rotten</td>\n",
       "      <td>NaN</td>\n",
       "      <td>NaN</td>\n",
       "      <td>United States</td>\n",
       "      <td>October 4, 2019</td>\n",
       "      <td>2019</td>\n",
       "      <td>TV-MA</td>\n",
       "      <td>2 Seasons</td>\n",
       "      <td>Docuseries, Science &amp; Nature TV</td>\n",
       "      <td>This docuseries travels deep into the heart of...</td>\n",
       "    </tr>\n",
       "  </tbody>\n",
       "</table>\n",
       "</div>"
      ],
      "text/plain": [
       "     show_id     type                                      title  \\\n",
       "2263   s2264    Movie                 PNL - Dans la légende tour   \n",
       "6640   s6641    Movie                      Dr. Seuss' The Grinch   \n",
       "1057   s1058  TV Show                  Dad Stop Embarrassing Me!   \n",
       "4046   s4047    Movie                        Everyday I Love You   \n",
       "74       s75  TV Show  The World's Most Amazing Vacation Rentals   \n",
       "833     s834  TV Show                                Black Space   \n",
       "615     s616    Movie                  Why Do Fools Fall in Love   \n",
       "4922   s4923    Movie                                 Mercury 13   \n",
       "7759   s7760  TV Show                                     Powder   \n",
       "3454   s3455  TV Show                                     Rotten   \n",
       "\n",
       "                          director  \\\n",
       "2263                           QLF   \n",
       "6640   Scott Mosier, Yarrow Cheney   \n",
       "1057                           NaN   \n",
       "4046              Mae Czarina Cruz   \n",
       "74                             NaN   \n",
       "833                            NaN   \n",
       "615                   Gregory Nava   \n",
       "4922  David Sington, Heather Walsh   \n",
       "7759                           NaN   \n",
       "3454                           NaN   \n",
       "\n",
       "                                                   cast  \\\n",
       "2263                                                PNL   \n",
       "6640  Benedict Cumberbatch, Cameron Seely, Rashida J...   \n",
       "1057  Jamie Foxx, David Alan Grier, Kyla-Drew, Porsc...   \n",
       "4046  Enrique Gil, Liza Soberano, Gerald Anderson, A...   \n",
       "74                                                  NaN   \n",
       "833   Guri Alfi, Shai Avivi, Assi Levy, Reut Alush, ...   \n",
       "615   Halle Berry, Vivica A. Fox, Larenz Tate, Lela ...   \n",
       "4922                                                NaN   \n",
       "7759  Manish Chaudhary, Pankaj Tripathi, Geetika Tya...   \n",
       "3454                                                NaN   \n",
       "\n",
       "                                  country          date_added  release_year  \\\n",
       "2263                                  NaN        July 6, 2020          2020   \n",
       "6640  France, China, Japan, United States        June 5, 2019          2018   \n",
       "1057                        United States      April 14, 2021          2021   \n",
       "4046                          Philippines       March 4, 2019          2015   \n",
       "74                                    NaN  September 14, 2021          2021   \n",
       "833                                Israel        May 27, 2021          2021   \n",
       "615                         United States        July 1, 2021          1998   \n",
       "4922                        United States      April 20, 2018          2018   \n",
       "7759                                India   February 15, 2018          2010   \n",
       "3454                        United States     October 4, 2019          2019   \n",
       "\n",
       "     rating   duration                                          listed_in  \\\n",
       "2263  TV-MA     65 min             International Movies, Music & Musicals   \n",
       "6640     PG     86 min                 Children & Family Movies, Comedies   \n",
       "1057  TV-14   1 Season                                        TV Comedies   \n",
       "4046  TV-14    124 min      Dramas, International Movies, Romantic Movies   \n",
       "74    TV-PG  2 Seasons                                         Reality TV   \n",
       "833   TV-MA   1 Season  Crime TV Shows, International TV Shows, TV Dramas   \n",
       "615       R    116 min          Dramas, Music & Musicals, Romantic Movies   \n",
       "4922  TV-PG     79 min                                      Documentaries   \n",
       "7759  TV-14   1 Season  Crime TV Shows, International TV Shows, TV Dramas   \n",
       "3454  TV-MA  2 Seasons                    Docuseries, Science & Nature TV   \n",
       "\n",
       "                                            description  \n",
       "2263  French rap duo PNL deliver hypnotic visuals an...  \n",
       "6640  A grump with a mean streak plots to bring Chri...  \n",
       "1057  A single dad and cosmetics brand owner figures...  \n",
       "4046  While patiently waiting for her boyfriend to c...  \n",
       "74    With an eye for every budget, three travelers ...  \n",
       "833   A rogue detective with unorthodox means leads ...  \n",
       "615   In this rock 'n' roll comedy-drama, three wome...  \n",
       "4922  After rigorous testing in 1961, a small group ...  \n",
       "7759  Two men who grew up in Mumbai's slums are draw...  \n",
       "3454  This docuseries travels deep into the heart of...  "
      ]
     },
     "execution_count": 10,
     "metadata": {},
     "output_type": "execute_result"
    }
   ],
   "source": [
    "df.sample(10)"
   ]
  },
  {
   "cell_type": "code",
   "execution_count": 46,
   "id": "54688903",
   "metadata": {},
   "outputs": [],
   "source": [
    "df['director']= df['director'].fillna('Unknown')\n",
    "df['country']=df['country'].fillna('Unknown')\n",
    "\n",
    "df['rating'] = df['rating'].fillna(df['rating'].mode()[0])\n",
    "\n",
    "\n"
   ]
  },
  {
   "cell_type": "code",
   "execution_count": 47,
   "id": "6535f943",
   "metadata": {},
   "outputs": [],
   "source": [
    "df['cast']=df['cast'].fillna('Unknown')\n",
    "df['duration']= df['duration'].fillna(df['duration'].mode()[0])"
   ]
  },
  {
   "cell_type": "code",
   "execution_count": 48,
   "id": "c13b350f",
   "metadata": {},
   "outputs": [
    {
     "data": {
      "application/vnd.microsoft.datawrangler.viewer.v0+json": {
       "columns": [
        {
         "name": "index",
         "rawType": "int64",
         "type": "integer"
        },
        {
         "name": "show_id",
         "rawType": "object",
         "type": "string"
        },
        {
         "name": "type",
         "rawType": "object",
         "type": "string"
        },
        {
         "name": "title",
         "rawType": "object",
         "type": "string"
        },
        {
         "name": "director",
         "rawType": "object",
         "type": "string"
        },
        {
         "name": "cast",
         "rawType": "object",
         "type": "string"
        },
        {
         "name": "country",
         "rawType": "object",
         "type": "string"
        },
        {
         "name": "date_added",
         "rawType": "object",
         "type": "string"
        },
        {
         "name": "release_year",
         "rawType": "int64",
         "type": "integer"
        },
        {
         "name": "rating",
         "rawType": "object",
         "type": "string"
        },
        {
         "name": "duration",
         "rawType": "object",
         "type": "string"
        },
        {
         "name": "listed_in",
         "rawType": "object",
         "type": "string"
        },
        {
         "name": "description",
         "rawType": "object",
         "type": "string"
        }
       ],
       "ref": "8352d152-2024-49c7-81b9-f664c967a069",
       "rows": [
        [
         "198",
         "s199",
         "TV Show",
         "King of Boys: The Return of the King",
         "Kemi Adetiba",
         "Sola Sobowale, Toni Tones, Richard Mofe-Damijo, Efa Iwara, Titi Kuti, Tobechukwu \"iLLbliss\" Ejiofor, Remilekun \"Reminisce\" Safaru, Charles  \"Charly Boy\" Oputa, Nse Ikpe-Etim, Keppy Ekpenyong Bassey, Bimbo Manuel, Akin Lewis, Lord Frank, Osas Ighodaro, Taiwo Ajai-Lycett, Paul Sambo",
         "Nigeria",
         "August 27, 2021",
         "2021",
         "TV-MA",
         "1 Season",
         "Crime TV Shows, International TV Shows, TV Dramas",
         "Alhaja Eniola Salami starts anew and sets her sights on a different position of power, fueled by revenge, regret and ruthlessness."
        ],
        [
         "5692",
         "s5693",
         "TV Show",
         "Lost & Found Music Studios",
         "Unknown",
         "Victoria Baldesarra, Sarah Carmosino, Jordan Clark, DeShaun Clarke, Keara Graves, Katrina Hachey, Shane Harte, Ali Milner, Levi Randall, Brittany Raymond, Trevor Tordjman, Michael Torontow, Alex Zaichkowski, Matthew Bacik, Alyssa Baker, Ella Jonas Farlinger, Ian Matthews, Rakim Kelly, Bailey Pelkman, Olivia Solo",
         "Canada",
         "December 3, 2016",
         "2016",
         "TV-G",
         "2 Seasons",
         "Kids' TV, TV Comedies, TV Dramas",
         "Teen singers-songwriters in an elite music program form bonds of friendship, creativity and romance while turning their passion into their profession."
        ],
        [
         "596",
         "s597",
         "Movie",
         "Sword of Trust",
         "Lynn Shelton",
         "Marc Maron, Jon Bass, Michaela Watkins, Jillian Bell, Toby Huss, Dan Bakkedahl, Lynn Shelton, Whitmer Thomas",
         "United States",
         "July 1, 2021",
         "2019",
         "R",
         "89 min",
         "Comedies, Dramas, Independent Movies",
         "An offbeat foursome takes a wild journey through the Southern belt of denial to sell a relic purporting to prove the South won the Civil War."
        ],
        [
         "8170",
         "s8171",
         "Movie",
         "Teshan",
         "Sukhbir Singh",
         "Happy Raikoti, Diljott, Prince Kanwaljit Singh, Karamjit Anmol, Harinder Bhullar, Virast Sandhu, Anita Devgan, Simran Sehajpal",
         "India",
         "October 15, 2017",
         "2016",
         "TV-PG",
         "133 min",
         "Comedies, International Movies, Romantic Movies",
         "New beginnings appear to be on the horizon after a simple country boy forms a bond with a sophisticated urban girl with modern ideas."
        ],
        [
         "7395",
         "s7396",
         "Movie",
         "Manglehorn",
         "David Gordon Green",
         "Al Pacino, Holly Hunter, Harmony Korine, Chris Messina, Skylar Gasper, Brian D. Mays, Herculano Trevino, Angela Woods",
         "United States",
         "April 16, 2017",
         "2014",
         "PG-13",
         "97 min",
         "Dramas, Independent Movies",
         "A reclusive small-town locksmith who can't stop writing letters to a lost love meets a kindly bank teller who challenges him to look to the future."
        ],
        [
         "3172",
         "s3173",
         "Movie",
         "Spirit Riding Free: Spirit of Christmas",
         "Unknown",
         "Amber Frank, Bailey Gambertoglio, Sydney Park, Evan Agos, Kay Bess, Darcy Rose Byrnes, David Faustino, Gabriella Graves, Duncan Joiner, Katherine McNamara, Nolan North, Tiya Sircar",
         "United States",
         "December 6, 2019",
         "2019",
         "TV-Y7",
         "46 min",
         "Children & Family Movies",
         "Lucky and friends must figure out how to get home in time for Christmas when a falling boulder – and a serious snowstorm – derail their travel plans."
        ],
        [
         "1720",
         "s1721",
         "Movie",
         "What We Wanted",
         "Ulrike Kofler",
         "Lavinia Wilson, Elyas M'Barek, Anna Unterberger, Lukas Spisser, Iva Höpperger, Fedor Teyml, Marta Manduca, Maria Hofstätter, Tina Haller",
         "Austria",
         "November 11, 2020",
         "2020",
         "TV-MA",
         "93 min",
         "Dramas, International Movies",
         "A couple facing fertility issues finds their marriage tested on a vacation to a Sardinian resort — and the family next door only adds to the tension."
        ],
        [
         "7966",
         "s7967",
         "Movie",
         "Season of the Witch",
         "Dominic Sena",
         "Nicolas Cage, Ron Perlman, Christopher Lee, Stephen Campbell Moore, Stephen Graham, Ulrich Thomsen, Claire Foy, Robert Sheehan, Kevin Rees, Andrew Hefler",
         "United States",
         "April 26, 2019",
         "2011",
         "PG-13",
         "95 min",
         "Action & Adventure, Sci-Fi & Fantasy",
         "A group of weary warriors transport a suspected witch believed to be responsible for spreading the devastating Black Plague."
        ],
        [
         "8304",
         "s8305",
         "Movie",
         "The Flintstones",
         "Brian Levant",
         "John Goodman, Elizabeth Perkins, Rick Moranis, Rosie O'Donnell, Kyle MacLachlan, Halle Berry, Elizabeth Taylor, Dann Florek, Sam Raimi, Harvey Korman",
         "United States",
         "October 1, 2019",
         "1994",
         "PG",
         "91 min",
         "Children & Family Movies, Comedies",
         "The Flintstones hit the big screen in this live-action comedy that finds Fred and Barney struggling to cope with the pressures of work and family."
        ],
        [
         "801",
         "s802",
         "Movie",
         "Never Back Down 2: The Beatdown",
         "Michael Jai White",
         "Michael Jai White, Dean Geyer, Alex Meraz, Todd Duffee, Scottie Epstein, Jillian Murray, Evan Peters, Stacey Asaro, Gralen Bryant Banks, Rus Blackwell",
         "United States",
         "June 2, 2021",
         "2011",
         "R",
         "104 min",
         "Action & Adventure, Dramas, Sports Movies",
         "A group of mixed martial arts fighters stars in this action thriller that follows a quartet of brawlers as they prepare for a major underground event."
        ]
       ],
       "shape": {
        "columns": 12,
        "rows": 10
       }
      },
      "text/html": [
       "<div>\n",
       "<style scoped>\n",
       "    .dataframe tbody tr th:only-of-type {\n",
       "        vertical-align: middle;\n",
       "    }\n",
       "\n",
       "    .dataframe tbody tr th {\n",
       "        vertical-align: top;\n",
       "    }\n",
       "\n",
       "    .dataframe thead th {\n",
       "        text-align: right;\n",
       "    }\n",
       "</style>\n",
       "<table border=\"1\" class=\"dataframe\">\n",
       "  <thead>\n",
       "    <tr style=\"text-align: right;\">\n",
       "      <th></th>\n",
       "      <th>show_id</th>\n",
       "      <th>type</th>\n",
       "      <th>title</th>\n",
       "      <th>director</th>\n",
       "      <th>cast</th>\n",
       "      <th>country</th>\n",
       "      <th>date_added</th>\n",
       "      <th>release_year</th>\n",
       "      <th>rating</th>\n",
       "      <th>duration</th>\n",
       "      <th>listed_in</th>\n",
       "      <th>description</th>\n",
       "    </tr>\n",
       "  </thead>\n",
       "  <tbody>\n",
       "    <tr>\n",
       "      <th>198</th>\n",
       "      <td>s199</td>\n",
       "      <td>TV Show</td>\n",
       "      <td>King of Boys: The Return of the King</td>\n",
       "      <td>Kemi Adetiba</td>\n",
       "      <td>Sola Sobowale, Toni Tones, Richard Mofe-Damijo...</td>\n",
       "      <td>Nigeria</td>\n",
       "      <td>August 27, 2021</td>\n",
       "      <td>2021</td>\n",
       "      <td>TV-MA</td>\n",
       "      <td>1 Season</td>\n",
       "      <td>Crime TV Shows, International TV Shows, TV Dramas</td>\n",
       "      <td>Alhaja Eniola Salami starts anew and sets her ...</td>\n",
       "    </tr>\n",
       "    <tr>\n",
       "      <th>5692</th>\n",
       "      <td>s5693</td>\n",
       "      <td>TV Show</td>\n",
       "      <td>Lost &amp; Found Music Studios</td>\n",
       "      <td>Unknown</td>\n",
       "      <td>Victoria Baldesarra, Sarah Carmosino, Jordan C...</td>\n",
       "      <td>Canada</td>\n",
       "      <td>December 3, 2016</td>\n",
       "      <td>2016</td>\n",
       "      <td>TV-G</td>\n",
       "      <td>2 Seasons</td>\n",
       "      <td>Kids' TV, TV Comedies, TV Dramas</td>\n",
       "      <td>Teen singers-songwriters in an elite music pro...</td>\n",
       "    </tr>\n",
       "    <tr>\n",
       "      <th>596</th>\n",
       "      <td>s597</td>\n",
       "      <td>Movie</td>\n",
       "      <td>Sword of Trust</td>\n",
       "      <td>Lynn Shelton</td>\n",
       "      <td>Marc Maron, Jon Bass, Michaela Watkins, Jillia...</td>\n",
       "      <td>United States</td>\n",
       "      <td>July 1, 2021</td>\n",
       "      <td>2019</td>\n",
       "      <td>R</td>\n",
       "      <td>89 min</td>\n",
       "      <td>Comedies, Dramas, Independent Movies</td>\n",
       "      <td>An offbeat foursome takes a wild journey throu...</td>\n",
       "    </tr>\n",
       "    <tr>\n",
       "      <th>8170</th>\n",
       "      <td>s8171</td>\n",
       "      <td>Movie</td>\n",
       "      <td>Teshan</td>\n",
       "      <td>Sukhbir Singh</td>\n",
       "      <td>Happy Raikoti, Diljott, Prince Kanwaljit Singh...</td>\n",
       "      <td>India</td>\n",
       "      <td>October 15, 2017</td>\n",
       "      <td>2016</td>\n",
       "      <td>TV-PG</td>\n",
       "      <td>133 min</td>\n",
       "      <td>Comedies, International Movies, Romantic Movies</td>\n",
       "      <td>New beginnings appear to be on the horizon aft...</td>\n",
       "    </tr>\n",
       "    <tr>\n",
       "      <th>7395</th>\n",
       "      <td>s7396</td>\n",
       "      <td>Movie</td>\n",
       "      <td>Manglehorn</td>\n",
       "      <td>David Gordon Green</td>\n",
       "      <td>Al Pacino, Holly Hunter, Harmony Korine, Chris...</td>\n",
       "      <td>United States</td>\n",
       "      <td>April 16, 2017</td>\n",
       "      <td>2014</td>\n",
       "      <td>PG-13</td>\n",
       "      <td>97 min</td>\n",
       "      <td>Dramas, Independent Movies</td>\n",
       "      <td>A reclusive small-town locksmith who can't sto...</td>\n",
       "    </tr>\n",
       "    <tr>\n",
       "      <th>3172</th>\n",
       "      <td>s3173</td>\n",
       "      <td>Movie</td>\n",
       "      <td>Spirit Riding Free: Spirit of Christmas</td>\n",
       "      <td>Unknown</td>\n",
       "      <td>Amber Frank, Bailey Gambertoglio, Sydney Park,...</td>\n",
       "      <td>United States</td>\n",
       "      <td>December 6, 2019</td>\n",
       "      <td>2019</td>\n",
       "      <td>TV-Y7</td>\n",
       "      <td>46 min</td>\n",
       "      <td>Children &amp; Family Movies</td>\n",
       "      <td>Lucky and friends must figure out how to get h...</td>\n",
       "    </tr>\n",
       "    <tr>\n",
       "      <th>1720</th>\n",
       "      <td>s1721</td>\n",
       "      <td>Movie</td>\n",
       "      <td>What We Wanted</td>\n",
       "      <td>Ulrike Kofler</td>\n",
       "      <td>Lavinia Wilson, Elyas M'Barek, Anna Unterberge...</td>\n",
       "      <td>Austria</td>\n",
       "      <td>November 11, 2020</td>\n",
       "      <td>2020</td>\n",
       "      <td>TV-MA</td>\n",
       "      <td>93 min</td>\n",
       "      <td>Dramas, International Movies</td>\n",
       "      <td>A couple facing fertility issues finds their m...</td>\n",
       "    </tr>\n",
       "    <tr>\n",
       "      <th>7966</th>\n",
       "      <td>s7967</td>\n",
       "      <td>Movie</td>\n",
       "      <td>Season of the Witch</td>\n",
       "      <td>Dominic Sena</td>\n",
       "      <td>Nicolas Cage, Ron Perlman, Christopher Lee, St...</td>\n",
       "      <td>United States</td>\n",
       "      <td>April 26, 2019</td>\n",
       "      <td>2011</td>\n",
       "      <td>PG-13</td>\n",
       "      <td>95 min</td>\n",
       "      <td>Action &amp; Adventure, Sci-Fi &amp; Fantasy</td>\n",
       "      <td>A group of weary warriors transport a suspecte...</td>\n",
       "    </tr>\n",
       "    <tr>\n",
       "      <th>8304</th>\n",
       "      <td>s8305</td>\n",
       "      <td>Movie</td>\n",
       "      <td>The Flintstones</td>\n",
       "      <td>Brian Levant</td>\n",
       "      <td>John Goodman, Elizabeth Perkins, Rick Moranis,...</td>\n",
       "      <td>United States</td>\n",
       "      <td>October 1, 2019</td>\n",
       "      <td>1994</td>\n",
       "      <td>PG</td>\n",
       "      <td>91 min</td>\n",
       "      <td>Children &amp; Family Movies, Comedies</td>\n",
       "      <td>The Flintstones hit the big screen in this liv...</td>\n",
       "    </tr>\n",
       "    <tr>\n",
       "      <th>801</th>\n",
       "      <td>s802</td>\n",
       "      <td>Movie</td>\n",
       "      <td>Never Back Down 2: The Beatdown</td>\n",
       "      <td>Michael Jai White</td>\n",
       "      <td>Michael Jai White, Dean Geyer, Alex Meraz, Tod...</td>\n",
       "      <td>United States</td>\n",
       "      <td>June 2, 2021</td>\n",
       "      <td>2011</td>\n",
       "      <td>R</td>\n",
       "      <td>104 min</td>\n",
       "      <td>Action &amp; Adventure, Dramas, Sports Movies</td>\n",
       "      <td>A group of mixed martial arts fighters stars i...</td>\n",
       "    </tr>\n",
       "  </tbody>\n",
       "</table>\n",
       "</div>"
      ],
      "text/plain": [
       "     show_id     type                                    title  \\\n",
       "198     s199  TV Show     King of Boys: The Return of the King   \n",
       "5692   s5693  TV Show               Lost & Found Music Studios   \n",
       "596     s597    Movie                           Sword of Trust   \n",
       "8170   s8171    Movie                                   Teshan   \n",
       "7395   s7396    Movie                               Manglehorn   \n",
       "3172   s3173    Movie  Spirit Riding Free: Spirit of Christmas   \n",
       "1720   s1721    Movie                           What We Wanted   \n",
       "7966   s7967    Movie                      Season of the Witch   \n",
       "8304   s8305    Movie                          The Flintstones   \n",
       "801     s802    Movie          Never Back Down 2: The Beatdown   \n",
       "\n",
       "                director                                               cast  \\\n",
       "198         Kemi Adetiba  Sola Sobowale, Toni Tones, Richard Mofe-Damijo...   \n",
       "5692             Unknown  Victoria Baldesarra, Sarah Carmosino, Jordan C...   \n",
       "596         Lynn Shelton  Marc Maron, Jon Bass, Michaela Watkins, Jillia...   \n",
       "8170       Sukhbir Singh  Happy Raikoti, Diljott, Prince Kanwaljit Singh...   \n",
       "7395  David Gordon Green  Al Pacino, Holly Hunter, Harmony Korine, Chris...   \n",
       "3172             Unknown  Amber Frank, Bailey Gambertoglio, Sydney Park,...   \n",
       "1720       Ulrike Kofler  Lavinia Wilson, Elyas M'Barek, Anna Unterberge...   \n",
       "7966        Dominic Sena  Nicolas Cage, Ron Perlman, Christopher Lee, St...   \n",
       "8304        Brian Levant  John Goodman, Elizabeth Perkins, Rick Moranis,...   \n",
       "801    Michael Jai White  Michael Jai White, Dean Geyer, Alex Meraz, Tod...   \n",
       "\n",
       "            country         date_added  release_year rating   duration  \\\n",
       "198         Nigeria    August 27, 2021          2021  TV-MA   1 Season   \n",
       "5692         Canada   December 3, 2016          2016   TV-G  2 Seasons   \n",
       "596   United States       July 1, 2021          2019      R     89 min   \n",
       "8170          India   October 15, 2017          2016  TV-PG    133 min   \n",
       "7395  United States     April 16, 2017          2014  PG-13     97 min   \n",
       "3172  United States   December 6, 2019          2019  TV-Y7     46 min   \n",
       "1720        Austria  November 11, 2020          2020  TV-MA     93 min   \n",
       "7966  United States     April 26, 2019          2011  PG-13     95 min   \n",
       "8304  United States    October 1, 2019          1994     PG     91 min   \n",
       "801   United States       June 2, 2021          2011      R    104 min   \n",
       "\n",
       "                                              listed_in  \\\n",
       "198   Crime TV Shows, International TV Shows, TV Dramas   \n",
       "5692                   Kids' TV, TV Comedies, TV Dramas   \n",
       "596                Comedies, Dramas, Independent Movies   \n",
       "8170    Comedies, International Movies, Romantic Movies   \n",
       "7395                         Dramas, Independent Movies   \n",
       "3172                           Children & Family Movies   \n",
       "1720                       Dramas, International Movies   \n",
       "7966               Action & Adventure, Sci-Fi & Fantasy   \n",
       "8304                 Children & Family Movies, Comedies   \n",
       "801           Action & Adventure, Dramas, Sports Movies   \n",
       "\n",
       "                                            description  \n",
       "198   Alhaja Eniola Salami starts anew and sets her ...  \n",
       "5692  Teen singers-songwriters in an elite music pro...  \n",
       "596   An offbeat foursome takes a wild journey throu...  \n",
       "8170  New beginnings appear to be on the horizon aft...  \n",
       "7395  A reclusive small-town locksmith who can't sto...  \n",
       "3172  Lucky and friends must figure out how to get h...  \n",
       "1720  A couple facing fertility issues finds their m...  \n",
       "7966  A group of weary warriors transport a suspecte...  \n",
       "8304  The Flintstones hit the big screen in this liv...  \n",
       "801   A group of mixed martial arts fighters stars i...  "
      ]
     },
     "execution_count": 48,
     "metadata": {},
     "output_type": "execute_result"
    }
   ],
   "source": [
    "df.sample(10)"
   ]
  },
  {
   "cell_type": "code",
   "execution_count": 49,
   "id": "3ab7b063",
   "metadata": {},
   "outputs": [
    {
     "data": {
      "application/vnd.microsoft.datawrangler.viewer.v0+json": {
       "columns": [
        {
         "name": "index",
         "rawType": "object",
         "type": "string"
        },
        {
         "name": "0",
         "rawType": "int64",
         "type": "integer"
        }
       ],
       "ref": "2a22c76c-8ecb-4b12-ac77-d4f58ba041e5",
       "rows": [
        [
         "show_id",
         "0"
        ],
        [
         "type",
         "0"
        ],
        [
         "title",
         "0"
        ],
        [
         "director",
         "0"
        ],
        [
         "cast",
         "0"
        ],
        [
         "country",
         "0"
        ],
        [
         "date_added",
         "0"
        ],
        [
         "release_year",
         "0"
        ],
        [
         "rating",
         "0"
        ],
        [
         "duration",
         "0"
        ],
        [
         "listed_in",
         "0"
        ],
        [
         "description",
         "0"
        ]
       ],
       "shape": {
        "columns": 1,
        "rows": 12
       }
      },
      "text/plain": [
       "show_id         0\n",
       "type            0\n",
       "title           0\n",
       "director        0\n",
       "cast            0\n",
       "country         0\n",
       "date_added      0\n",
       "release_year    0\n",
       "rating          0\n",
       "duration        0\n",
       "listed_in       0\n",
       "description     0\n",
       "dtype: int64"
      ]
     },
     "execution_count": 49,
     "metadata": {},
     "output_type": "execute_result"
    }
   ],
   "source": [
    "df.isnull().sum()"
   ]
  },
  {
   "cell_type": "code",
   "execution_count": 53,
   "id": "8a08fab7",
   "metadata": {},
   "outputs": [
    {
     "data": {
      "application/vnd.microsoft.datawrangler.viewer.v0+json": {
       "columns": [
        {
         "name": "index",
         "rawType": "int64",
         "type": "integer"
        },
        {
         "name": "date_added",
         "rawType": "datetime64[ns]",
         "type": "datetime"
        },
        {
         "name": "year_added",
         "rawType": "float64",
         "type": "float"
        },
        {
         "name": "month_added",
         "rawType": "float64",
         "type": "float"
        }
       ],
       "ref": "dcd1412b-7cf9-4413-8d0d-3d39dccbefdf",
       "rows": [
        [
         "0",
         "2021-09-25 00:00:00",
         "2021.0",
         "9.0"
        ],
        [
         "1",
         "2021-09-24 00:00:00",
         "2021.0",
         "9.0"
        ],
        [
         "2",
         "2021-09-24 00:00:00",
         "2021.0",
         "9.0"
        ],
        [
         "3",
         "2021-09-24 00:00:00",
         "2021.0",
         "9.0"
        ],
        [
         "4",
         "2021-09-24 00:00:00",
         "2021.0",
         "9.0"
        ]
       ],
       "shape": {
        "columns": 3,
        "rows": 5
       }
      },
      "text/html": [
       "<div>\n",
       "<style scoped>\n",
       "    .dataframe tbody tr th:only-of-type {\n",
       "        vertical-align: middle;\n",
       "    }\n",
       "\n",
       "    .dataframe tbody tr th {\n",
       "        vertical-align: top;\n",
       "    }\n",
       "\n",
       "    .dataframe thead th {\n",
       "        text-align: right;\n",
       "    }\n",
       "</style>\n",
       "<table border=\"1\" class=\"dataframe\">\n",
       "  <thead>\n",
       "    <tr style=\"text-align: right;\">\n",
       "      <th></th>\n",
       "      <th>date_added</th>\n",
       "      <th>year_added</th>\n",
       "      <th>month_added</th>\n",
       "    </tr>\n",
       "  </thead>\n",
       "  <tbody>\n",
       "    <tr>\n",
       "      <th>0</th>\n",
       "      <td>2021-09-25</td>\n",
       "      <td>2021.0</td>\n",
       "      <td>9.0</td>\n",
       "    </tr>\n",
       "    <tr>\n",
       "      <th>1</th>\n",
       "      <td>2021-09-24</td>\n",
       "      <td>2021.0</td>\n",
       "      <td>9.0</td>\n",
       "    </tr>\n",
       "    <tr>\n",
       "      <th>2</th>\n",
       "      <td>2021-09-24</td>\n",
       "      <td>2021.0</td>\n",
       "      <td>9.0</td>\n",
       "    </tr>\n",
       "    <tr>\n",
       "      <th>3</th>\n",
       "      <td>2021-09-24</td>\n",
       "      <td>2021.0</td>\n",
       "      <td>9.0</td>\n",
       "    </tr>\n",
       "    <tr>\n",
       "      <th>4</th>\n",
       "      <td>2021-09-24</td>\n",
       "      <td>2021.0</td>\n",
       "      <td>9.0</td>\n",
       "    </tr>\n",
       "  </tbody>\n",
       "</table>\n",
       "</div>"
      ],
      "text/plain": [
       "  date_added  year_added  month_added\n",
       "0 2021-09-25      2021.0          9.0\n",
       "1 2021-09-24      2021.0          9.0\n",
       "2 2021-09-24      2021.0          9.0\n",
       "3 2021-09-24      2021.0          9.0\n",
       "4 2021-09-24      2021.0          9.0"
      ]
     },
     "execution_count": 53,
     "metadata": {},
     "output_type": "execute_result"
    }
   ],
   "source": [
    "df['date_added'] = pd.to_datetime(df['date_added'],errors='coerce')\n",
    "df['year_added'] = df['date_added'].dt.year\n",
    "df['month_added'] = df['date_added'].dt.month\n",
    "df[['date_added', 'year_added', 'month_added']].head()"
   ]
  },
  {
   "cell_type": "code",
   "execution_count": 60,
   "id": "1407048f",
   "metadata": {},
   "outputs": [
    {
     "data": {
      "text/plain": [
       "np.int64(0)"
      ]
     },
     "execution_count": 60,
     "metadata": {},
     "output_type": "execute_result"
    }
   ],
   "source": [
    "df.duplicated().sum()"
   ]
  }
 ],
 "metadata": {
  "kernelspec": {
   "display_name": "netflix-movies-tv-shows-py3.12 (3.12.4)",
   "language": "python",
   "name": "python3"
  },
  "language_info": {
   "codemirror_mode": {
    "name": "ipython",
    "version": 3
   },
   "file_extension": ".py",
   "mimetype": "text/x-python",
   "name": "python",
   "nbconvert_exporter": "python",
   "pygments_lexer": "ipython3",
   "version": "3.12.4"
  }
 },
 "nbformat": 4,
 "nbformat_minor": 5
}
